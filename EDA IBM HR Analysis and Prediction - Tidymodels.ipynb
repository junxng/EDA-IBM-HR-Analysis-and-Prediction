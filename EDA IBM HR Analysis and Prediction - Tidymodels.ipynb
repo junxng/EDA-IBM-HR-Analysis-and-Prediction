{
 "cells": [
  {
   "cell_type": "code",
   "execution_count": 1,
   "metadata": {
    "vscode": {
     "languageId": "r"
    }
   },
   "outputs": [],
   "source": [
    "knitr::opts_chunk$set(echo = TRUE, warning = FALSE, message = FALSE)"
   ]
  },
  {
   "cell_type": "markdown",
   "metadata": {
    "_cell_guid": "f15d3686-1302-4eea-897b-d67685d3279b",
    "_uuid": "837817d2cb56b704a4d7c623d2ececd13c55031c"
   },
   "source": [
    "# IBM HR Data Analysis\n",
    " \n",
    "### Introduction\n",
    "\n",
    "This notebook inspects the employee attrition (turnover), which is unavoidable but controllable if a wise and sensitive management policy is applied.\n",
    "\n",
    "Attrition is critical in the business these days. It's the main problem which highlights in all the organizations. knowing that the organization loses key skills and knowledge. managers and HR administrators are greatly interested in reducing turnover in the organization in such a way that it will contribute to the maximum effectiveness, and progress of the organization because employees are the most treasured assets of an organization. They add value to the organization in terms of quantity and quality as well. Therefore, it is crucial to maintain a permanent and talented workforce.\n",
    "\n",
    "Attrition, when an organization pushes gently the employees and in a limited level, it can therefore bring advantages to the organization. However, if turnover increases beyond a certain level, the advantages are transformed into disadvantages. Recruiters explain that high attrition rates significantly increase the investment made on employees such as significant investments in time and money need to be made for obtaining skilled employees.\n",
    "\n",
    "The reasons for the attrition are somehow complicated, and they differ from organization to organization and from country to country, depending on the work culture in each country. In this dataset, we are talking about a company specialized in the computers field in the USA. And it is not possible whatsoever to apply the result to another company or another country.\n",
    "\n",
    "\n",
    "### Load labraries"
   ]
  },
  {
   "cell_type": "code",
   "execution_count": 2,
   "metadata": {
    "_cell_guid": "0d4fb00a-c029-410b-9422-6438a4148314",
    "_uuid": "880e05ec1e4cd99c33ce8f9b743c3050bcb96e17",
    "collapsed": true,
    "vscode": {
     "languageId": "r"
    }
   },
   "outputs": [
    {
     "name": "stderr",
     "output_type": "stream",
     "text": [
      "Warning message:\n",
      "\"package 'ggplot2' was built under R version 4.3.1\"\n",
      "── \u001b[1mAttaching core tidyverse packages\u001b[22m ──────────────────────── tidyverse 2.0.0 ──\n",
      "\u001b[32m✔\u001b[39m \u001b[34mdplyr    \u001b[39m 1.1.2     \u001b[32m✔\u001b[39m \u001b[34mreadr    \u001b[39m 2.1.4\n",
      "\u001b[32m✔\u001b[39m \u001b[34mforcats  \u001b[39m 1.0.0     \u001b[32m✔\u001b[39m \u001b[34mstringr  \u001b[39m 1.5.0\n",
      "\u001b[32m✔\u001b[39m \u001b[34mggplot2  \u001b[39m 3.4.2     \u001b[32m✔\u001b[39m \u001b[34mtibble   \u001b[39m 3.2.1\n",
      "\u001b[32m✔\u001b[39m \u001b[34mlubridate\u001b[39m 1.9.2     \u001b[32m✔\u001b[39m \u001b[34mtidyr    \u001b[39m 1.3.0\n",
      "\u001b[32m✔\u001b[39m \u001b[34mpurrr    \u001b[39m 1.0.1     \n",
      "── \u001b[1mConflicts\u001b[22m ────────────────────────────────────────── tidyverse_conflicts() ──\n",
      "\u001b[31m✖\u001b[39m \u001b[34mdplyr\u001b[39m::\u001b[32mfilter()\u001b[39m masks \u001b[34mstats\u001b[39m::filter()\n",
      "\u001b[31m✖\u001b[39m \u001b[34mdplyr\u001b[39m::\u001b[32mlag()\u001b[39m    masks \u001b[34mstats\u001b[39m::lag()\n",
      "\u001b[36mℹ\u001b[39m Use the conflicted package (\u001b[3m\u001b[34m<http://conflicted.r-lib.org/>\u001b[39m\u001b[23m) to force all conflicts to become errors\n",
      "Warning message:\n",
      "\"package 'tidytext' was built under R version 4.3.1\"\n",
      "Warning message:\n",
      "\"package 'janitor' was built under R version 4.3.1\"\n",
      "\n",
      "Attaching package: 'janitor'\n",
      "\n",
      "\n",
      "The following objects are masked from 'package:stats':\n",
      "\n",
      "    chisq.test, fisher.test\n",
      "\n",
      "\n",
      "\n",
      "Attaching package: 'scales'\n",
      "\n",
      "\n",
      "The following object is masked from 'package:purrr':\n",
      "\n",
      "    discard\n",
      "\n",
      "\n",
      "The following object is masked from 'package:readr':\n",
      "\n",
      "    col_factor\n",
      "\n",
      "\n",
      "Warning message:\n",
      "\"package 'plotly' was built under R version 4.3.1\"\n",
      "\n",
      "Attaching package: 'plotly'\n",
      "\n",
      "\n",
      "The following object is masked from 'package:ggplot2':\n",
      "\n",
      "    last_plot\n",
      "\n",
      "\n",
      "The following object is masked from 'package:stats':\n",
      "\n",
      "    filter\n",
      "\n",
      "\n",
      "The following object is masked from 'package:graphics':\n",
      "\n",
      "    layout\n",
      "\n",
      "\n",
      "Warning message:\n",
      "\"package 'patchwork' was built under R version 4.3.1\"\n",
      "Warning message:\n",
      "\"package 'skimr' was built under R version 4.3.1\"\n",
      "Warning message:\n",
      "\"package 'GGally' was built under R version 4.3.1\"\n",
      "Registered S3 method overwritten by 'GGally':\n",
      "  method from   \n",
      "  +.gg   ggplot2\n",
      "\n",
      "Warning message:\n",
      "\"package 'tidymodels' was built under R version 4.3.1\"\n",
      "── \u001b[1mAttaching packages\u001b[22m ────────────────────────────────────── tidymodels 1.1.0 ──\n",
      "\n",
      "\u001b[32m✔\u001b[39m \u001b[34mbroom       \u001b[39m 1.0.5     \u001b[32m✔\u001b[39m \u001b[34mrsample     \u001b[39m 1.1.1\n",
      "\u001b[32m✔\u001b[39m \u001b[34mdials       \u001b[39m 1.2.0     \u001b[32m✔\u001b[39m \u001b[34mtune        \u001b[39m 1.1.1\n",
      "\u001b[32m✔\u001b[39m \u001b[34minfer       \u001b[39m 1.0.4     \u001b[32m✔\u001b[39m \u001b[34mworkflows   \u001b[39m 1.1.3\n",
      "\u001b[32m✔\u001b[39m \u001b[34mmodeldata   \u001b[39m 1.1.0     \u001b[32m✔\u001b[39m \u001b[34mworkflowsets\u001b[39m 1.0.1\n",
      "\u001b[32m✔\u001b[39m \u001b[34mparsnip     \u001b[39m 1.1.0     \u001b[32m✔\u001b[39m \u001b[34myardstick   \u001b[39m 1.2.0\n",
      "\u001b[32m✔\u001b[39m \u001b[34mrecipes     \u001b[39m 1.0.6     \n",
      "\n",
      "Warning message:\n",
      "\"package 'dials' was built under R version 4.3.1\"\n",
      "Warning message:\n",
      "\"package 'infer' was built under R version 4.3.1\"\n",
      "Warning message:\n",
      "\"package 'modeldata' was built under R version 4.3.1\"\n",
      "Warning message:\n",
      "\"package 'parsnip' was built under R version 4.3.1\"\n",
      "Warning message:\n",
      "\"package 'recipes' was built under R version 4.3.1\"\n",
      "Warning message:\n",
      "\"package 'rsample' was built under R version 4.3.1\"\n",
      "Warning message:\n",
      "\"package 'tune' was built under R version 4.3.1\"\n",
      "Warning message:\n",
      "\"package 'workflows' was built under R version 4.3.1\"\n",
      "Warning message:\n",
      "\"package 'workflowsets' was built under R version 4.3.1\"\n",
      "Warning message:\n",
      "\"package 'yardstick' was built under R version 4.3.1\"\n",
      "── \u001b[1mConflicts\u001b[22m ───────────────────────────────────────── tidymodels_conflicts() ──\n",
      "\u001b[31m✖\u001b[39m \u001b[34mscales\u001b[39m::\u001b[32mdiscard()\u001b[39m masks \u001b[34mpurrr\u001b[39m::discard()\n",
      "\u001b[31m✖\u001b[39m \u001b[34mplotly\u001b[39m::\u001b[32mfilter()\u001b[39m  masks \u001b[34mdplyr\u001b[39m::filter(), \u001b[34mstats\u001b[39m::filter()\n",
      "\u001b[31m✖\u001b[39m \u001b[34mrecipes\u001b[39m::\u001b[32mfixed()\u001b[39m  masks \u001b[34mstringr\u001b[39m::fixed()\n",
      "\u001b[31m✖\u001b[39m \u001b[34mdplyr\u001b[39m::\u001b[32mlag()\u001b[39m      masks \u001b[34mstats\u001b[39m::lag()\n",
      "\u001b[31m✖\u001b[39m \u001b[34myardstick\u001b[39m::\u001b[32mspec()\u001b[39m masks \u001b[34mreadr\u001b[39m::spec()\n",
      "\u001b[31m✖\u001b[39m \u001b[34mrecipes\u001b[39m::\u001b[32mstep()\u001b[39m   masks \u001b[34mstats\u001b[39m::step()\n",
      "\u001b[34m•\u001b[39m Use \u001b[32mtidymodels_prefer()\u001b[39m to resolve common conflicts.\n",
      "\n",
      "Warning message:\n",
      "\"package 'themis' was built under R version 4.3.1\"\n",
      "\n",
      "Attaching package: 'vip'\n",
      "\n",
      "\n",
      "The following object is masked from 'package:utils':\n",
      "\n",
      "    vi\n",
      "\n",
      "\n"
     ]
    }
   ],
   "source": [
    "library(tidyverse)\n",
    "library(tidytext)\n",
    "library(janitor)\n",
    "library(scales)\n",
    "library(plotly)\n",
    "library(glue)\n",
    "library(patchwork)\n",
    "library(skimr)\n",
    "library(GGally)\n",
    "library(RColorBrewer)\n",
    "\n",
    "# Model\n",
    "library(tidymodels)\n",
    "library(themis)\n",
    "library(vip)\n",
    "\n",
    "theme_set(theme_light())"
   ]
  },
  {
   "cell_type": "markdown",
   "metadata": {
    "_cell_guid": "5e2bcf5b-e0d7-4da6-a2af-a4788ea7d7b4",
    "_uuid": "9df80b08f1d86c5401e9c6fab0741aee291844da"
   },
   "source": [
    "## A. EDA\n",
    "\n",
    "### DATA\n",
    "\n",
    "#### Read data\n"
   ]
  },
  {
   "cell_type": "code",
   "execution_count": 3,
   "metadata": {
    "_cell_guid": "7452a520-a46c-415a-a947-06dff5b2a9f1",
    "_uuid": "fa04ca430f87b16eeedc3a4746b0e0d348cb95ed",
    "collapsed": true,
    "vscode": {
     "languageId": "r"
    }
   },
   "outputs": [],
   "source": [
    "myData <- read_csv(\"WA_Fn-UseC_-HR-Employee-Attrition.csv\", show_col_types = FALSE)"
   ]
  },
  {
   "cell_type": "markdown",
   "metadata": {
    "_cell_guid": "767c7641-cfae-45cf-9fe7-96ddea8fb896",
    "_uuid": "01320117a0ebafdd8cff4abfdd4368d5bddff03d"
   },
   "source": [
    "### About the Dataset"
   ]
  },
  {
   "cell_type": "code",
   "execution_count": 4,
   "metadata": {
    "vscode": {
     "languageId": "r"
    }
   },
   "outputs": [
    {
     "name": "stdout",
     "output_type": "stream",
     "text": [
      "── Data Summary ────────────────────────\n",
      "                           Values\n",
      "Name                       myData\n",
      "Number of rows             1470  \n",
      "Number of columns          35    \n",
      "_______________________          \n",
      "Column type frequency:           \n",
      "  character                9     \n",
      "  numeric                  26    \n",
      "________________________         \n",
      "Group variables            None  \n",
      "\n",
      "── Variable type: character ────────────────────────────────────────────────────\n",
      "  skim_variable  n_missing complete_rate min max empty n_unique whitespace\n",
      "\u001b[90m1\u001b[39m Attrition              0             1   2   3     0        2          0\n",
      "\u001b[90m2\u001b[39m BusinessTravel         0             1  10  17     0        3          0\n",
      "\u001b[90m3\u001b[39m Department             0             1   5  22     0        3          0\n",
      "\u001b[90m4\u001b[39m EducationField         0             1   5  16     0        6          0\n",
      "\u001b[90m5\u001b[39m Gender                 0             1   4   6     0        2          0\n",
      "\u001b[90m6\u001b[39m JobRole                0             1   7  25     0        9          0\n",
      "\u001b[90m7\u001b[39m MaritalStatus          0             1   6   8     0        3          0\n",
      "\u001b[90m8\u001b[39m Over18                 0             1   1   1     0        1          0\n",
      "\u001b[90m9\u001b[39m OverTime               0             1   2   3     0        2          0\n",
      "\n",
      "── Variable type: numeric ──────────────────────────────────────────────────────\n",
      "   skim_variable            n_missing complete_rate      mean       sd   p0\n",
      "\u001b[90m 1\u001b[39m Age                              0             1    36.9      9.14    18\n",
      "\u001b[90m 2\u001b[39m DailyRate                        0             1   802.     404.     102\n",
      "\u001b[90m 3\u001b[39m DistanceFromHome                 0             1     9.19     8.11     1\n",
      "\u001b[90m 4\u001b[39m Education                        0             1     2.91     1.02     1\n",
      "\u001b[90m 5\u001b[39m EmployeeCount                    0             1     1        0        1\n",
      "\u001b[90m 6\u001b[39m EmployeeNumber                   0             1  \u001b[4m1\u001b[24m025.     602.       1\n",
      "\u001b[90m 7\u001b[39m EnvironmentSatisfaction          0             1     2.72     1.09     1\n",
      "\u001b[90m 8\u001b[39m HourlyRate                       0             1    65.9     20.3     30\n",
      "\u001b[90m 9\u001b[39m JobInvolvement                   0             1     2.73     0.712    1\n",
      "\u001b[90m10\u001b[39m JobLevel                         0             1     2.06     1.11     1\n",
      "\u001b[90m11\u001b[39m JobSatisfaction                  0             1     2.73     1.10     1\n",
      "\u001b[90m12\u001b[39m MonthlyIncome                    0             1  \u001b[4m6\u001b[24m503.    \u001b[4m4\u001b[24m708.    \u001b[4m1\u001b[24m009\n",
      "\u001b[90m13\u001b[39m MonthlyRate                      0             1 \u001b[4m1\u001b[24m\u001b[4m4\u001b[24m313.    \u001b[4m7\u001b[24m118.    \u001b[4m2\u001b[24m094\n",
      "\u001b[90m14\u001b[39m NumCompaniesWorked               0             1     2.69     2.50     0\n",
      "\u001b[90m15\u001b[39m PercentSalaryHike                0             1    15.2      3.66    11\n",
      "\u001b[90m16\u001b[39m PerformanceRating                0             1     3.15     0.361    3\n",
      "\u001b[90m17\u001b[39m RelationshipSatisfaction         0             1     2.71     1.08     1\n",
      "\u001b[90m18\u001b[39m StandardHours                    0             1    80        0       80\n",
      "\u001b[90m19\u001b[39m StockOptionLevel                 0             1     0.794    0.852    0\n",
      "\u001b[90m20\u001b[39m TotalWorkingYears                0             1    11.3      7.78     0\n",
      "\u001b[90m21\u001b[39m TrainingTimesLastYear            0             1     2.80     1.29     0\n",
      "\u001b[90m22\u001b[39m WorkLifeBalance                  0             1     2.76     0.706    1\n",
      "\u001b[90m23\u001b[39m YearsAtCompany                   0             1     7.01     6.13     0\n",
      "\u001b[90m24\u001b[39m YearsInCurrentRole               0             1     4.23     3.62     0\n",
      "\u001b[90m25\u001b[39m YearsSinceLastPromotion          0             1     2.19     3.22     0\n",
      "\u001b[90m26\u001b[39m YearsWithCurrManager             0             1     4.12     3.57     0\n",
      "     p25    p50     p75  p100 hist \n",
      "\u001b[90m 1\u001b[39m   30     36     43      60 ▂▇▇▃▂\n",
      "\u001b[90m 2\u001b[39m  465    802   \u001b[4m1\u001b[24m157    \u001b[4m1\u001b[24m499 ▇▇▇▇▇\n",
      "\u001b[90m 3\u001b[39m    2      7     14      29 ▇▅▂▂▂\n",
      "\u001b[90m 4\u001b[39m    2      3      4       5 ▂▃▇▆▁\n",
      "\u001b[90m 5\u001b[39m    1      1      1       1 ▁▁▇▁▁\n",
      "\u001b[90m 6\u001b[39m  491.  \u001b[4m1\u001b[24m020.  \u001b[4m1\u001b[24m556.   \u001b[4m2\u001b[24m068 ▇▇▇▇▇\n",
      "\u001b[90m 7\u001b[39m    2      3      4       4 ▅▅▁▇▇\n",
      "\u001b[90m 8\u001b[39m   48     66     83.8   100 ▇▇▇▇▇\n",
      "\u001b[90m 9\u001b[39m    2      3      3       4 ▁▃▁▇▁\n",
      "\u001b[90m10\u001b[39m    1      2      3       5 ▇▇▃▂▁\n",
      "\u001b[90m11\u001b[39m    2      3      4       4 ▅▅▁▇▇\n",
      "\u001b[90m12\u001b[39m \u001b[4m2\u001b[24m911   \u001b[4m4\u001b[24m919   \u001b[4m8\u001b[24m379   \u001b[4m1\u001b[24m\u001b[4m9\u001b[24m999 ▇▅▂▁▂\n",
      "\u001b[90m13\u001b[39m \u001b[4m8\u001b[24m047  \u001b[4m1\u001b[24m\u001b[4m4\u001b[24m236. \u001b[4m2\u001b[24m\u001b[4m0\u001b[24m462.  \u001b[4m2\u001b[24m\u001b[4m6\u001b[24m999 ▇▇▇▇▇\n",
      "\u001b[90m14\u001b[39m    1      2      4       9 ▇▃▂▂▁\n",
      "\u001b[90m15\u001b[39m   12     14     18      25 ▇▅▃▂▁\n",
      "\u001b[90m16\u001b[39m    3      3      3       4 ▇▁▁▁▂\n",
      "\u001b[90m17\u001b[39m    2      3      4       4 ▅▅▁▇▇\n",
      "\u001b[90m18\u001b[39m   80     80     80      80 ▁▁▇▁▁\n",
      "\u001b[90m19\u001b[39m    0      1      1       3 ▇▇▁▂▁\n",
      "\u001b[90m20\u001b[39m    6     10     15      40 ▇▇▂▁▁\n",
      "\u001b[90m21\u001b[39m    2      3      3       6 ▂▇▇▂▃\n",
      "\u001b[90m22\u001b[39m    2      3      3       4 ▁▃▁▇▂\n",
      "\u001b[90m23\u001b[39m    3      5      9      40 ▇▂▁▁▁\n",
      "\u001b[90m24\u001b[39m    2      3      7      18 ▇▃▂▁▁\n",
      "\u001b[90m25\u001b[39m    0      1      3      15 ▇▁▁▁▁\n",
      "\u001b[90m26\u001b[39m    2      3      7      17 ▇▂▅▁▁\n"
     ]
    }
   ],
   "source": [
    "#skim package\n",
    "\n",
    "result <- skim(myData)\n",
    "print(result)"
   ]
  },
  {
   "cell_type": "markdown",
   "metadata": {},
   "source": [
    "-   No Missing data.\n",
    "-   Some numeric variables will be converted to Factor.\n",
    "-   Many variables are positively skewed.\n",
    "-   Standard Hours, Employee Count and Employee Number variables are useless for building a model.\n",
    "-   The Max of Employee Number is greater than the number of dataset's rows.\n",
    "-   Age variable ranging from 18 years to 60 years.\n",
    "-   All character variable will be converted to Factor.\n",
    "-   Distance From Home ranging from 1 to 29.\n",
    "-   Total Working Years ranging from 0 to 40 years.\n",
    "-   Monthly Income ranging from 1009 to 19999.\n",
    "-   Monthly Rate ranging from 2094 to 26999\n",
    "\n",
    "#### Tidy data and Clean names, Convert to factor and creat age group var!"
   ]
  },
  {
   "cell_type": "code",
   "execution_count": 5,
   "metadata": {
    "_cell_guid": "67028837-fa13-4b1f-8d1e-82410aa465b7",
    "_uuid": "fa6d2f7c4f39bb4e83ba2422b5b7aa4fe0b0133e",
    "collapsed": true,
    "vscode": {
     "languageId": "r"
    }
   },
   "outputs": [
    {
     "name": "stdout",
     "output_type": "stream",
     "text": [
      "Rows: 1,470\n",
      "Columns: 36\n",
      "$ age                        \u001b[3m\u001b[90m<dbl>\u001b[39m\u001b[23m 41, 49, 37, 33, 27, 32, 59, 30, 38, 36, 35,…\n",
      "$ attrition                  \u001b[3m\u001b[90m<fct>\u001b[39m\u001b[23m Yes, No, Yes, No, No, No, No, No, No, No, N…\n",
      "$ business_travel            \u001b[3m\u001b[90m<fct>\u001b[39m\u001b[23m Rarely, Frequently, Rarely, Frequently, Rar…\n",
      "$ daily_rate                 \u001b[3m\u001b[90m<dbl>\u001b[39m\u001b[23m 1102, 279, 1373, 1392, 591, 1005, 1324, 135…\n",
      "$ department                 \u001b[3m\u001b[90m<fct>\u001b[39m\u001b[23m Sales, R&D, R&D, R&D, R&D, R&D, R&D, R&D, R…\n",
      "$ distance_from_home         \u001b[3m\u001b[90m<dbl>\u001b[39m\u001b[23m 1, 8, 2, 3, 2, 2, 3, 24, 23, 27, 16, 15, 26…\n",
      "$ education                  \u001b[3m\u001b[90m<dbl>\u001b[39m\u001b[23m 2, 1, 2, 4, 1, 2, 3, 1, 3, 3, 3, 2, 1, 2, 3…\n",
      "$ education_field            \u001b[3m\u001b[90m<fct>\u001b[39m\u001b[23m Life Sciences, Life Sciences, Other, Life S…\n",
      "$ employee_count             \u001b[3m\u001b[90m<dbl>\u001b[39m\u001b[23m 1, 1, 1, 1, 1, 1, 1, 1, 1, 1, 1, 1, 1, 1, 1…\n",
      "$ employee_number            \u001b[3m\u001b[90m<dbl>\u001b[39m\u001b[23m 1, 2, 4, 5, 7, 8, 10, 11, 12, 13, 14, 15, 1…\n",
      "$ environment_satisfaction   \u001b[3m\u001b[90m<dbl>\u001b[39m\u001b[23m 2, 3, 4, 4, 1, 4, 3, 4, 4, 3, 1, 4, 1, 2, 3…\n",
      "$ gender                     \u001b[3m\u001b[90m<fct>\u001b[39m\u001b[23m Female, Male, Male, Female, Male, Male, Fem…\n",
      "$ hourly_rate                \u001b[3m\u001b[90m<dbl>\u001b[39m\u001b[23m 94, 61, 92, 56, 40, 79, 81, 67, 44, 94, 84,…\n",
      "$ job_involvement            \u001b[3m\u001b[90m<dbl>\u001b[39m\u001b[23m 3, 2, 2, 3, 3, 3, 4, 3, 2, 3, 4, 2, 3, 3, 2…\n",
      "$ job_level                  \u001b[3m\u001b[90m<fct>\u001b[39m\u001b[23m 2, 2, 1, 1, 1, 1, 1, 1, 3, 2, 1, 2, 1, 1, 1…\n",
      "$ job_role                   \u001b[3m\u001b[90m<fct>\u001b[39m\u001b[23m Sales Executive, Research Scientist, Labora…\n",
      "$ job_satisfaction           \u001b[3m\u001b[90m<dbl>\u001b[39m\u001b[23m 4, 2, 3, 3, 2, 4, 1, 3, 3, 3, 2, 3, 3, 4, 3…\n",
      "$ marital_status             \u001b[3m\u001b[90m<fct>\u001b[39m\u001b[23m Single, Married, Single, Married, Married, …\n",
      "$ monthly_income             \u001b[3m\u001b[90m<dbl>\u001b[39m\u001b[23m 5993, 5130, 2090, 2909, 3468, 3068, 2670, 2…\n",
      "$ monthly_rate               \u001b[3m\u001b[90m<dbl>\u001b[39m\u001b[23m 19479, 24907, 2396, 23159, 16632, 11864, 99…\n",
      "$ num_companies_worked       \u001b[3m\u001b[90m<dbl>\u001b[39m\u001b[23m 8, 1, 6, 1, 9, 0, 4, 1, 0, 6, 0, 0, 1, 0, 5…\n",
      "$ over18                     \u001b[3m\u001b[90m<fct>\u001b[39m\u001b[23m Y, Y, Y, Y, Y, Y, Y, Y, Y, Y, Y, Y, Y, Y, Y…\n",
      "$ over_time                  \u001b[3m\u001b[90m<fct>\u001b[39m\u001b[23m Yes, No, Yes, Yes, No, No, Yes, No, No, No,…\n",
      "$ percent_salary_hike        \u001b[3m\u001b[90m<dbl>\u001b[39m\u001b[23m 11, 23, 15, 11, 12, 13, 20, 22, 21, 13, 13,…\n",
      "$ performance_rating         \u001b[3m\u001b[90m<fct>\u001b[39m\u001b[23m 3, 4, 3, 3, 3, 3, 4, 4, 4, 3, 3, 3, 3, 3, 3…\n",
      "$ relationship_satisfaction  \u001b[3m\u001b[90m<dbl>\u001b[39m\u001b[23m 1, 4, 2, 3, 4, 3, 1, 2, 2, 2, 3, 4, 4, 3, 2…\n",
      "$ standard_hours             \u001b[3m\u001b[90m<dbl>\u001b[39m\u001b[23m 80, 80, 80, 80, 80, 80, 80, 80, 80, 80, 80,…\n",
      "$ stock_option_level         \u001b[3m\u001b[90m<dbl>\u001b[39m\u001b[23m 0, 1, 0, 0, 1, 0, 3, 1, 0, 2, 1, 0, 1, 1, 0…\n",
      "$ total_working_years        \u001b[3m\u001b[90m<dbl>\u001b[39m\u001b[23m 8, 10, 7, 8, 6, 8, 12, 1, 10, 17, 6, 10, 5,…\n",
      "$ training_times_last_year   \u001b[3m\u001b[90m<dbl>\u001b[39m\u001b[23m 0, 3, 3, 3, 3, 2, 3, 2, 2, 3, 5, 3, 1, 2, 4…\n",
      "$ work_life_balance          \u001b[3m\u001b[90m<dbl>\u001b[39m\u001b[23m 1, 3, 3, 3, 3, 2, 2, 3, 3, 2, 3, 3, 2, 3, 3…\n",
      "$ years_at_company           \u001b[3m\u001b[90m<dbl>\u001b[39m\u001b[23m 6, 10, 0, 8, 2, 7, 1, 1, 9, 7, 5, 9, 5, 2, …\n",
      "$ years_in_current_role      \u001b[3m\u001b[90m<dbl>\u001b[39m\u001b[23m 4, 7, 0, 7, 2, 7, 0, 0, 7, 7, 4, 5, 2, 2, 2…\n",
      "$ years_since_last_promotion \u001b[3m\u001b[90m<dbl>\u001b[39m\u001b[23m 0, 1, 0, 3, 2, 3, 0, 0, 1, 7, 0, 0, 4, 1, 0…\n",
      "$ years_with_curr_manager    \u001b[3m\u001b[90m<dbl>\u001b[39m\u001b[23m 5, 7, 0, 0, 2, 6, 0, 0, 8, 7, 3, 8, 3, 2, 3…\n",
      "$ age_group                  \u001b[3m\u001b[90m<fct>\u001b[39m\u001b[23m 36-45, 46-50, 36-45, 26-35, 26-35, 26-35, 5…\n"
     ]
    }
   ],
   "source": [
    "myData <- myData %>% \n",
    "  clean_names() %>% \n",
    "  mutate(across(where(is.character), ~ as.factor(str_squish(\n",
    "                                       str_to_title( \n",
    "                                       str_remove_all(.,pattern = \"Travel_\")))))) %>% \n",
    "  mutate_if(is.character, factor) %>% \n",
    "  mutate(job_level = factor(job_level),\n",
    "         performance_rating = factor(performance_rating),\n",
    "         department = recode_factor(department, \"Research & Development\" = \"R&D\", \n",
    "                                                \"Human Resources\" = \"HR\"),\n",
    "         age_group = case_when(\n",
    "                                age > 17 & age <= 25 ~ \"18-25\",\n",
    "                                age > 25 & age <= 35 ~ \"26-35\",\n",
    "                                age > 35 & age <= 46 ~ \"36-45\",\n",
    "                                age > 45 & age <= 50 ~ \"46-50\",\n",
    "                                age > 50 & age <= 64 ~ \"51-64\",        \n",
    "                                age > 64             ~ \"> 64\"\n",
    "                                )\n",
    "         ) %>% \n",
    "  mutate(age_group = factor(\n",
    "         age_group,\n",
    "         level = c(\"18-25\",\"26-35\", \"36-45\",\"46-50\",\"51-64\",\"> 64\")\n",
    "    )) \n",
    "\n",
    "myData %>% glimpse()"
   ]
  },
  {
   "cell_type": "markdown",
   "metadata": {},
   "source": [
    "That is Better!\n",
    "\n",
    "Now, lets check the distribution of the class (Attrition)\n",
    "\n",
    "### Distribution of Target Variable Attrition (label, class):"
   ]
  },
  {
   "cell_type": "code",
   "execution_count": 6,
   "metadata": {
    "vscode": {
     "languageId": "r"
    }
   },
   "outputs": [
    {
     "data": {
      "text/plain": [
       "\n",
       "  No  Yes \n",
       "1233  237 "
      ]
     },
     "metadata": {},
     "output_type": "display_data"
    },
    {
     "data": {
      "image/png": "[encoded data removed]",
      "text/plain": [
       "plot without title"
      ]
     },
     "metadata": {
      "image/png": {
       "height": 420,
       "width": 420
      }
     },
     "output_type": "display_data"
    }
   ],
   "source": [
    "table(myData$attrition)\n",
    "\n",
    "myData %>% \n",
    "  group_by(attrition) %>%\n",
    "  summarize(counts = n()) %>%\n",
    "  mutate(prop = (counts / sum(counts)) * 100) %>%\n",
    "  arrange(desc(prop)) %>% \n",
    "ggplot(aes(\"\", counts)) +\n",
    "  geom_col(\n",
    "    position = \"fill\",\n",
    "    color = \"black\",\n",
    "    width = 1,\n",
    "    aes(fill = factor(attrition))\n",
    "  ) +\n",
    "  geom_text(\n",
    "    aes(label = str_c(round(prop), \"%\"), group = factor(attrition)),\n",
    "    position = position_fill(vjust = 0.5),\n",
    "    color = \"white\",\n",
    "    size = 6,\n",
    "    show.legend = FALSE,\n",
    "    fontface = \"bold\"\n",
    "  ) +\n",
    "  coord_polar(theta = \"y\") +\n",
    "  theme_void() +\n",
    "  scale_fill_manual (values = c(\"#991D16\", \"#485520\")) +\n",
    "  theme_void() +\n",
    "  labs(\n",
    "    title = \"Are the Attrition var Balanced? \",\n",
    "    subtitle = \"Pie Plot, proportion of YES to NO in Attrition Var\",\n",
    "    caption = \"Data Source: Kaggle IBM HR Employee Attrition\",\n",
    "    fill = \"\"\n",
    "  )"
   ]
  },
  {
   "cell_type": "markdown",
   "metadata": {},
   "source": [
    "84% of employees did not quit the company while 16% did quit the company, we are dealing with an imbalanced dataset, that is will guide us determine what will be the best strategy to build our predictive model.\n",
    "\n",
    "### Create User defined Functions.\n",
    "\n",
    "#### Proportions features VS Attrition Function"
   ]
  },
  {
   "cell_type": "code",
   "execution_count": 7,
   "metadata": {
    "vscode": {
     "languageId": "r"
    }
   },
   "outputs": [],
   "source": [
    "bar_plot_proportions <- function(feature, target){\n",
    "  \n",
    "  varCat <- as_label(enquo(feature))\n",
    "  varCat <- str_to_title(str_replace(varCat, \"_\", \" \"))\n",
    "  \n",
    "  if(missing(target)) {\n",
    "    prop_data <- myData %>%  \n",
    "      group_by({{feature}}) %>% \n",
    "      summarise(n = n(), .groups = \"drop\") %>% \n",
    "      ungroup() %>% \n",
    "      mutate(percent = str_c(round(n/sum(n)*100,0),\"%\"),\n",
    "             just = n/4,\n",
    "             VarName = fct_reorder(factor({{feature}}), n ),\n",
    "             label_hjust = case_when(\n",
    "                  n < quantile(n, probs = 0.85) ~ -0.2,\n",
    "                  TRUE ~ 1.1,\n",
    "                ), \n",
    "             label_color = case_when(\n",
    "                  n < quantile(n, probs = 0.85) ~ \"black\",\n",
    "                  TRUE ~ \"white\",\n",
    "                ))\n",
    "    \n",
    "    ggplot(prop_data, aes(x = VarName, y = n, fill = VarName)) +\n",
    "      geom_col(width = 0.7,\n",
    "               size = 1,\n",
    "               show.legend = FALSE) +\n",
    "      coord_flip() +\n",
    "      geom_text(show.legend = FALSE,\n",
    "                aes(y = n, label = str_c(percent,n, sep = \" \"), hjust = label_hjust,\n",
    "                    color = label_color) ,\n",
    "                size = 2.5\n",
    "      ) +\n",
    "      scale_y_continuous(expand = expansion(add = c(50, max(prop_data$just)))) +\n",
    "      scale_fill_viridis_d(direction = -1) +\n",
    "      scale_color_manual(values = c(\"black\", \"white\")) +\n",
    "      theme(\n",
    "        legend.position = \"right\",\n",
    "        plot.background = element_rect(colour = \"gray\"),\n",
    "        plot.title.position = \"panel\",\n",
    "        plot.title = element_text(size = 10, hjust = 0.5),\n",
    "        plot.subtitle = element_text(size = 8),\n",
    "        plot.caption.position = \"plot\",\n",
    "        plot.caption = element_text(size = 6, color = \"grey\"),\n",
    "        panel.grid = element_blank(),\n",
    "        axis.text.x = element_blank(),\n",
    "        axis.ticks.x = element_blank(),\n",
    "        axis.text.y = element_text(size = 8)\n",
    "      ) +\n",
    "      labs(\n",
    "        title = NULL,\n",
    "        subtitle = NULL,\n",
    "        x = NULL,\n",
    "        y = NULL\n",
    "      ) \n",
    "    \n",
    "  } \n",
    "  else {\n",
    "    \n",
    "    prop_data <- myData %>%  \n",
    "      group_by({{feature}},{{target}}) %>% \n",
    "      summarise(n = n(), .groups = \"drop\") %>% \n",
    "      ungroup() %>% \n",
    "      mutate(percent = str_c(round(n/sum(n)*100,0),\"%\"),\n",
    "             just = n/4,\n",
    "             VarName = reorder_within(factor({{feature}}), n, {{target}}),\n",
    "             label_hjust = case_when(\n",
    "                  n < quantile(n, probs = 0.85) ~ -0.2,\n",
    "                  TRUE ~ 1.1,\n",
    "                ), \n",
    "             label_color = case_when(\n",
    "                  n < quantile(n, probs = 0.85) ~ \"black\",\n",
    "                  TRUE ~ \"white\",\n",
    "                ))\n",
    "    \n",
    "    ggplot(prop_data, aes(x = VarName, y = n, fill = VarName)) +\n",
    "      geom_col(width = 0.7,\n",
    "               size = 1,\n",
    "               show.legend = FALSE) +\n",
    "      coord_flip() +\n",
    "      geom_text(show.legend = FALSE,\n",
    "                aes(y = n, label = str_c(percent,n, sep = \" \"), hjust = label_hjust,\n",
    "                    color = label_color) ,\n",
    "                size = 2.5\n",
    "      ) +\n",
    "      facet_wrap(vars({{target}}), scales = \"free_y\")+\n",
    "      scale_y_continuous(expand = expansion(add = c(10, max(prop_data$just)))) +\n",
    "      scale_x_reordered() +\n",
    "      scale_fill_viridis_d(direction = -1) +\n",
    "      scale_color_manual(values = c(\"black\", \"white\")) +\n",
    "      theme(\n",
    "        legend.position = \"right\",\n",
    "        strip.background = element_rect(fill = \"#CD3B16\"),\n",
    "        strip.text = element_text(color = \"white\", face = \"bold\", size = 8),\n",
    "        plot.background = element_rect(colour = \"gray\"),\n",
    "        plot.title.position = \"panel\",\n",
    "        plot.title = element_text(size = 10, hjust = 0.5),\n",
    "        plot.subtitle = element_text(size = 8),\n",
    "        plot.caption.position = \"plot\",\n",
    "        plot.caption = element_text(size = 6, color = \"grey\"),\n",
    "        panel.grid = element_blank(),\n",
    "        axis.text.x = element_blank(),\n",
    "        axis.ticks.x = element_blank(),\n",
    "        axis.text.y = element_text(size = 6)\n",
    "      ) +\n",
    "      labs(\n",
    "        title = glue(\"{varCat} VS Attrition\"),\n",
    "        subtitle = NULL,\n",
    "        x = NULL,\n",
    "        y = NULL\n",
    "      )\n",
    "  }\n",
    "    \n",
    "}"
   ]
  },
  {
   "cell_type": "markdown",
   "metadata": {
    "_cell_guid": "61332756-5ce8-49f2-94b0-dee76afd71ef",
    "_uuid": "56511df9db40fec69d9cf0dcef6ad0cb09ed9221"
   },
   "source": [
    "Although it a large function and I could create a separate theme to short the function, but for now this way will give me what i need.\n",
    "\n",
    "#### Plot using user defined function across numeric variables"
   ]
  },
  {
   "cell_type": "code",
   "execution_count": 8,
   "metadata": {
    "_cell_guid": "b6e32751-f5d4-4139-a9d5-5870f1e7bb7b",
    "_uuid": "1fe4fb85719c105a3feb8c1b2bd5cd19eb0984ca",
    "collapsed": true,
    "vscode": {
     "languageId": "r"
    }
   },
   "outputs": [
    {
     "data": {
      "text/html": [
       "<style>\n",
       ".list-inline {list-style: none; margin:0; padding: 0}\n",
       ".list-inline>li {display: inline-block}\n",
       ".list-inline>li:not(:last-child)::after {content: \"\\00b7\"; padding: 0 .5ex}\n",
       "</style>\n",
       "<ol class=list-inline><li>Rarely</li><li>Frequently</li><li>Rarely</li><li>Frequently</li><li>Rarely</li><li>Frequently</li><li>Rarely</li><li>Rarely</li><li>Frequently</li><li>Rarely</li><li>Rarely</li><li>Rarely</li><li>Rarely</li><li>Rarely</li><li>Rarely</li><li>Rarely</li><li>Rarely</li><li>Non-Travel</li><li>Rarely</li><li>Rarely</li><li>Non-Travel</li><li>Rarely</li><li>Rarely</li><li>Rarely</li><li>Rarely</li><li>Rarely</li><li>Frequently</li><li>Rarely</li><li>Rarely</li><li>Rarely</li><li>Rarely</li><li>Rarely</li><li>Rarely</li><li>Rarely</li><li>Rarely</li><li>Rarely</li><li>Rarely</li><li>Rarely</li><li>Rarely</li><li>Frequently</li><li>Rarely</li><li>Rarely</li><li>Rarely</li><li>Frequently</li><li>Frequently</li><li>Rarely</li><li>Non-Travel</li><li>Rarely</li><li>Frequently</li><li>Rarely</li><li>Rarely</li><li>Rarely</li><li>Rarely</li><li>Non-Travel</li><li>Rarely</li><li>Frequently</li><li>Frequently</li><li>Rarely</li><li>Rarely</li><li>Rarely</li><li>Rarely</li><li>Frequently</li><li>Rarely</li><li>Rarely</li><li>Rarely</li><li>Rarely</li><li>Frequently</li><li>Rarely</li><li>Frequently</li><li>Rarely</li><li>Frequently</li><li>Rarely</li><li>Rarely</li><li>Rarely</li><li>Rarely</li><li>Rarely</li><li>Rarely</li><li>Rarely</li><li>Rarely</li><li>Rarely</li><li>Rarely</li><li>Rarely</li><li>Rarely</li><li>Non-Travel</li><li>Rarely</li><li>Rarely</li><li>Rarely</li><li>Rarely</li><li>Rarely</li><li>Rarely</li><li>Frequently</li><li>Rarely</li><li>Rarely</li><li>Frequently</li><li>Rarely</li><li>Rarely</li><li>Rarely</li><li>Non-Travel</li><li>Rarely</li><li>Non-Travel</li><li>Rarely</li><li>Rarely</li><li>Frequently</li><li>Rarely</li><li>Non-Travel</li><li>Non-Travel</li><li>Frequently</li><li>Rarely</li><li>Rarely</li><li>Rarely</li><li>Frequently</li><li>Frequently</li><li>Non-Travel</li><li>Rarely</li><li>Rarely</li><li>Rarely</li><li>Rarely</li><li>Frequently</li><li>Rarely</li><li>Frequently</li><li>Frequently</li><li>Non-Travel</li><li>Rarely</li><li>Rarely</li><li>Rarely</li><li>Rarely</li><li>Rarely</li><li>Rarely</li><li>Rarely</li><li>Rarely</li><li>Frequently</li><li>Frequently</li><li>Rarely</li><li>Rarely</li><li>Rarely</li><li>Rarely</li><li>Frequently</li><li>Rarely</li><li>Rarely</li><li>Rarely</li><li>Rarely</li><li>Rarely</li><li>Rarely</li><li>Rarely</li><li>Frequently</li><li>Rarely</li><li>Rarely</li><li>Frequently</li><li>Rarely</li><li>Rarely</li><li>Frequently</li><li>Rarely</li><li>Rarely</li><li>Rarely</li><li>Frequently</li><li>Non-Travel</li><li>Rarely</li><li>Rarely</li><li>Rarely</li><li>Frequently</li><li>Rarely</li><li>Non-Travel</li><li>Rarely</li><li>Rarely</li><li>Non-Travel</li><li>Rarely</li><li>Rarely</li><li>Rarely</li><li>Rarely</li><li>Rarely</li><li>Rarely</li><li>Frequently</li><li>Frequently</li><li>Non-Travel</li><li>Rarely</li><li>Rarely</li><li>Rarely</li><li>Rarely</li><li>Rarely</li><li>Rarely</li><li>Rarely</li><li>Rarely</li><li>Rarely</li><li>Rarely</li><li>Rarely</li><li>Rarely</li><li>Rarely</li><li>Rarely</li><li>Frequently</li><li>Rarely</li><li>Rarely</li><li>Rarely</li><li>Rarely</li><li>Non-Travel</li><li>Non-Travel</li><li>Rarely</li><li>Frequently</li><li>Non-Travel</li><li>Rarely</li><li>Rarely</li><li>⋯</li><li>Rarely</li><li>Rarely</li><li>Rarely</li><li>Rarely</li><li>Rarely</li><li>Rarely</li><li>Rarely</li><li>Rarely</li><li>Rarely</li><li>Frequently</li><li>Rarely</li><li>Rarely</li><li>Rarely</li><li>Rarely</li><li>Rarely</li><li>Non-Travel</li><li>Rarely</li><li>Rarely</li><li>Non-Travel</li><li>Non-Travel</li><li>Frequently</li><li>Rarely</li><li>Frequently</li><li>Non-Travel</li><li>Rarely</li><li>Rarely</li><li>Rarely</li><li>Rarely</li><li>Rarely</li><li>Rarely</li><li>Rarely</li><li>Non-Travel</li><li>Rarely</li><li>Rarely</li><li>Rarely</li><li>Rarely</li><li>Frequently</li><li>Rarely</li><li>Rarely</li><li>Rarely</li><li>Frequently</li><li>Non-Travel</li><li>Rarely</li><li>Rarely</li><li>Non-Travel</li><li>Rarely</li><li>Frequently</li><li>Frequently</li><li>Frequently</li><li>Frequently</li><li>Non-Travel</li><li>Rarely</li><li>Rarely</li><li>Non-Travel</li><li>Rarely</li><li>Rarely</li><li>Rarely</li><li>Rarely</li><li>Rarely</li><li>Rarely</li><li>Rarely</li><li>Rarely</li><li>Frequently</li><li>Rarely</li><li>Frequently</li><li>Rarely</li><li>Rarely</li><li>Rarely</li><li>Rarely</li><li>Rarely</li><li>Rarely</li><li>Rarely</li><li>Rarely</li><li>Rarely</li><li>Rarely</li><li>Rarely</li><li>Rarely</li><li>Frequently</li><li>Rarely</li><li>Rarely</li><li>Rarely</li><li>Frequently</li><li>Rarely</li><li>Non-Travel</li><li>Rarely</li><li>Rarely</li><li>Rarely</li><li>Rarely</li><li>Rarely</li><li>Rarely</li><li>Rarely</li><li>Frequently</li><li>Frequently</li><li>Rarely</li><li>Frequently</li><li>Frequently</li><li>Non-Travel</li><li>Rarely</li><li>Frequently</li><li>Rarely</li><li>Non-Travel</li><li>Rarely</li><li>Rarely</li><li>Frequently</li><li>Rarely</li><li>Frequently</li><li>Rarely</li><li>Frequently</li><li>Rarely</li><li>Frequently</li><li>Rarely</li><li>Non-Travel</li><li>Non-Travel</li><li>Non-Travel</li><li>Rarely</li><li>Rarely</li><li>Rarely</li><li>Rarely</li><li>Non-Travel</li><li>Frequently</li><li>Rarely</li><li>Rarely</li><li>Rarely</li><li>Rarely</li><li>Rarely</li><li>Frequently</li><li>Rarely</li><li>Rarely</li><li>Frequently</li><li>Rarely</li><li>Frequently</li><li>Rarely</li><li>Rarely</li><li>Rarely</li><li>Non-Travel</li><li>Non-Travel</li><li>Rarely</li><li>Rarely</li><li>Rarely</li><li>Frequently</li><li>Rarely</li><li>Rarely</li><li>Rarely</li><li>Rarely</li><li>Rarely</li><li>Non-Travel</li><li>Rarely</li><li>Rarely</li><li>Frequently</li><li>Rarely</li><li>Rarely</li><li>Non-Travel</li><li>Rarely</li><li>Rarely</li><li>Rarely</li><li>Rarely</li><li>Rarely</li><li>Rarely</li><li>Rarely</li><li>Rarely</li><li>Rarely</li><li>Rarely</li><li>Rarely</li><li>Rarely</li><li>Non-Travel</li><li>Rarely</li><li>Rarely</li><li>Non-Travel</li><li>Frequently</li><li>Rarely</li><li>Frequently</li><li>Non-Travel</li><li>Rarely</li><li>Rarely</li><li>Rarely</li><li>Rarely</li><li>Rarely</li><li>Non-Travel</li><li>Rarely</li><li>Rarely</li><li>Rarely</li><li>Rarely</li><li>Frequently</li><li>Rarely</li><li>Rarely</li><li>Rarely</li><li>Frequently</li><li>Rarely</li><li>Rarely</li><li>Rarely</li><li>Rarely</li><li>Rarely</li><li>Rarely</li><li>Non-Travel</li><li>Rarely</li><li>Frequently</li><li>Rarely</li><li>Rarely</li><li>Frequently</li><li>Rarely</li></ol>\n",
       "\n",
       "<details>\n",
       "\t<summary style=display:list-item;cursor:pointer>\n",
       "\t\t<strong>Levels</strong>:\n",
       "\t</summary>\n",
       "\t<style>\n",
       "\t.list-inline {list-style: none; margin:0; padding: 0}\n",
       "\t.list-inline>li {display: inline-block}\n",
       "\t.list-inline>li:not(:last-child)::after {content: \"\\00b7\"; padding: 0 .5ex}\n",
       "\t</style>\n",
       "\t<ol class=list-inline><li>'Frequently'</li><li>'Non-Travel'</li><li>'Rarely'</li></ol>\n",
       "</details>"
      ],
      "text/latex": [
       "\\begin{enumerate*}\n",
       "\\item Rarely\n",
       "\\item Frequently\n",
       "\\item Rarely\n",
       "\\item Frequently\n",
       "\\item Rarely\n",
       "\\item Frequently\n",
       "\\item Rarely\n",
       "\\item Rarely\n",
       "\\item Frequently\n",
       "\\item Rarely\n",
       "\\item Rarely\n",
       "\\item Rarely\n",
       "\\item Rarely\n",
       "\\item Rarely\n",
       "\\item Rarely\n",
       "\\item Rarely\n",
       "\\item Rarely\n",
       "\\item Non-Travel\n",
       "\\item Rarely\n",
       "\\item Rarely\n",
       "\\item Non-Travel\n",
       "\\item Rarely\n",
       "\\item Rarely\n",
       "\\item Rarely\n",
       "\\item Rarely\n",
       "\\item Rarely\n",
       "\\item Frequently\n",
       "\\item Rarely\n",
       "\\item Rarely\n",
       "\\item Rarely\n",
       "\\item Rarely\n",
       "\\item Rarely\n",
       "\\item Rarely\n",
       "\\item Rarely\n",
       "\\item Rarely\n",
       "\\item Rarely\n",
       "\\item Rarely\n",
       "\\item Rarely\n",
       "\\item Rarely\n",
       "\\item Frequently\n",
       "\\item Rarely\n",
       "\\item Rarely\n",
       "\\item Rarely\n",
       "\\item Frequently\n",
       "\\item Frequently\n",
       "\\item Rarely\n",
       "\\item Non-Travel\n",
       "\\item Rarely\n",
       "\\item Frequently\n",
       "\\item Rarely\n",
       "\\item Rarely\n",
       "\\item Rarely\n",
       "\\item Rarely\n",
       "\\item Non-Travel\n",
       "\\item Rarely\n",
       "\\item Frequently\n",
       "\\item Frequently\n",
       "\\item Rarely\n",
       "\\item Rarely\n",
       "\\item Rarely\n",
       "\\item Rarely\n",
       "\\item Frequently\n",
       "\\item Rarely\n",
       "\\item Rarely\n",
       "\\item Rarely\n",
       "\\item Rarely\n",
       "\\item Frequently\n",
       "\\item Rarely\n",
       "\\item Frequently\n",
       "\\item Rarely\n",
       "\\item Frequently\n",
       "\\item Rarely\n",
       "\\item Rarely\n",
       "\\item Rarely\n",
       "\\item Rarely\n",
       "\\item Rarely\n",
       "\\item Rarely\n",
       "\\item Rarely\n",
       "\\item Rarely\n",
       "\\item Rarely\n",
       "\\item Rarely\n",
       "\\item Rarely\n",
       "\\item Rarely\n",
       "\\item Non-Travel\n",
       "\\item Rarely\n",
       "\\item Rarely\n",
       "\\item Rarely\n",
       "\\item Rarely\n",
       "\\item Rarely\n",
       "\\item Rarely\n",
       "\\item Frequently\n",
       "\\item Rarely\n",
       "\\item Rarely\n",
       "\\item Frequently\n",
       "\\item Rarely\n",
       "\\item Rarely\n",
       "\\item Rarely\n",
       "\\item Non-Travel\n",
       "\\item Rarely\n",
       "\\item Non-Travel\n",
       "\\item Rarely\n",
       "\\item Rarely\n",
       "\\item Frequently\n",
       "\\item Rarely\n",
       "\\item Non-Travel\n",
       "\\item Non-Travel\n",
       "\\item Frequently\n",
       "\\item Rarely\n",
       "\\item Rarely\n",
       "\\item Rarely\n",
       "\\item Frequently\n",
       "\\item Frequently\n",
       "\\item Non-Travel\n",
       "\\item Rarely\n",
       "\\item Rarely\n",
       "\\item Rarely\n",
       "\\item Rarely\n",
       "\\item Frequently\n",
       "\\item Rarely\n",
       "\\item Frequently\n",
       "\\item Frequently\n",
       "\\item Non-Travel\n",
       "\\item Rarely\n",
       "\\item Rarely\n",
       "\\item Rarely\n",
       "\\item Rarely\n",
       "\\item Rarely\n",
       "\\item Rarely\n",
       "\\item Rarely\n",
       "\\item Rarely\n",
       "\\item Frequently\n",
       "\\item Frequently\n",
       "\\item Rarely\n",
       "\\item Rarely\n",
       "\\item Rarely\n",
       "\\item Rarely\n",
       "\\item Frequently\n",
       "\\item Rarely\n",
       "\\item Rarely\n",
       "\\item Rarely\n",
       "\\item Rarely\n",
       "\\item Rarely\n",
       "\\item Rarely\n",
       "\\item Rarely\n",
       "\\item Frequently\n",
       "\\item Rarely\n",
       "\\item Rarely\n",
       "\\item Frequently\n",
       "\\item Rarely\n",
       "\\item Rarely\n",
       "\\item Frequently\n",
       "\\item Rarely\n",
       "\\item Rarely\n",
       "\\item Rarely\n",
       "\\item Frequently\n",
       "\\item Non-Travel\n",
       "\\item Rarely\n",
       "\\item Rarely\n",
       "\\item Rarely\n",
       "\\item Frequently\n",
       "\\item Rarely\n",
       "\\item Non-Travel\n",
       "\\item Rarely\n",
       "\\item Rarely\n",
       "\\item Non-Travel\n",
       "\\item Rarely\n",
       "\\item Rarely\n",
       "\\item Rarely\n",
       "\\item Rarely\n",
       "\\item Rarely\n",
       "\\item Rarely\n",
       "\\item Frequently\n",
       "\\item Frequently\n",
       "\\item Non-Travel\n",
       "\\item Rarely\n",
       "\\item Rarely\n",
       "\\item Rarely\n",
       "\\item Rarely\n",
       "\\item Rarely\n",
       "\\item Rarely\n",
       "\\item Rarely\n",
       "\\item Rarely\n",
       "\\item Rarely\n",
       "\\item Rarely\n",
       "\\item Rarely\n",
       "\\item Rarely\n",
       "\\item Rarely\n",
       "\\item Rarely\n",
       "\\item Frequently\n",
       "\\item Rarely\n",
       "\\item Rarely\n",
       "\\item Rarely\n",
       "\\item Rarely\n",
       "\\item Non-Travel\n",
       "\\item Non-Travel\n",
       "\\item Rarely\n",
       "\\item Frequently\n",
       "\\item Non-Travel\n",
       "\\item Rarely\n",
       "\\item Rarely\n",
       "\\item ⋯\n",
       "\\item Rarely\n",
       "\\item Rarely\n",
       "\\item Rarely\n",
       "\\item Rarely\n",
       "\\item Rarely\n",
       "\\item Rarely\n",
       "\\item Rarely\n",
       "\\item Rarely\n",
       "\\item Rarely\n",
       "\\item Frequently\n",
       "\\item Rarely\n",
       "\\item Rarely\n",
       "\\item Rarely\n",
       "\\item Rarely\n",
       "\\item Rarely\n",
       "\\item Non-Travel\n",
       "\\item Rarely\n",
       "\\item Rarely\n",
       "\\item Non-Travel\n",
       "\\item Non-Travel\n",
       "\\item Frequently\n",
       "\\item Rarely\n",
       "\\item Frequently\n",
       "\\item Non-Travel\n",
       "\\item Rarely\n",
       "\\item Rarely\n",
       "\\item Rarely\n",
       "\\item Rarely\n",
       "\\item Rarely\n",
       "\\item Rarely\n",
       "\\item Rarely\n",
       "\\item Non-Travel\n",
       "\\item Rarely\n",
       "\\item Rarely\n",
       "\\item Rarely\n",
       "\\item Rarely\n",
       "\\item Frequently\n",
       "\\item Rarely\n",
       "\\item Rarely\n",
       "\\item Rarely\n",
       "\\item Frequently\n",
       "\\item Non-Travel\n",
       "\\item Rarely\n",
       "\\item Rarely\n",
       "\\item Non-Travel\n",
       "\\item Rarely\n",
       "\\item Frequently\n",
       "\\item Frequently\n",
       "\\item Frequently\n",
       "\\item Frequently\n",
       "\\item Non-Travel\n",
       "\\item Rarely\n",
       "\\item Rarely\n",
       "\\item Non-Travel\n",
       "\\item Rarely\n",
       "\\item Rarely\n",
       "\\item Rarely\n",
       "\\item Rarely\n",
       "\\item Rarely\n",
       "\\item Rarely\n",
       "\\item Rarely\n",
       "\\item Rarely\n",
       "\\item Frequently\n",
       "\\item Rarely\n",
       "\\item Frequently\n",
       "\\item Rarely\n",
       "\\item Rarely\n",
       "\\item Rarely\n",
       "\\item Rarely\n",
       "\\item Rarely\n",
       "\\item Rarely\n",
       "\\item Rarely\n",
       "\\item Rarely\n",
       "\\item Rarely\n",
       "\\item Rarely\n",
       "\\item Rarely\n",
       "\\item Rarely\n",
       "\\item Frequently\n",
       "\\item Rarely\n",
       "\\item Rarely\n",
       "\\item Rarely\n",
       "\\item Frequently\n",
       "\\item Rarely\n",
       "\\item Non-Travel\n",
       "\\item Rarely\n",
       "\\item Rarely\n",
       "\\item Rarely\n",
       "\\item Rarely\n",
       "\\item Rarely\n",
       "\\item Rarely\n",
       "\\item Rarely\n",
       "\\item Frequently\n",
       "\\item Frequently\n",
       "\\item Rarely\n",
       "\\item Frequently\n",
       "\\item Frequently\n",
       "\\item Non-Travel\n",
       "\\item Rarely\n",
       "\\item Frequently\n",
       "\\item Rarely\n",
       "\\item Non-Travel\n",
       "\\item Rarely\n",
       "\\item Rarely\n",
       "\\item Frequently\n",
       "\\item Rarely\n",
       "\\item Frequently\n",
       "\\item Rarely\n",
       "\\item Frequently\n",
       "\\item Rarely\n",
       "\\item Frequently\n",
       "\\item Rarely\n",
       "\\item Non-Travel\n",
       "\\item Non-Travel\n",
       "\\item Non-Travel\n",
       "\\item Rarely\n",
       "\\item Rarely\n",
       "\\item Rarely\n",
       "\\item Rarely\n",
       "\\item Non-Travel\n",
       "\\item Frequently\n",
       "\\item Rarely\n",
       "\\item Rarely\n",
       "\\item Rarely\n",
       "\\item Rarely\n",
       "\\item Rarely\n",
       "\\item Frequently\n",
       "\\item Rarely\n",
       "\\item Rarely\n",
       "\\item Frequently\n",
       "\\item Rarely\n",
       "\\item Frequently\n",
       "\\item Rarely\n",
       "\\item Rarely\n",
       "\\item Rarely\n",
       "\\item Non-Travel\n",
       "\\item Non-Travel\n",
       "\\item Rarely\n",
       "\\item Rarely\n",
       "\\item Rarely\n",
       "\\item Frequently\n",
       "\\item Rarely\n",
       "\\item Rarely\n",
       "\\item Rarely\n",
       "\\item Rarely\n",
       "\\item Rarely\n",
       "\\item Non-Travel\n",
       "\\item Rarely\n",
       "\\item Rarely\n",
       "\\item Frequently\n",
       "\\item Rarely\n",
       "\\item Rarely\n",
       "\\item Non-Travel\n",
       "\\item Rarely\n",
       "\\item Rarely\n",
       "\\item Rarely\n",
       "\\item Rarely\n",
       "\\item Rarely\n",
       "\\item Rarely\n",
       "\\item Rarely\n",
       "\\item Rarely\n",
       "\\item Rarely\n",
       "\\item Rarely\n",
       "\\item Rarely\n",
       "\\item Rarely\n",
       "\\item Non-Travel\n",
       "\\item Rarely\n",
       "\\item Rarely\n",
       "\\item Non-Travel\n",
       "\\item Frequently\n",
       "\\item Rarely\n",
       "\\item Frequently\n",
       "\\item Non-Travel\n",
       "\\item Rarely\n",
       "\\item Rarely\n",
       "\\item Rarely\n",
       "\\item Rarely\n",
       "\\item Rarely\n",
       "\\item Non-Travel\n",
       "\\item Rarely\n",
       "\\item Rarely\n",
       "\\item Rarely\n",
       "\\item Rarely\n",
       "\\item Frequently\n",
       "\\item Rarely\n",
       "\\item Rarely\n",
       "\\item Rarely\n",
       "\\item Frequently\n",
       "\\item Rarely\n",
       "\\item Rarely\n",
       "\\item Rarely\n",
       "\\item Rarely\n",
       "\\item Rarely\n",
       "\\item Rarely\n",
       "\\item Non-Travel\n",
       "\\item Rarely\n",
       "\\item Frequently\n",
       "\\item Rarely\n",
       "\\item Rarely\n",
       "\\item Frequently\n",
       "\\item Rarely\n",
       "\\end{enumerate*}\n",
       "\n",
       "\\emph{Levels}: \\begin{enumerate*}\n",
       "\\item 'Frequently'\n",
       "\\item 'Non-Travel'\n",
       "\\item 'Rarely'\n",
       "\\end{enumerate*}\n"
      ],
      "text/markdown": [
       "1. Rarely\n",
       "2. Frequently\n",
       "3. Rarely\n",
       "4. Frequently\n",
       "5. Rarely\n",
       "6. Frequently\n",
       "7. Rarely\n",
       "8. Rarely\n",
       "9. Frequently\n",
       "10. Rarely\n",
       "11. Rarely\n",
       "12. Rarely\n",
       "13. Rarely\n",
       "14. Rarely\n",
       "15. Rarely\n",
       "16. Rarely\n",
       "17. Rarely\n",
       "18. Non-Travel\n",
       "19. Rarely\n",
       "20. Rarely\n",
       "21. Non-Travel\n",
       "22. Rarely\n",
       "23. Rarely\n",
       "24. Rarely\n",
       "25. Rarely\n",
       "26. Rarely\n",
       "27. Frequently\n",
       "28. Rarely\n",
       "29. Rarely\n",
       "30. Rarely\n",
       "31. Rarely\n",
       "32. Rarely\n",
       "33. Rarely\n",
       "34. Rarely\n",
       "35. Rarely\n",
       "36. Rarely\n",
       "37. Rarely\n",
       "38. Rarely\n",
       "39. Rarely\n",
       "40. Frequently\n",
       "41. Rarely\n",
       "42. Rarely\n",
       "43. Rarely\n",
       "44. Frequently\n",
       "45. Frequently\n",
       "46. Rarely\n",
       "47. Non-Travel\n",
       "48. Rarely\n",
       "49. Frequently\n",
       "50. Rarely\n",
       "51. Rarely\n",
       "52. Rarely\n",
       "53. Rarely\n",
       "54. Non-Travel\n",
       "55. Rarely\n",
       "56. Frequently\n",
       "57. Frequently\n",
       "58. Rarely\n",
       "59. Rarely\n",
       "60. Rarely\n",
       "61. Rarely\n",
       "62. Frequently\n",
       "63. Rarely\n",
       "64. Rarely\n",
       "65. Rarely\n",
       "66. Rarely\n",
       "67. Frequently\n",
       "68. Rarely\n",
       "69. Frequently\n",
       "70. Rarely\n",
       "71. Frequently\n",
       "72. Rarely\n",
       "73. Rarely\n",
       "74. Rarely\n",
       "75. Rarely\n",
       "76. Rarely\n",
       "77. Rarely\n",
       "78. Rarely\n",
       "79. Rarely\n",
       "80. Rarely\n",
       "81. Rarely\n",
       "82. Rarely\n",
       "83. Rarely\n",
       "84. Non-Travel\n",
       "85. Rarely\n",
       "86. Rarely\n",
       "87. Rarely\n",
       "88. Rarely\n",
       "89. Rarely\n",
       "90. Rarely\n",
       "91. Frequently\n",
       "92. Rarely\n",
       "93. Rarely\n",
       "94. Frequently\n",
       "95. Rarely\n",
       "96. Rarely\n",
       "97. Rarely\n",
       "98. Non-Travel\n",
       "99. Rarely\n",
       "100. Non-Travel\n",
       "101. Rarely\n",
       "102. Rarely\n",
       "103. Frequently\n",
       "104. Rarely\n",
       "105. Non-Travel\n",
       "106. Non-Travel\n",
       "107. Frequently\n",
       "108. Rarely\n",
       "109. Rarely\n",
       "110. Rarely\n",
       "111. Frequently\n",
       "112. Frequently\n",
       "113. Non-Travel\n",
       "114. Rarely\n",
       "115. Rarely\n",
       "116. Rarely\n",
       "117. Rarely\n",
       "118. Frequently\n",
       "119. Rarely\n",
       "120. Frequently\n",
       "121. Frequently\n",
       "122. Non-Travel\n",
       "123. Rarely\n",
       "124. Rarely\n",
       "125. Rarely\n",
       "126. Rarely\n",
       "127. Rarely\n",
       "128. Rarely\n",
       "129. Rarely\n",
       "130. Rarely\n",
       "131. Frequently\n",
       "132. Frequently\n",
       "133. Rarely\n",
       "134. Rarely\n",
       "135. Rarely\n",
       "136. Rarely\n",
       "137. Frequently\n",
       "138. Rarely\n",
       "139. Rarely\n",
       "140. Rarely\n",
       "141. Rarely\n",
       "142. Rarely\n",
       "143. Rarely\n",
       "144. Rarely\n",
       "145. Frequently\n",
       "146. Rarely\n",
       "147. Rarely\n",
       "148. Frequently\n",
       "149. Rarely\n",
       "150. Rarely\n",
       "151. Frequently\n",
       "152. Rarely\n",
       "153. Rarely\n",
       "154. Rarely\n",
       "155. Frequently\n",
       "156. Non-Travel\n",
       "157. Rarely\n",
       "158. Rarely\n",
       "159. Rarely\n",
       "160. Frequently\n",
       "161. Rarely\n",
       "162. Non-Travel\n",
       "163. Rarely\n",
       "164. Rarely\n",
       "165. Non-Travel\n",
       "166. Rarely\n",
       "167. Rarely\n",
       "168. Rarely\n",
       "169. Rarely\n",
       "170. Rarely\n",
       "171. Rarely\n",
       "172. Frequently\n",
       "173. Frequently\n",
       "174. Non-Travel\n",
       "175. Rarely\n",
       "176. Rarely\n",
       "177. Rarely\n",
       "178. Rarely\n",
       "179. Rarely\n",
       "180. Rarely\n",
       "181. Rarely\n",
       "182. Rarely\n",
       "183. Rarely\n",
       "184. Rarely\n",
       "185. Rarely\n",
       "186. Rarely\n",
       "187. Rarely\n",
       "188. Rarely\n",
       "189. Frequently\n",
       "190. Rarely\n",
       "191. Rarely\n",
       "192. Rarely\n",
       "193. Rarely\n",
       "194. Non-Travel\n",
       "195. Non-Travel\n",
       "196. Rarely\n",
       "197. Frequently\n",
       "198. Non-Travel\n",
       "199. Rarely\n",
       "200. Rarely\n",
       "201. ⋯\n",
       "202. Rarely\n",
       "203. Rarely\n",
       "204. Rarely\n",
       "205. Rarely\n",
       "206. Rarely\n",
       "207. Rarely\n",
       "208. Rarely\n",
       "209. Rarely\n",
       "210. Rarely\n",
       "211. Frequently\n",
       "212. Rarely\n",
       "213. Rarely\n",
       "214. Rarely\n",
       "215. Rarely\n",
       "216. Rarely\n",
       "217. Non-Travel\n",
       "218. Rarely\n",
       "219. Rarely\n",
       "220. Non-Travel\n",
       "221. Non-Travel\n",
       "222. Frequently\n",
       "223. Rarely\n",
       "224. Frequently\n",
       "225. Non-Travel\n",
       "226. Rarely\n",
       "227. Rarely\n",
       "228. Rarely\n",
       "229. Rarely\n",
       "230. Rarely\n",
       "231. Rarely\n",
       "232. Rarely\n",
       "233. Non-Travel\n",
       "234. Rarely\n",
       "235. Rarely\n",
       "236. Rarely\n",
       "237. Rarely\n",
       "238. Frequently\n",
       "239. Rarely\n",
       "240. Rarely\n",
       "241. Rarely\n",
       "242. Frequently\n",
       "243. Non-Travel\n",
       "244. Rarely\n",
       "245. Rarely\n",
       "246. Non-Travel\n",
       "247. Rarely\n",
       "248. Frequently\n",
       "249. Frequently\n",
       "250. Frequently\n",
       "251. Frequently\n",
       "252. Non-Travel\n",
       "253. Rarely\n",
       "254. Rarely\n",
       "255. Non-Travel\n",
       "256. Rarely\n",
       "257. Rarely\n",
       "258. Rarely\n",
       "259. Rarely\n",
       "260. Rarely\n",
       "261. Rarely\n",
       "262. Rarely\n",
       "263. Rarely\n",
       "264. Frequently\n",
       "265. Rarely\n",
       "266. Frequently\n",
       "267. Rarely\n",
       "268. Rarely\n",
       "269. Rarely\n",
       "270. Rarely\n",
       "271. Rarely\n",
       "272. Rarely\n",
       "273. Rarely\n",
       "274. Rarely\n",
       "275. Rarely\n",
       "276. Rarely\n",
       "277. Rarely\n",
       "278. Rarely\n",
       "279. Frequently\n",
       "280. Rarely\n",
       "281. Rarely\n",
       "282. Rarely\n",
       "283. Frequently\n",
       "284. Rarely\n",
       "285. Non-Travel\n",
       "286. Rarely\n",
       "287. Rarely\n",
       "288. Rarely\n",
       "289. Rarely\n",
       "290. Rarely\n",
       "291. Rarely\n",
       "292. Rarely\n",
       "293. Frequently\n",
       "294. Frequently\n",
       "295. Rarely\n",
       "296. Frequently\n",
       "297. Frequently\n",
       "298. Non-Travel\n",
       "299. Rarely\n",
       "300. Frequently\n",
       "301. Rarely\n",
       "302. Non-Travel\n",
       "303. Rarely\n",
       "304. Rarely\n",
       "305. Frequently\n",
       "306. Rarely\n",
       "307. Frequently\n",
       "308. Rarely\n",
       "309. Frequently\n",
       "310. Rarely\n",
       "311. Frequently\n",
       "312. Rarely\n",
       "313. Non-Travel\n",
       "314. Non-Travel\n",
       "315. Non-Travel\n",
       "316. Rarely\n",
       "317. Rarely\n",
       "318. Rarely\n",
       "319. Rarely\n",
       "320. Non-Travel\n",
       "321. Frequently\n",
       "322. Rarely\n",
       "323. Rarely\n",
       "324. Rarely\n",
       "325. Rarely\n",
       "326. Rarely\n",
       "327. Frequently\n",
       "328. Rarely\n",
       "329. Rarely\n",
       "330. Frequently\n",
       "331. Rarely\n",
       "332. Frequently\n",
       "333. Rarely\n",
       "334. Rarely\n",
       "335. Rarely\n",
       "336. Non-Travel\n",
       "337. Non-Travel\n",
       "338. Rarely\n",
       "339. Rarely\n",
       "340. Rarely\n",
       "341. Frequently\n",
       "342. Rarely\n",
       "343. Rarely\n",
       "344. Rarely\n",
       "345. Rarely\n",
       "346. Rarely\n",
       "347. Non-Travel\n",
       "348. Rarely\n",
       "349. Rarely\n",
       "350. Frequently\n",
       "351. Rarely\n",
       "352. Rarely\n",
       "353. Non-Travel\n",
       "354. Rarely\n",
       "355. Rarely\n",
       "356. Rarely\n",
       "357. Rarely\n",
       "358. Rarely\n",
       "359. Rarely\n",
       "360. Rarely\n",
       "361. Rarely\n",
       "362. Rarely\n",
       "363. Rarely\n",
       "364. Rarely\n",
       "365. Rarely\n",
       "366. Non-Travel\n",
       "367. Rarely\n",
       "368. Rarely\n",
       "369. Non-Travel\n",
       "370. Frequently\n",
       "371. Rarely\n",
       "372. Frequently\n",
       "373. Non-Travel\n",
       "374. Rarely\n",
       "375. Rarely\n",
       "376. Rarely\n",
       "377. Rarely\n",
       "378. Rarely\n",
       "379. Non-Travel\n",
       "380. Rarely\n",
       "381. Rarely\n",
       "382. Rarely\n",
       "383. Rarely\n",
       "384. Frequently\n",
       "385. Rarely\n",
       "386. Rarely\n",
       "387. Rarely\n",
       "388. Frequently\n",
       "389. Rarely\n",
       "390. Rarely\n",
       "391. Rarely\n",
       "392. Rarely\n",
       "393. Rarely\n",
       "394. Rarely\n",
       "395. Non-Travel\n",
       "396. Rarely\n",
       "397. Frequently\n",
       "398. Rarely\n",
       "399. Rarely\n",
       "400. Frequently\n",
       "401. Rarely\n",
       "\n",
       "\n",
       "\n",
       "**Levels**: 1. 'Frequently'\n",
       "2. 'Non-Travel'\n",
       "3. 'Rarely'\n",
       "\n",
       "\n"
      ],
      "text/plain": [
       "   [1] Rarely     Frequently Rarely     Frequently Rarely     Frequently\n",
       "   [7] Rarely     Rarely     Frequently Rarely     Rarely     Rarely    \n",
       "  [13] Rarely     Rarely     Rarely     Rarely     Rarely     Non-Travel\n",
       "  [19] Rarely     Rarely     Non-Travel Rarely     Rarely     Rarely    \n",
       "  [25] Rarely     Rarely     Frequently Rarely     Rarely     Rarely    \n",
       "  [31] Rarely     Rarely     Rarely     Rarely     Rarely     Rarely    \n",
       "  [37] Rarely     Rarely     Rarely     Frequently Rarely     Rarely    \n",
       "  [43] Rarely     Frequently Frequently Rarely     Non-Travel Rarely    \n",
       "  [49] Frequently Rarely     Rarely     Rarely     Rarely     Non-Travel\n",
       "  [55] Rarely     Frequently Frequently Rarely     Rarely     Rarely    \n",
       "  [61] Rarely     Frequently Rarely     Rarely     Rarely     Rarely    \n",
       "  [67] Frequently Rarely     Frequently Rarely     Frequently Rarely    \n",
       "  [73] Rarely     Rarely     Rarely     Rarely     Rarely     Rarely    \n",
       "  [79] Rarely     Rarely     Rarely     Rarely     Rarely     Non-Travel\n",
       "  [85] Rarely     Rarely     Rarely     Rarely     Rarely     Rarely    \n",
       "  [91] Frequently Rarely     Rarely     Frequently Rarely     Rarely    \n",
       "  [97] Rarely     Non-Travel Rarely     Non-Travel Rarely     Rarely    \n",
       " [103] Frequently Rarely     Non-Travel Non-Travel Frequently Rarely    \n",
       " [109] Rarely     Rarely     Frequently Frequently Non-Travel Rarely    \n",
       " [115] Rarely     Rarely     Rarely     Frequently Rarely     Frequently\n",
       " [121] Frequently Non-Travel Rarely     Rarely     Rarely     Rarely    \n",
       " [127] Rarely     Rarely     Rarely     Rarely     Frequently Frequently\n",
       " [133] Rarely     Rarely     Rarely     Rarely     Frequently Rarely    \n",
       " [139] Rarely     Rarely     Rarely     Rarely     Rarely     Rarely    \n",
       " [145] Frequently Rarely     Rarely     Frequently Rarely     Rarely    \n",
       " [151] Frequently Rarely     Rarely     Rarely     Frequently Non-Travel\n",
       " [157] Rarely     Rarely     Rarely     Frequently Rarely     Non-Travel\n",
       " [163] Rarely     Rarely     Non-Travel Rarely     Rarely     Rarely    \n",
       " [169] Rarely     Rarely     Rarely     Frequently Frequently Non-Travel\n",
       " [175] Rarely     Rarely     Rarely     Rarely     Rarely     Rarely    \n",
       " [181] Rarely     Rarely     Rarely     Rarely     Rarely     Rarely    \n",
       " [187] Rarely     Rarely     Frequently Rarely     Rarely     Rarely    \n",
       " [193] Rarely     Non-Travel Non-Travel Rarely     Frequently Non-Travel\n",
       " [199] Rarely     Rarely     Frequently Non-Travel Frequently Rarely    \n",
       " [205] Rarely     Rarely     Rarely     Frequently Non-Travel Rarely    \n",
       " [211] Rarely     Non-Travel Frequently Rarely     Rarely     Rarely    \n",
       " [217] Frequently Rarely     Non-Travel Rarely     Rarely     Rarely    \n",
       " [223] Frequently Rarely     Non-Travel Rarely     Frequently Frequently\n",
       " [229] Frequently Rarely     Rarely     Rarely     Rarely     Rarely    \n",
       " [235] Rarely     Rarely     Rarely     Non-Travel Rarely     Rarely    \n",
       " [241] Rarely     Non-Travel Rarely     Rarely     Rarely     Frequently\n",
       " [247] Rarely     Rarely     Rarely     Frequently Frequently Frequently\n",
       " [253] Rarely     Rarely     Rarely     Rarely     Rarely     Rarely    \n",
       " [259] Rarely     Frequently Frequently Non-Travel Rarely     Rarely    \n",
       " [265] Rarely     Rarely     Rarely     Non-Travel Rarely     Rarely    \n",
       " [271] Rarely     Non-Travel Rarely     Rarely     Rarely     Non-Travel\n",
       " [277] Rarely     Rarely     Frequently Rarely     Rarely     Rarely    \n",
       " [283] Frequently Rarely     Frequently Rarely     Frequently Rarely    \n",
       " [289] Rarely     Rarely     Frequently Rarely     Frequently Rarely    \n",
       " [295] Frequently Frequently Rarely     Rarely     Frequently Rarely    \n",
       " [301] Rarely     Rarely     Rarely     Rarely     Rarely     Non-Travel\n",
       " [307] Rarely     Rarely     Non-Travel Rarely     Rarely     Frequently\n",
       " [313] Rarely     Frequently Rarely     Frequently Rarely     Rarely    \n",
       " [319] Rarely     Rarely     Rarely     Rarely     Rarely     Rarely    \n",
       " [325] Rarely     Frequently Frequently Rarely     Frequently Rarely    \n",
       " [331] Frequently Non-Travel Frequently Rarely     Rarely     Rarely    \n",
       " [337] Rarely     Rarely     Rarely     Rarely     Rarely     Rarely    \n",
       " [343] Rarely     Rarely     Rarely     Rarely     Rarely     Frequently\n",
       " [349] Rarely     Non-Travel Rarely     Rarely     Rarely     Rarely    \n",
       " [355] Non-Travel Rarely     Rarely     Frequently Non-Travel Frequently\n",
       " [361] Rarely     Rarely     Non-Travel Rarely     Rarely     Non-Travel\n",
       " [367] Frequently Rarely     Rarely     Rarely     Rarely     Rarely    \n",
       " [373] Rarely     Rarely     Rarely     Rarely     Rarely     Rarely    \n",
       " [379] Non-Travel Rarely     Rarely     Rarely     Frequently Rarely    \n",
       " [385] Rarely     Frequently Rarely     Rarely     Rarely     Rarely    \n",
       " [391] Rarely     Rarely     Rarely     Non-Travel Rarely     Frequently\n",
       " [397] Rarely     Rarely     Non-Travel Rarely     Frequently Frequently\n",
       " [403] Rarely     Rarely     Rarely     Rarely     Rarely     Rarely    \n",
       " [409] Rarely     Frequently Rarely     Rarely     Rarely     Frequently\n",
       " [415] Rarely     Frequently Frequently Rarely     Rarely     Non-Travel\n",
       " [421] Rarely     Rarely     Rarely     Non-Travel Rarely     Rarely    \n",
       " [427] Non-Travel Frequently Rarely     Rarely     Rarely     Rarely    \n",
       " [433] Rarely     Rarely     Rarely     Rarely     Rarely     Rarely    \n",
       " [439] Rarely     Frequently Frequently Frequently Non-Travel Frequently\n",
       " [445] Rarely     Rarely     Non-Travel Rarely     Rarely     Frequently\n",
       " [451] Rarely     Rarely     Rarely     Frequently Rarely     Rarely    \n",
       " [457] Rarely     Frequently Non-Travel Non-Travel Rarely     Rarely    \n",
       " [463] Rarely     Rarely     Rarely     Frequently Rarely     Non-Travel\n",
       " [469] Rarely     Non-Travel Frequently Rarely     Rarely     Rarely    \n",
       " [475] Rarely     Rarely     Rarely     Frequently Rarely     Frequently\n",
       " [481] Frequently Rarely     Rarely     Rarely     Rarely     Rarely    \n",
       " [487] Rarely     Rarely     Rarely     Rarely     Rarely     Frequently\n",
       " [493] Rarely     Rarely     Rarely     Rarely     Rarely     Rarely    \n",
       " [499] Rarely     Rarely     Rarely     Frequently Rarely     Rarely    \n",
       " [505] Frequently Rarely     Rarely     Rarely     Rarely     Frequently\n",
       " [511] Rarely     Rarely     Rarely     Rarely     Frequently Non-Travel\n",
       " [517] Rarely     Rarely     Rarely     Frequently Rarely     Frequently\n",
       " [523] Rarely     Rarely     Rarely     Rarely     Rarely     Rarely    \n",
       " [529] Frequently Rarely     Rarely     Rarely     Rarely     Frequently\n",
       " [535] Rarely     Rarely     Rarely     Frequently Rarely     Rarely    \n",
       " [541] Rarely     Non-Travel Rarely     Non-Travel Frequently Rarely    \n",
       " [547] Rarely     Frequently Frequently Rarely     Rarely     Rarely    \n",
       " [553] Rarely     Rarely     Rarely     Rarely     Rarely     Non-Travel\n",
       " [559] Frequently Rarely     Rarely     Rarely     Rarely     Rarely    \n",
       " [565] Rarely     Rarely     Frequently Rarely     Rarely     Non-Travel\n",
       " [571] Non-Travel Frequently Rarely     Rarely     Rarely     Rarely    \n",
       " [577] Frequently Rarely     Frequently Rarely     Rarely     Rarely    \n",
       " [583] Frequently Rarely     Frequently Rarely     Non-Travel Rarely    \n",
       " [589] Rarely     Rarely     Rarely     Rarely     Rarely     Rarely    \n",
       " [595] Rarely     Rarely     Rarely     Rarely     Rarely     Rarely    \n",
       " [601] Rarely     Frequently Rarely     Rarely     Rarely     Frequently\n",
       " [607] Frequently Rarely     Rarely     Rarely     Rarely     Rarely    \n",
       " [613] Rarely     Rarely     Frequently Non-Travel Rarely     Rarely    \n",
       " [619] Rarely     Rarely     Rarely     Rarely     Rarely     Frequently\n",
       " [625] Rarely     Rarely     Rarely     Frequently Rarely     Rarely    \n",
       " [631] Rarely     Rarely     Frequently Rarely     Rarely     Rarely    \n",
       " [637] Frequently Non-Travel Rarely     Rarely     Non-Travel Frequently\n",
       " [643] Rarely     Rarely     Rarely     Rarely     Rarely     Rarely    \n",
       " [649] Frequently Rarely     Frequently Rarely     Non-Travel Non-Travel\n",
       " [655] Rarely     Rarely     Rarely     Rarely     Rarely     Rarely    \n",
       " [661] Frequently Rarely     Rarely     Rarely     Rarely     Rarely    \n",
       " [667] Rarely     Rarely     Rarely     Rarely     Rarely     Rarely    \n",
       " [673] Rarely     Rarely     Rarely     Rarely     Rarely     Rarely    \n",
       " [679] Rarely     Non-Travel Rarely     Rarely     Non-Travel Rarely    \n",
       " [685] Rarely     Frequently Rarely     Rarely     Rarely     Rarely    \n",
       " [691] Rarely     Frequently Rarely     Rarely     Rarely     Rarely    \n",
       " [697] Non-Travel Frequently Rarely     Rarely     Rarely     Rarely    \n",
       " [703] Rarely     Non-Travel Rarely     Rarely     Non-Travel Frequently\n",
       " [709] Non-Travel Non-Travel Non-Travel Rarely     Rarely     Rarely    \n",
       " [715] Rarely     Frequently Frequently Rarely     Non-Travel Rarely    \n",
       " [721] Rarely     Rarely     Frequently Rarely     Rarely     Rarely    \n",
       " [727] Frequently Non-Travel Rarely     Rarely     Rarely     Rarely    \n",
       " [733] Frequently Rarely     Rarely     Rarely     Rarely     Rarely    \n",
       " [739] Rarely     Rarely     Rarely     Rarely     Rarely     Rarely    \n",
       " [745] Rarely     Frequently Non-Travel Rarely     Non-Travel Rarely    \n",
       " [751] Rarely     Non-Travel Rarely     Frequently Non-Travel Rarely    \n",
       " [757] Non-Travel Rarely     Rarely     Rarely     Frequently Rarely    \n",
       " [763] Frequently Rarely     Rarely     Frequently Rarely     Rarely    \n",
       " [769] Rarely     Frequently Rarely     Rarely     Frequently Rarely    \n",
       " [775] Non-Travel Rarely     Frequently Rarely     Rarely     Rarely    \n",
       " [781] Non-Travel Rarely     Rarely     Rarely     Rarely     Rarely    \n",
       " [787] Non-Travel Frequently Rarely     Rarely     Rarely     Rarely    \n",
       " [793] Frequently Rarely     Frequently Rarely     Rarely     Rarely    \n",
       " [799] Rarely     Rarely     Frequently Frequently Frequently Non-Travel\n",
       " [805] Non-Travel Non-Travel Rarely     Rarely     Rarely     Rarely    \n",
       " [811] Rarely     Rarely     Frequently Frequently Rarely     Rarely    \n",
       " [817] Non-Travel Non-Travel Frequently Rarely     Frequently Rarely    \n",
       " [823] Frequently Frequently Rarely     Rarely     Rarely     Frequently\n",
       " [829] Non-Travel Rarely     Rarely     Frequently Rarely     Rarely    \n",
       " [835] Rarely     Rarely     Rarely     Frequently Frequently Rarely    \n",
       " [841] Rarely     Rarely     Rarely     Rarely     Rarely     Frequently\n",
       " [847] Rarely     Frequently Frequently Rarely     Non-Travel Rarely    \n",
       " [853] Rarely     Rarely     Rarely     Rarely     Rarely     Rarely    \n",
       " [859] Rarely     Rarely     Frequently Rarely     Non-Travel Rarely    \n",
       " [865] Non-Travel Rarely     Frequently Frequently Rarely     Rarely    \n",
       " [871] Rarely     Rarely     Frequently Rarely     Rarely     Rarely    \n",
       " [877] Rarely     Rarely     Non-Travel Rarely     Frequently Frequently\n",
       " [883] Rarely     Rarely     Rarely     Rarely     Rarely     Frequently\n",
       " [889] Non-Travel Rarely     Frequently Rarely     Non-Travel Rarely    \n",
       " [895] Rarely     Rarely     Rarely     Rarely     Rarely     Rarely    \n",
       " [901] Frequently Rarely     Rarely     Rarely     Rarely     Rarely    \n",
       " [907] Rarely     Rarely     Rarely     Rarely     Rarely     Frequently\n",
       " [913] Rarely     Rarely     Non-Travel Frequently Rarely     Rarely    \n",
       " [919] Frequently Rarely     Frequently Frequently Rarely     Frequently\n",
       " [925] Rarely     Rarely     Rarely     Rarely     Rarely     Frequently\n",
       " [931] Frequently Non-Travel Rarely     Rarely     Rarely     Rarely    \n",
       " [937] Frequently Rarely     Rarely     Rarely     Rarely     Rarely    \n",
       " [943] Rarely     Rarely     Non-Travel Rarely     Rarely     Rarely    \n",
       " [949] Rarely     Rarely     Non-Travel Non-Travel Frequently Rarely    \n",
       " [955] Non-Travel Rarely     Rarely     Non-Travel Rarely     Rarely    \n",
       " [961] Frequently Frequently Rarely     Rarely     Rarely     Rarely    \n",
       " [967] Rarely     Rarely     Frequently Rarely     Rarely     Rarely    \n",
       " [973] Non-Travel Rarely     Frequently Rarely     Rarely     Non-Travel\n",
       " [979] Rarely     Rarely     Frequently Frequently Frequently Rarely    \n",
       " [985] Rarely     Rarely     Rarely     Frequently Frequently Rarely    \n",
       " [991] Frequently Rarely     Non-Travel Rarely     Frequently Rarely    \n",
       " [997] Rarely     Rarely     Rarely     Rarely     Rarely     Rarely    \n",
       "[1003] Frequently Rarely     Rarely     Rarely     Frequently Frequently\n",
       "[1009] Rarely     Rarely     Rarely     Rarely     Frequently Rarely    \n",
       "[1015] Rarely     Frequently Rarely     Rarely     Rarely     Rarely    \n",
       "[1021] Rarely     Rarely     Non-Travel Rarely     Rarely     Rarely    \n",
       "[1027] Rarely     Rarely     Rarely     Non-Travel Rarely     Rarely    \n",
       "[1033] Non-Travel Frequently Rarely     Rarely     Frequently Rarely    \n",
       "[1039] Rarely     Rarely     Non-Travel Rarely     Non-Travel Rarely    \n",
       "[1045] Rarely     Rarely     Rarely     Frequently Rarely     Rarely    \n",
       "[1051] Frequently Frequently Non-Travel Rarely     Rarely     Frequently\n",
       "[1057] Frequently Frequently Rarely     Rarely     Frequently Non-Travel\n",
       "[1063] Frequently Rarely     Rarely     Rarely     Rarely     Rarely    \n",
       "[1069] Frequently Rarely     Frequently Rarely     Frequently Rarely    \n",
       "[1075] Rarely     Rarely     Frequently Rarely     Rarely     Rarely    \n",
       "[1081] Rarely     Rarely     Rarely     Rarely     Rarely     Frequently\n",
       "[1087] Frequently Rarely     Rarely     Rarely     Rarely     Rarely    \n",
       "[1093] Rarely     Frequently Rarely     Rarely     Rarely     Rarely    \n",
       "[1099] Non-Travel Rarely     Rarely     Rarely     Rarely     Rarely    \n",
       "[1105] Rarely     Rarely     Rarely     Frequently Rarely     Rarely    \n",
       "[1111] Rarely     Rarely     Rarely     Non-Travel Rarely     Rarely    \n",
       "[1117] Rarely     Rarely     Rarely     Rarely     Rarely     Rarely    \n",
       "[1123] Rarely     Rarely     Rarely     Frequently Rarely     Rarely    \n",
       "[1129] Frequently Rarely     Rarely     Frequently Rarely     Rarely    \n",
       "[1135] Rarely     Rarely     Rarely     Non-Travel Frequently Rarely    \n",
       "[1141] Rarely     Rarely     Rarely     Non-Travel Frequently Rarely    \n",
       "[1147] Frequently Rarely     Rarely     Rarely     Rarely     Rarely    \n",
       "[1153] Rarely     Frequently Rarely     Rarely     Rarely     Non-Travel\n",
       "[1159] Rarely     Frequently Rarely     Rarely     Rarely     Rarely    \n",
       "[1165] Rarely     Frequently Frequently Rarely     Frequently Rarely    \n",
       "[1171] Frequently Rarely     Rarely     Rarely     Frequently Rarely    \n",
       "[1177] Rarely     Rarely     Rarely     Rarely     Rarely     Rarely    \n",
       "[1183] Non-Travel Rarely     Rarely     Rarely     Frequently Frequently\n",
       "[1189] Rarely     Rarely     Rarely     Rarely     Rarely     Frequently\n",
       "[1195] Rarely     Rarely     Rarely     Rarely     Non-Travel Rarely    \n",
       "[1201] Rarely     Rarely     Rarely     Rarely     Frequently Rarely    \n",
       "[1207] Non-Travel Rarely     Rarely     Rarely     Rarely     Frequently\n",
       "[1213] Rarely     Rarely     Rarely     Frequently Rarely     Rarely    \n",
       "[1219] Rarely     Rarely     Rarely     Non-Travel Rarely     Frequently\n",
       "[1225] Rarely     Rarely     Frequently Rarely     Non-Travel Rarely    \n",
       "[1231] Rarely     Rarely     Rarely     Rarely     Non-Travel Rarely    \n",
       "[1237] Rarely     Rarely     Rarely     Frequently Non-Travel Rarely    \n",
       "[1243] Rarely     Rarely     Frequently Frequently Frequently Rarely    \n",
       "[1249] Rarely     Rarely     Frequently Rarely     Rarely     Non-Travel\n",
       "[1255] Rarely     Rarely     Frequently Rarely     Rarely     Rarely    \n",
       "[1261] Non-Travel Rarely     Frequently Rarely     Rarely     Non-Travel\n",
       "[1267] Rarely     Non-Travel Non-Travel Rarely     Rarely     Rarely    \n",
       "[1273] Rarely     Rarely     Rarely     Rarely     Rarely     Rarely    \n",
       "[1279] Rarely     Frequently Rarely     Rarely     Rarely     Rarely    \n",
       "[1285] Rarely     Non-Travel Rarely     Rarely     Non-Travel Non-Travel\n",
       "[1291] Frequently Rarely     Frequently Non-Travel Rarely     Rarely    \n",
       "[1297] Rarely     Rarely     Rarely     Rarely     Rarely     Non-Travel\n",
       "[1303] Rarely     Rarely     Rarely     Rarely     Frequently Rarely    \n",
       "[1309] Rarely     Rarely     Frequently Non-Travel Rarely     Rarely    \n",
       "[1315] Non-Travel Rarely     Frequently Frequently Frequently Frequently\n",
       "[1321] Non-Travel Rarely     Rarely     Non-Travel Rarely     Rarely    \n",
       "[1327] Rarely     Rarely     Rarely     Rarely     Rarely     Rarely    \n",
       "[1333] Frequently Rarely     Frequently Rarely     Rarely     Rarely    \n",
       "[1339] Rarely     Rarely     Rarely     Rarely     Rarely     Rarely    \n",
       "[1345] Rarely     Rarely     Rarely     Frequently Rarely     Rarely    \n",
       "[1351] Rarely     Frequently Rarely     Non-Travel Rarely     Rarely    \n",
       "[1357] Rarely     Rarely     Rarely     Rarely     Rarely     Frequently\n",
       "[1363] Frequently Rarely     Frequently Frequently Non-Travel Rarely    \n",
       "[1369] Frequently Rarely     Non-Travel Rarely     Rarely     Frequently\n",
       "[1375] Rarely     Frequently Rarely     Frequently Rarely     Frequently\n",
       "[1381] Rarely     Non-Travel Non-Travel Non-Travel Rarely     Rarely    \n",
       "[1387] Rarely     Rarely     Non-Travel Frequently Rarely     Rarely    \n",
       "[1393] Rarely     Rarely     Rarely     Frequently Rarely     Rarely    \n",
       "[1399] Frequently Rarely     Frequently Rarely     Rarely     Rarely    \n",
       "[1405] Non-Travel Non-Travel Rarely     Rarely     Rarely     Frequently\n",
       "[1411] Rarely     Rarely     Rarely     Rarely     Rarely     Non-Travel\n",
       "[1417] Rarely     Rarely     Frequently Rarely     Rarely     Non-Travel\n",
       "[1423] Rarely     Rarely     Rarely     Rarely     Rarely     Rarely    \n",
       "[1429] Rarely     Rarely     Rarely     Rarely     Rarely     Rarely    \n",
       "[1435] Non-Travel Rarely     Rarely     Non-Travel Frequently Rarely    \n",
       "[1441] Frequently Non-Travel Rarely     Rarely     Rarely     Rarely    \n",
       "[1447] Rarely     Non-Travel Rarely     Rarely     Rarely     Rarely    \n",
       "[1453] Frequently Rarely     Rarely     Rarely     Frequently Rarely    \n",
       "[1459] Rarely     Rarely     Rarely     Rarely     Rarely     Non-Travel\n",
       "[1465] Rarely     Frequently Rarely     Rarely     Frequently Rarely    \n",
       "Levels: Frequently Non-Travel Rarely"
      ]
     },
     "metadata": {},
     "output_type": "display_data"
    }
   ],
   "source": [
    "myData$business_travel\n",
    "\n",
    "across_features_num_x_plot <- function(x_var, section, subsection, y_var) {\n",
    "  \n",
    "  y_axis_label <- c(\"monthly_income\" = \"Monthly Income\",\n",
    "                    \"monthly_rate\" = \"Monthly Rate\",\n",
    "                    \"percent_salary_hike\"= \"Percent Salary Hike\",\n",
    "                    \"training_times_last_year\" = \"Training Times Last Year\",\n",
    "                    \"years_at_company\" = \"Years at Company\",\n",
    "                    \"years_with_curr_manager\" = \"Years With Current Manager\")[y_var]\n",
    "  \n",
    "  \n",
    "  \n",
    "  title_text   <- c(\"monthly_income\" = \"Monthly Income by \",\n",
    "                    \"monthly_rate\" = \"Monthly Rate by \",\n",
    "                    \"percent_salary_hike\"= \"Percent Salary Hike by \",\n",
    "                    \"training_times_last_year\" = \"Training Times Last Year by \",\n",
    "                    \"years_at_company\" = \"Years at Company by \",\n",
    "                    \"years_with_curr_manager\" = \"Years With Current Manager by \")[y_var]\n",
    "\n",
    "  \n",
    "  ggplot(myData %>% filter((!!as.name(section)) == subsection),\n",
    "         aes_string(x = x_var, y = y_var)) +\n",
    "    geom_point(color = \"#16529A\") +\n",
    "    geom_rug(color = \"#0E8A41\", sides = \"lb\", position = \"jitter\") +\n",
    "    labs(\n",
    "      title = str_glue(title_text,\n",
    "                       str_to_title(str_replace_all(x_var, \"_\", \" \")),\n",
    "                       \" (\",\n",
    "                       subsection,\n",
    "                       \" \",\n",
    "                       str_to_title(str_replace_all(section, \"_\", \" \")), \" )\"),\n",
    "      x = NULL,\n",
    "      y = NULL,\n",
    "      fill = NULL\n",
    "    )  +\n",
    "    theme(plot.title.position = \"plot\",\n",
    "          plot.title = element_text(\n",
    "          hjust = 0,\n",
    "          face = \"bold\",\n",
    "          size = 13,\n",
    "          color = \"#000000\"\n",
    "    ))\n",
    "  \n",
    "}"
   ]
  },
  {
   "cell_type": "markdown",
   "metadata": {},
   "source": [
    "#### Plot using user defined function across catigorical variables"
   ]
  },
  {
   "cell_type": "code",
   "execution_count": 9,
   "metadata": {
    "vscode": {
     "languageId": "r"
    }
   },
   "outputs": [],
   "source": [
    "across_features_fact_x_plot <- function(x_var, section, subsection, y_var) {\n",
    "  \n",
    "  y_axis_label <- c(\"monthly_income\" = \"Monthly Income\",\n",
    "                    \"monthly_rate\" = \"Monthly Rate\",\n",
    "                    \"percent_salary_hike\"= \"Percent Salary Hike\",\n",
    "                    \"training_times_last_year\" = \"Training Times Last Year\",\n",
    "                    \"years_at_company\" = \"Years at Company\",\n",
    "                    \"years_with_curr_manager\" = \"Years With Current Manager\")[y_var]\n",
    "  \n",
    "  \n",
    "  \n",
    "  title_text   <- c(\"monthly_income\" = \"Monthly Income by \",\n",
    "                    \"monthly_rate\" = \"Monthly Rate by \",\n",
    "                    \"percent_salary_hike\"= \"Percent Salary Hike by \",\n",
    "                    \"training_times_last_year\" = \"Training Times Last Year by \",\n",
    "                    \"years_at_company\" = \"Years at Company by \",\n",
    "                    \"years_with_curr_manager\" = \"Years With Current Manager by \")[y_var]\n",
    "\n",
    "  \n",
    "  ggplot(myData %>% filter((!!as.name(section)) == subsection),\n",
    "         aes_string(x = x_var, y = y_var)) +\n",
    "    geom_violin(color = \"#16529A\", fill = \"#D3E8FB\") +\n",
    "    geom_dotplot(binaxis = \"y\", binwidth = 170,  stackdir = \"center\", color = \"#F3C80D\")+\n",
    "    geom_rug(color = \"#0E8A41\", sides = \"lb\", position = \"jitter\") +\n",
    "    labs(\n",
    "      title = str_glue(title_text,\n",
    "                       str_to_title(str_replace_all(x_var, \"_\", \" \")),\n",
    "                       \" (\",\n",
    "                       subsection,\n",
    "                       \" \",\n",
    "                       str_to_title(str_replace_all(section, \"_\", \" \")), \" )\"),\n",
    "      x = NULL,\n",
    "      y = NULL,\n",
    "      fill = NULL\n",
    "    ) +\n",
    "    theme(plot.title.position = \"plot\",\n",
    "          plot.title = element_text(\n",
    "          hjust = 0,\n",
    "          face = \"bold\",\n",
    "          size = 13,\n",
    "          color = \"#000000\"\n",
    "    ))\n",
    "  \n",
    "}"
   ]
  },
  {
   "cell_type": "markdown",
   "metadata": {
    "_cell_guid": "113bc18d-9df0-4ca3-9680-554b7b0fe8ee",
    "_uuid": "01787bcd6fa5f8185342beb1ea2f50146d0a6db2"
   },
   "source": [
    "These two function are for plotting numerical variables and categorical variables.\n",
    "\n",
    "Mainly i will use them to create plots with Monthly Income in the y axis, but it can be used for the variables listed in y_axis_label.\n",
    "\n",
    "### ggpairs"
   ]
  },
  {
   "cell_type": "code",
   "execution_count": 10,
   "metadata": {
    "_cell_guid": "71c0c11f-13d5-4a50-ae08-6f9c6b6b707b",
    "_uuid": "693bca4e444df4bd4f4bc3f9a1a7068c7f29946d",
    "collapsed": true,
    "vscode": {
     "languageId": "r"
    }
   },
   "outputs": [
    {
     "name": "stdout",
     "output_type": "stream",
     "text": [
      "Rows: 1,470\n",
      "Columns: 36\n",
      "$ age                        \u001b[3m\u001b[90m<dbl>\u001b[39m\u001b[23m 41, 49, 37, 33, 27, 32, 59, 30, 38, 36, 35,…\n",
      "$ attrition                  \u001b[3m\u001b[90m<fct>\u001b[39m\u001b[23m Yes, No, Yes, No, No, No, No, No, No, No, N…\n",
      "$ business_travel            \u001b[3m\u001b[90m<fct>\u001b[39m\u001b[23m Rarely, Frequently, Rarely, Frequently, Rar…\n",
      "$ daily_rate                 \u001b[3m\u001b[90m<dbl>\u001b[39m\u001b[23m 1102, 279, 1373, 1392, 591, 1005, 1324, 135…\n",
      "$ department                 \u001b[3m\u001b[90m<fct>\u001b[39m\u001b[23m Sales, R&D, R&D, R&D, R&D, R&D, R&D, R&D, R…\n",
      "$ distance_from_home         \u001b[3m\u001b[90m<dbl>\u001b[39m\u001b[23m 1, 8, 2, 3, 2, 2, 3, 24, 23, 27, 16, 15, 26…\n",
      "$ education                  \u001b[3m\u001b[90m<dbl>\u001b[39m\u001b[23m 2, 1, 2, 4, 1, 2, 3, 1, 3, 3, 3, 2, 1, 2, 3…\n",
      "$ education_field            \u001b[3m\u001b[90m<fct>\u001b[39m\u001b[23m Life Sciences, Life Sciences, Other, Life S…\n",
      "$ employee_count             \u001b[3m\u001b[90m<dbl>\u001b[39m\u001b[23m 1, 1, 1, 1, 1, 1, 1, 1, 1, 1, 1, 1, 1, 1, 1…\n",
      "$ employee_number            \u001b[3m\u001b[90m<dbl>\u001b[39m\u001b[23m 1, 2, 4, 5, 7, 8, 10, 11, 12, 13, 14, 15, 1…\n",
      "$ environment_satisfaction   \u001b[3m\u001b[90m<dbl>\u001b[39m\u001b[23m 2, 3, 4, 4, 1, 4, 3, 4, 4, 3, 1, 4, 1, 2, 3…\n",
      "$ gender                     \u001b[3m\u001b[90m<fct>\u001b[39m\u001b[23m Female, Male, Male, Female, Male, Male, Fem…\n",
      "$ hourly_rate                \u001b[3m\u001b[90m<dbl>\u001b[39m\u001b[23m 94, 61, 92, 56, 40, 79, 81, 67, 44, 94, 84,…\n",
      "$ job_involvement            \u001b[3m\u001b[90m<dbl>\u001b[39m\u001b[23m 3, 2, 2, 3, 3, 3, 4, 3, 2, 3, 4, 2, 3, 3, 2…\n",
      "$ job_level                  \u001b[3m\u001b[90m<fct>\u001b[39m\u001b[23m 2, 2, 1, 1, 1, 1, 1, 1, 3, 2, 1, 2, 1, 1, 1…\n",
      "$ job_role                   \u001b[3m\u001b[90m<fct>\u001b[39m\u001b[23m Sales Executive, Research Scientist, Labora…\n",
      "$ job_satisfaction           \u001b[3m\u001b[90m<dbl>\u001b[39m\u001b[23m 4, 2, 3, 3, 2, 4, 1, 3, 3, 3, 2, 3, 3, 4, 3…\n",
      "$ marital_status             \u001b[3m\u001b[90m<fct>\u001b[39m\u001b[23m Single, Married, Single, Married, Married, …\n",
      "$ monthly_income             \u001b[3m\u001b[90m<dbl>\u001b[39m\u001b[23m 5993, 5130, 2090, 2909, 3468, 3068, 2670, 2…\n",
      "$ monthly_rate               \u001b[3m\u001b[90m<dbl>\u001b[39m\u001b[23m 19479, 24907, 2396, 23159, 16632, 11864, 99…\n",
      "$ num_companies_worked       \u001b[3m\u001b[90m<dbl>\u001b[39m\u001b[23m 8, 1, 6, 1, 9, 0, 4, 1, 0, 6, 0, 0, 1, 0, 5…\n",
      "$ over18                     \u001b[3m\u001b[90m<fct>\u001b[39m\u001b[23m Y, Y, Y, Y, Y, Y, Y, Y, Y, Y, Y, Y, Y, Y, Y…\n",
      "$ over_time                  \u001b[3m\u001b[90m<fct>\u001b[39m\u001b[23m Yes, No, Yes, Yes, No, No, Yes, No, No, No,…\n",
      "$ percent_salary_hike        \u001b[3m\u001b[90m<dbl>\u001b[39m\u001b[23m 11, 23, 15, 11, 12, 13, 20, 22, 21, 13, 13,…\n",
      "$ performance_rating         \u001b[3m\u001b[90m<fct>\u001b[39m\u001b[23m 3, 4, 3, 3, 3, 3, 4, 4, 4, 3, 3, 3, 3, 3, 3…\n",
      "$ relationship_satisfaction  \u001b[3m\u001b[90m<dbl>\u001b[39m\u001b[23m 1, 4, 2, 3, 4, 3, 1, 2, 2, 2, 3, 4, 4, 3, 2…\n",
      "$ standard_hours             \u001b[3m\u001b[90m<dbl>\u001b[39m\u001b[23m 80, 80, 80, 80, 80, 80, 80, 80, 80, 80, 80,…\n",
      "$ stock_option_level         \u001b[3m\u001b[90m<dbl>\u001b[39m\u001b[23m 0, 1, 0, 0, 1, 0, 3, 1, 0, 2, 1, 0, 1, 1, 0…\n",
      "$ total_working_years        \u001b[3m\u001b[90m<dbl>\u001b[39m\u001b[23m 8, 10, 7, 8, 6, 8, 12, 1, 10, 17, 6, 10, 5,…\n",
      "$ training_times_last_year   \u001b[3m\u001b[90m<dbl>\u001b[39m\u001b[23m 0, 3, 3, 3, 3, 2, 3, 2, 2, 3, 5, 3, 1, 2, 4…\n",
      "$ work_life_balance          \u001b[3m\u001b[90m<dbl>\u001b[39m\u001b[23m 1, 3, 3, 3, 3, 2, 2, 3, 3, 2, 3, 3, 2, 3, 3…\n",
      "$ years_at_company           \u001b[3m\u001b[90m<dbl>\u001b[39m\u001b[23m 6, 10, 0, 8, 2, 7, 1, 1, 9, 7, 5, 9, 5, 2, …\n",
      "$ years_in_current_role      \u001b[3m\u001b[90m<dbl>\u001b[39m\u001b[23m 4, 7, 0, 7, 2, 7, 0, 0, 7, 7, 4, 5, 2, 2, 2…\n",
      "$ years_since_last_promotion \u001b[3m\u001b[90m<dbl>\u001b[39m\u001b[23m 0, 1, 0, 3, 2, 3, 0, 0, 1, 7, 0, 0, 4, 1, 0…\n",
      "$ years_with_curr_manager    \u001b[3m\u001b[90m<dbl>\u001b[39m\u001b[23m 5, 7, 0, 0, 2, 6, 0, 0, 8, 7, 3, 8, 3, 2, 3…\n",
      "$ age_group                  \u001b[3m\u001b[90m<fct>\u001b[39m\u001b[23m 36-45, 46-50, 36-45, 26-35, 26-35, 26-35, 5…\n"
     ]
    },
    {
     "name": "stderr",
     "output_type": "stream",
     "text": [
      "\u001b[1m\u001b[22m`stat_bin()` using `bins = 30`. Pick better value with `binwidth`.\n",
      "\u001b[1m\u001b[22m`stat_bin()` using `bins = 30`. Pick better value with `binwidth`.\n",
      "\u001b[1m\u001b[22m`stat_bin()` using `bins = 30`. Pick better value with `binwidth`.\n",
      "\u001b[1m\u001b[22m`stat_bin()` using `bins = 30`. Pick better value with `binwidth`.\n",
      "\u001b[1m\u001b[22m`stat_bin()` using `bins = 30`. Pick better value with `binwidth`.\n",
      "\u001b[1m\u001b[22m`stat_bin()` using `bins = 30`. Pick better value with `binwidth`.\n",
      "\u001b[1m\u001b[22m`stat_bin()` using `bins = 30`. Pick better value with `binwidth`.\n",
      "\u001b[1m\u001b[22m`stat_bin()` using `bins = 30`. Pick better value with `binwidth`.\n"
     ]
    },
    {
     "data": {
      "image/png": "[encoded data removed]",
      "text/plain": [
       "plot without title"
      ]
     },
     "metadata": {
      "image/png": {
       "height": 420,
       "width": 420
      }
     },
     "output_type": "display_data"
    }
   ],
   "source": [
    "myData %>% glimpse()\n",
    "\n",
    "myData %>% select(starts_with(\"years\"), attrition) %>% \n",
    "\n",
    "ggpairs(\n",
    "  aes(color = attrition),\n",
    "  lower = list(continuous = wrap(\n",
    "    \"smooth\",\n",
    "    alpha = 0.2,\n",
    "    size = 0.5,\n",
    "    color = \"#DE942E\"\n",
    "  )),\n",
    "  diag = list(continuous = \"barDiag\"),\n",
    "  upper = list(continuous = wrap(\"cor\", size = 4))\n",
    ") +\n",
    "  scale_color_manual(values = c(\"#818625\", \"#C8512B\")) +\n",
    "  scale_fill_manual(values = c(\"#818625\", \"#C8512B\")) +\n",
    "  theme(\n",
    "    axis.text = element_text(size = 8),\n",
    "    panel.background = element_rect(fill = \"white\"),\n",
    "    strip.background = element_rect(fill = \"white\"),\n",
    "    strip.background.x = element_rect(colour = \"black\"),\n",
    "    strip.background.y = element_rect(colour = \"black\"),\n",
    "    strip.text = element_text(color = \"black\", face = \"bold\", size = 8)\n",
    "  ) +\n",
    "  labs(\n",
    "    title = \"Pair plot by attrition Var\",\n",
    "    subtitle = \"Pair Plot, scatter plot, Histogram and Correlation coefficient\",\n",
    "    caption = \"Data Source: Kaggle IBM HR Employee Attrition\",\n",
    "    x = NULL,\n",
    "    y = NULL\n",
    "  )"
   ]
  },
  {
   "cell_type": "markdown",
   "metadata": {},
   "source": [
    "I built this pair plot to find if there is a correlation between the variables started with years vs class variable(Attrition)\n",
    "\n",
    "We can see that there are high positive correlation between these significant variables \\*\\*\\*.\n",
    "\n",
    "### Proportions\n",
    "\n",
    "#### Attrition by Gender and Marital status!\n"
   ]
  },
  {
   "cell_type": "code",
   "execution_count": 11,
   "metadata": {
    "_cell_guid": "e7437fa3-69fb-42d9-8fcb-39c5a82cbebe",
    "_uuid": "953248e61650942feeba159475bd43bd111f911e",
    "collapsed": true,
    "vscode": {
     "languageId": "r"
    }
   },
   "outputs": [
    {
     "name": "stderr",
     "output_type": "stream",
     "text": [
      "Warning message:\n",
      "\"\u001b[1m\u001b[22mUsing `size` aesthetic for lines was deprecated in ggplot2 3.4.0.\n",
      "\u001b[36mℹ\u001b[39m Please use `linewidth` instead.\"\n"
     ]
    },
    {
     "data": {
      "image/png": "[encoded data removed]",
      "text/plain": [
       "plot without title"
      ]
     },
     "metadata": {
      "image/png": {
       "height": 420,
       "width": 420
      }
     },
     "output_type": "display_data"
    },
    {
     "data": {
      "image/png": "[encoded data removed]",
      "text/plain": [
       "plot without title"
      ]
     },
     "metadata": {
      "image/png": {
       "height": 420,
       "width": 420
      }
     },
     "output_type": "display_data"
    }
   ],
   "source": [
    "plt_gender <- bar_plot_proportions(gender)\n",
    "plt_gender_att <- bar_plot_proportions(gender, attrition)\n",
    "plt_marital_status <- bar_plot_proportions(marital_status)\n",
    "plt_marital_status_att <- bar_plot_proportions(marital_status, attrition) \n",
    "\n",
    "\n",
    "(plt_gender +\n",
    "   plt_gender_att)+ \n",
    "  plot_annotation(\n",
    "  title = \"Proportions of Gender VS Attrition\",\n",
    "  caption = \"Data Source: Kaggle IBM HR Employee Attrition\"\n",
    ") & \n",
    "  theme(plot.caption = element_text(color = \"#969696\", size = 7))\n",
    "\n",
    "\n",
    "\n",
    "\n",
    "   (plt_marital_status +\n",
    "   plt_marital_status_att ) + \n",
    "  plot_annotation(\n",
    "  title = \"Proportions of Marital Status VS Attrition\",\n",
    "  caption = \"Data Source: Kaggle IBM HR Employee Attrition\"\n",
    ") & \n",
    "  theme(plot.caption = element_text(color = \"#969696\", size = 7))"
   ]
  },
  {
   "cell_type": "markdown",
   "metadata": {
    "_cell_guid": "6ae31dbf-ad2c-4d23-81ca-09196b748b96",
    "_uuid": "b7d374487128eb0572a5fb4e10393ce9c6168b43"
   },
   "source": [
    "Note: I've kept the x-axis labels as it is, so to not have misleading interpretations as in this plot and other plots as well.\n",
    "\n",
    "> e.g., in left plot, bars starts from top by \"Married\" while the attrition YES starts by \"Single\"\n",
    "\n",
    "**Proportions of Gender VS Attrition:**\n",
    "\n",
    "-   Somehow balanced, 60% Male and 40% Female.\n",
    "\n",
    "**Proportions of Marital Status VS Attrition:**\n",
    "\n",
    "-   Single tend to leave the organisation more than married and divorced.\n",
    "\n",
    "#### Attrition by Business Travel and Departments"
   ]
  },
  {
   "cell_type": "code",
   "execution_count": 12,
   "metadata": {
    "_cell_guid": "eccd172b-b426-4d00-8487-f8cec25e3d64",
    "_uuid": "e53073ee112bdac3cef1547d46bb114a31a0ca30",
    "collapsed": true,
    "vscode": {
     "languageId": "r"
    }
   },
   "outputs": [
    {
     "data": {
      "image/png": "[encoded data removed]",
      "text/plain": [
       "plot without title"
      ]
     },
     "metadata": {
      "image/png": {
       "height": 420,
       "width": 420
      }
     },
     "output_type": "display_data"
    },
    {
     "data": {
      "image/png": "[encoded data removed]",
      "text/plain": [
       "plot without title"
      ]
     },
     "metadata": {
      "image/png": {
       "height": 420,
       "width": 420
      }
     },
     "output_type": "display_data"
    }
   ],
   "source": [
    "plt_business_travel <- bar_plot_proportions(business_travel)\n",
    "plt_business_travel_att <- bar_plot_proportions(business_travel, attrition)\n",
    "plt_department <- bar_plot_proportions(department)\n",
    "plt_department_att <- bar_plot_proportions(department, attrition) \n",
    "\n",
    "\n",
    "(plt_business_travel + \n",
    "   plt_business_travel_att ) + \n",
    "  plot_annotation(\n",
    "  title = \"Proportions of Business travel VS Attrition\",\n",
    "  caption = \"Data Source: Kaggle IBM HR Employee Attrition\"\n",
    ") & \n",
    "  theme(plot.caption = element_text(color = \"#969696\", size = 7))\n",
    "\n",
    "\n",
    "\n",
    "\n",
    "   (plt_department + \n",
    "   plt_department_att) + \n",
    "  plot_annotation(\n",
    "  title = \"Proportions of Departments VS Attrition\",\n",
    "  caption = \"Data Source: Kaggle IBM HR Employee Attrition\"\n",
    ") & \n",
    "  theme(plot.caption = element_text(color = \"#969696\", size = 7))"
   ]
  },
  {
   "cell_type": "markdown",
   "metadata": {
    "_cell_guid": "99dfdfe4-926d-4786-a350-7c99057b64e4",
    "_uuid": "0cfb8f6c08e365c830fcaf69b72d6db8497cae9c"
   },
   "source": [
    "**Proportions of Business travel VS Attrition:**\n",
    "\n",
    "-   Who travel rarely tend to leave the organisation more than who travel Frequently and who do not travel.\n",
    "\n",
    "**Proportions of Departments VS Attrition:**\n",
    "\n",
    "-   R&D staff tend to leave the organization more than Sales Team and HR Team.\n",
    "\n",
    "-   Although the HR Team are less in proportions, i thing 1% and 12 out of 63 employees are high, knowing that the HR team and leaders have an essential role in avoiding and managing the turnover problem.\n",
    "\n",
    "#### Attrition by Job role Travel and Education field"
   ]
  },
  {
   "cell_type": "code",
   "execution_count": 13,
   "metadata": {
    "_cell_guid": "a6a031e3-5131-436b-9015-b981b49d9aec",
    "_uuid": "d2906ba0f3651d1b3c1d7a61766df6d0eae4591f",
    "collapsed": true,
    "vscode": {
     "languageId": "r"
    }
   },
   "outputs": [
    {
     "data": {
      "image/png": "[encoded data removed]",
      "text/plain": [
       "plot without title"
      ]
     },
     "metadata": {
      "image/png": {
       "height": 420,
       "width": 420
      }
     },
     "output_type": "display_data"
    },
    {
     "data": {
      "image/png": "[encoded data removed]",
      "text/plain": [
       "plot without title"
      ]
     },
     "metadata": {
      "image/png": {
       "height": 420,
       "width": 420
      }
     },
     "output_type": "display_data"
    }
   ],
   "source": [
    "plt_job_role <- bar_plot_proportions(job_role)\n",
    "plt_job_role_att <- bar_plot_proportions(job_role, attrition) \n",
    "plt_education_field <- bar_plot_proportions(education_field)\n",
    "plt_education_field_att <- bar_plot_proportions(education_field, attrition) \n",
    "\n",
    "(plt_job_role /\n",
    "   plt_job_role_att) + \n",
    "  plot_annotation(\n",
    "  title = \"Proportions of Job role VS Attrition\",\n",
    "  caption = \"Data Source: Kaggle IBM HR Employee Attrition\"\n",
    ") & \n",
    "  theme(plot.caption = element_text(color = \"#969696\", size = 7))\n",
    "\n",
    "\n",
    "   (plt_education_field /\n",
    "   plt_education_field_att) + \n",
    "  plot_annotation(\n",
    "  title = \"Proportions of Education field VS Attrition\",\n",
    "  caption = \"Data Source: Kaggle IBM HR Employee Attrition\"\n",
    ") & \n",
    "  theme(plot.caption = element_text(color = \"#969696\", size = 7))"
   ]
  },
  {
   "cell_type": "markdown",
   "metadata": {
    "_cell_guid": "db633873-4b0a-486a-89de-36446c0ec62e",
    "_uuid": "7e5969bd4328e72535ecc41389a472553921978a"
   },
   "source": [
    "**Proportions of Job role VS Attrition:**\n",
    "\n",
    "-   Laboratory Technician, Sales Executive, Research Scientist and Sales Representative, tend to leave the organisation more than others\n",
    "\n",
    "**Proportions of Education field VS Attrition:**\n",
    "\n",
    "-   Life Sciences and Medical tend to leave the organization more than others.\n",
    "\n",
    "### Monthly Income\n",
    "\n",
    "#### Monthly Income Distributions"
   ]
  },
  {
   "cell_type": "code",
   "execution_count": 14,
   "metadata": {
    "_cell_guid": "ac2c0a20-6ecb-4ae1-8975-6f1525f0f413",
    "_uuid": "1c5fa1e2f27ad117ff3b092077210648b9eae99b",
    "collapsed": true,
    "vscode": {
     "languageId": "r"
    }
   },
   "outputs": [
    {
     "data": {
      "image/png": "[encoded data removed]",
      "text/plain": [
       "plot without title"
      ]
     },
     "metadata": {
      "image/png": {
       "height": 420,
       "width": 420
      }
     },
     "output_type": "display_data"
    }
   ],
   "source": [
    "monthly_income_dist <- myData %>% select(monthly_income,) %>% \n",
    "  ggplot(aes( x = monthly_income)) +\n",
    "  geom_histogram(color = \"#16529A\", fill = \"#D3E8FB\", bins = 40) +\n",
    "  geom_vline(aes(xintercept = mean(monthly_income)), color = \"#FE8304\", size = 1.5) +\n",
    "   geom_vline(aes(xintercept = median(monthly_income)), color = \"#83470A\", size = 1.5) +\n",
    "  labs(\n",
    "    title = \"Monthly Income Distributions\",\n",
    "    subtitle = \"Histogram Plot\",\n",
    "    caption = \"Data Source: Kaggle IBM HR Employee Attrition\",\n",
    "    x = NULL,\n",
    "    y = NULL\n",
    "  )\n",
    "monthly_income_dist\n",
    "\n",
    "mean_mi <- round(mean(myData$monthly_income),2)\n",
    "median_mi <- round(median(myData$monthly_income),2)\n"
   ]
  },
  {
   "cell_type": "markdown",
   "metadata": {
    "_cell_guid": "73fcf4f7-561f-49bc-8d18-a87b0e5a9ba9",
    "_uuid": "a56e140563a2879beb0bb1f7784259111d7e45f3"
   },
   "source": [
    "- Monthly Income is positively skewed.\n",
    "\n",
    "- The mean is **`r mean_mi`** and the median is **`r median_mi`**.\n",
    "\n",
    "- Most of employees are paid below the mean and the median of Monthly Income, that is normal in the most of organizations. \n",
    "\n",
    "#### Monthly Income by Gender"
   ]
  },
  {
   "cell_type": "code",
   "execution_count": 15,
   "metadata": {
    "_cell_guid": "5a3e2281-f920-4050-b5cc-514d89b4900b",
    "_uuid": "f86a83eed267770e81a64a86833f82c55e076352",
    "collapsed": true,
    "vscode": {
     "languageId": "r"
    }
   },
   "outputs": [
    {
     "data": {
      "image/png": "[encoded data removed]",
      "text/plain": [
       "plot without title"
      ]
     },
     "metadata": {
      "image/png": {
       "height": 420,
       "width": 420
      }
     },
     "output_type": "display_data"
    }
   ],
   "source": [
    "ggplot(myData,\n",
    "       aes(x = gender,\n",
    "           y = monthly_income,\n",
    "           fill = gender)) +\n",
    "  geom_boxplot(show.legend = FALSE) +\n",
    "  scale_fill_manual(values = c(\"#DE391B\", \"#EDB45B\")) +\n",
    "  coord_flip() +\n",
    "   scale_y_continuous(labels = label_dollar()) +\n",
    "  labs(title = \"The gender gap in monthly income\",\n",
    "       caption = \"Data Source: Kaggle IBM HR Employee Attrition\",\n",
    "       x = \"Gender\",\n",
    "       y = \"Monthly Income\")"
   ]
  },
  {
   "cell_type": "markdown",
   "metadata": {
    "_cell_guid": "2262879c-bdf4-49fa-8c8c-eeeb8bd4caa0",
    "_uuid": "cd2c9c0196a1e3300acb5c413559f49282660f7e"
   },
   "source": [
    "Although the Median is noticeably close, the Outliers in the Male are relatively more than Female.\n",
    "\n",
    "#### Monthly by Gender"
   ]
  },
  {
   "cell_type": "code",
   "execution_count": 16,
   "metadata": {
    "_cell_guid": "ed7cd5d5-6c39-4881-8dbb-c8a18f56ea5a",
    "_uuid": "085f7a8d54b9b23260fead5fab09dbc47b5c008c",
    "collapsed": true,
    "vscode": {
     "languageId": "r"
    }
   },
   "outputs": [
    {
     "data": {
      "image/png": "[encoded data removed]",
      "text/plain": [
       "plot without title"
      ]
     },
     "metadata": {
      "image/png": {
       "height": 420,
       "width": 420
      }
     },
     "output_type": "display_data"
    }
   ],
   "source": [
    "myData %>% select(monthly_income, gender) %>%\n",
    "  ggplot(aes(monthly_income)) +\n",
    "  geom_histogram(\n",
    "    aes(monthly_income, color = gender, fill = gender),\n",
    "    alpha = 0.4,\n",
    "    position = \"identity\",\n",
    "    bins = 50,\n",
    "  ) +\n",
    "  geom_freqpoly(aes(linetype = gender), bins = 30) +\n",
    "  geom_rug(aes(color = gender)) +\n",
    "  scale_fill_manual(values = c(\"#00796B\", \"#FCD735\")) +\n",
    "  scale_color_manual(values = c(\"#00796B\", \"#FCD735\")) +\n",
    "  scale_x_continuous(labels = label_dollar()) +\n",
    "  guides(color = \"none\") +\n",
    "  labs(title = \"Distridution of Monthly Income by Gender\",\n",
    "       x = \"Monthly Income\",\n",
    "       y = NULL,\n",
    "       fill = NULL,\n",
    "       linetype = NULL)"
   ]
  },
  {
   "cell_type": "markdown",
   "metadata": {
    "_cell_guid": "b00c35ed-4a1d-4351-9f83-0a0b8317bd02",
    "_uuid": "73cfcf1f6bb79f179e02ba4935084c4da72a1d05"
   },
   "source": [
    "- It is acceptable, especially if we know that the number of Male are More than the number of Female.\n",
    " \n",
    "- We can see that the Outleirs are somehow proportionally shared between Male and Female, ~15,000 is somehow an exception!\n",
    " \n",
    "#### Average Income by Gender and Number of Employees by Department"
   ]
  },
  {
   "cell_type": "code",
   "execution_count": 17,
   "metadata": {
    "_cell_guid": "614fc04e-f9c0-4611-ab3d-08124db541da",
    "_uuid": "7475e5187c5f1a5c52c8eaea246e122086105c7d",
    "collapsed": true,
    "vscode": {
     "languageId": "r"
    }
   },
   "outputs": [
    {
     "data": {
      "image/png": "[encoded data removed]",
      "text/plain": [
       "plot without title"
      ]
     },
     "metadata": {
      "image/png": {
       "height": 420,
       "width": 420
      }
     },
     "output_type": "display_data"
    }
   ],
   "source": [
    "income_by_gender_plt <-\n",
    "  myData %>% \n",
    "  select(gender, monthly_income) %>%\n",
    "  group_by(gender) %>%\n",
    "  summarise(avg_income = round(mean(monthly_income), 2), .groups = \"drop\") %>%\n",
    "  ggplot(aes(x = gender, y = avg_income)) +\n",
    "  geom_col(aes(fill = gender), width = 0.3, show.legend = FALSE) +\n",
    "  geom_text(\n",
    "    aes(\n",
    "      x = gender,\n",
    "      y = 0.01,\n",
    "      label = dollar(avg_income, prefix = \"USD  \")\n",
    "    ),\n",
    "    hjust = -0.2,\n",
    "    size = 4,\n",
    "    colour = \"white\",\n",
    "    fontface = \"bold\"\n",
    "  ) +\n",
    "  coord_flip() +\n",
    "  scale_y_continuous(labels = label_dollar()) +\n",
    "  scale_fill_manual(values = c(\"#E41AAC\", \"#00838F\")) +\n",
    "  theme(plot.title = element_text(size = 14, hjust = 0.5)) +\n",
    "  labs(title = \"Average Monthly Income by Gender\",\n",
    "       x = NULL,\n",
    "       y = NULL)\n",
    "\n",
    "\n",
    "\n",
    "gender_by_department_plt <- \n",
    "  myData %>%\n",
    "  group_by(department, gender) %>% \n",
    "  summarise(amount = n(), .groups = \"drop\") %>%\n",
    "  ggplot(aes(\n",
    "    x = fct_reorder(department, amount),\n",
    "    y = amount,\n",
    "    fill = gender\n",
    "  )) + \n",
    "  geom_col(position = \"dodge\") +\n",
    "  theme(axis.text.x = element_text(angle = 90),\n",
    "        plot.title = element_text(hjust = 0.5),\n",
    "        legend.position = \"top\") + \n",
    "  scale_fill_manual(values = c(\"#E41AAC\", \"#00838F\")) +\n",
    "  labs(title = \"Number of Employees by Department and Gender\",\n",
    "x = NULL,\n",
    "y = NULL,\n",
    "fill = NULL)\n",
    "\n",
    "\n",
    "employees_departments_plt <- \n",
    "  myData %>% \n",
    "  group_by(department) %>% \n",
    "  summarise(amount = n()) %>%\n",
    "  mutate(prop = round(amount / sum(amount) * 100, 1),\n",
    "         ypos = cumsum(prop)- 0.5*prop ) %>%\n",
    "  ggplot(aes(x = \"\", y = prop, fill = department)) +\n",
    "  geom_col() +\n",
    "  coord_polar(\"y\", start = 0) +\n",
    "  \n",
    "  geom_text(\n",
    "    aes(y = prop, label = str_c(prop, \"%\", sep = \"\")),\n",
    "    position = position_stack(vjust = 0.5),\n",
    "    size = 3,\n",
    "    col = \"white\",\n",
    "    fontface = \"bold\"\n",
    "  ) +\n",
    "  scale_fill_manual (values = c(\"#0E8A41\", \"#0B2D5B\", \"#E4652E\")) +\n",
    "  theme(legend.position = \"top\")+\n",
    "  labs(\n",
    "    title = \"Number of Employees by Department\",\n",
    "    fill = NULL,\n",
    "    x = NULL,\n",
    "    y = NULL\n",
    "  )\n",
    "\n",
    "\n",
    "\n",
    "(( employees_departments_plt / gender_by_department_plt ) | income_by_gender_plt ) +\n",
    "  plot_annotation(\n",
    "    caption = \"Data Source: Kaggle IBM HR Employee Attrition\"\n",
    "  ) &\n",
    "  theme(plot.caption = element_text(color = \"#969696\", size = 7),\n",
    "        plot.title = element_text(size = 10))"
   ]
  },
  {
   "cell_type": "markdown",
   "metadata": {},
   "source": [
    "We can see here that the Average Monthly income is almost the same for Male and Female, although I prefer to change the terms Male and Female to Men and Women. \n",
    "\n",
    "#### Monthly income by Age:"
   ]
  },
  {
   "cell_type": "code",
   "execution_count": 18,
   "metadata": {
    "_cell_guid": "2ff1bfa1-dc31-49e0-b8ca-c764cc7a99dd",
    "_uuid": "01edb6099b8c936235b4e9a48c474a15f821ad3a",
    "collapsed": true,
    "vscode": {
     "languageId": "r"
    }
   },
   "outputs": [
    {
     "name": "stderr",
     "output_type": "stream",
     "text": [
      "\u001b[1m\u001b[22m`geom_smooth()` using method = 'gam' and formula = 'y ~ s(x, bs = \"cs\")'\n"
     ]
    },
    {
     "data": {
      "image/png": "[encoded data removed]",
      "text/plain": [
       "plot without title"
      ]
     },
     "metadata": {
      "image/png": {
       "height": 420,
       "width": 420
      }
     },
     "output_type": "display_data"
    }
   ],
   "source": [
    "myData %>% select(age, monthly_income) %>%\n",
    "  mutate(point_color = case_when(monthly_income > 15000 &\n",
    "                                 age < 35 ~ \"1st_col\",\n",
    "                                 monthly_income > 15000 &\n",
    "                                 age > 35 ~ \"2nd_col\",\n",
    "                                 TRUE ~ \"3rd_col\"\n",
    "  )) %>% \n",
    "  ggplot(aes(x = age, y = monthly_income)) +\n",
    "  geom_point(aes(color = point_color), size = 3, show.legend = FALSE) +\n",
    "  geom_hline(aes(yintercept = mean(monthly_income)), color = \"#9F28A9\", size = 1) +\n",
    "  geom_vline(aes(xintercept = mean(age)), color = \"#0E7BF1\", size = 1) +\n",
    "  geom_smooth(color = \"#CD5906\", fill = \"#BD853D\") +\n",
    "  scale_y_continuous(labels = label_dollar()) +\n",
    "  scale_color_manual(values = c(\"1st_col\" = \"#30E893\", \"2nd_col\" = \"#A02448\", \"3rd_col\" = \"#9E9A99\")) +\n",
    "  annotate(\n",
    "    geom = \"text\",\n",
    "    x = 36,\n",
    "    y = 18000,\n",
    "    label = \"Mean (Age)\",\n",
    "    size = 3,\n",
    "    angle = 90,\n",
    "    color = \"#0E7BF1\"\n",
    "  ) +\n",
    "  annotate(\n",
    "    geom = \"text\",\n",
    "    x = 21,\n",
    "    y = 6900,\n",
    "    label = \"Mean (Monthly income)\",\n",
    "    size = 3,\n",
    "    color = \"#9F28A9\"\n",
    "  ) +\n",
    "theme(\n",
    "  plot.title.position = \"plot\",\n",
    "  plot.title = element_text(\n",
    "    hjust = 0,\n",
    "    face = \"bold\",\n",
    "    size = 13,\n",
    "    color = \"#000000\"\n",
    "  )\n",
    ") +\n",
    "  labs(\n",
    "    title = \"Monthly income by Age\",\n",
    "    subtitle = \"Scatter Plot with mean age and mean Monthly Income\",\n",
    "    caption = \"Data Source: Kaggle IBM HR Employee Attrition\",\n",
    "    x = \"Age\",\n",
    "    y = \"Monthly income\"\n",
    "  )"
   ]
  },
  {
   "cell_type": "markdown",
   "metadata": {},
   "source": [
    "- Five data points are clustered below the mean age and above 15,000 \n",
    "- Another cluster above the mean age and above 15,000\n",
    "- The majority of employees are below 10,000 and below 45 years old\n",
    "\n",
    "The distributions, in my opinion, is practically normal.\n",
    "\n",
    "#### Monthly income by Total working years:"
   ]
  },
  {
   "cell_type": "code",
   "execution_count": 19,
   "metadata": {
    "_cell_guid": "2640bde9-8b53-4fa9-b04a-1b486bfe09d0",
    "_uuid": "e81f5170a3617b4d5b4169e78d561b18cbbaebcd",
    "collapsed": true,
    "vscode": {
     "languageId": "r"
    }
   },
   "outputs": [
    {
     "name": "stderr",
     "output_type": "stream",
     "text": [
      "\u001b[1m\u001b[22m`geom_smooth()` using method = 'gam' and formula = 'y ~ s(x, bs = \"cs\")'\n"
     ]
    },
    {
     "data": {
      "image/png": "[encoded data removed]",
      "text/plain": [
       "plot without title"
      ]
     },
     "metadata": {
      "image/png": {
       "height": 420,
       "width": 420
      }
     },
     "output_type": "display_data"
    }
   ],
   "source": [
    "myData %>% select(total_working_years, monthly_income) %>%\n",
    "  mutate(point_color = case_when(monthly_income > 15000 &\n",
    "                                 total_working_years < 10 ~ \"1st_col\",\n",
    "                                 TRUE ~ \"2nd_col\"\n",
    "  )) %>%\n",
    "  ggplot(aes(x = total_working_years, y = monthly_income)) +\n",
    "  geom_point(aes(color = point_color), size = 2.7, show.legend = FALSE) +\n",
    "  geom_hline(aes(yintercept = mean(monthly_income)), color = \"#9F28A9\", size = 1) +\n",
    "  geom_vline(aes(xintercept = median(total_working_years)), color = \"#0E7BF1\", size = 1) +\n",
    "  geom_smooth(color = \"#CD5906\", fill = \"#BD853D\") +\n",
    "  scale_y_continuous(labels = label_dollar()) +\n",
    "  scale_color_manual(values = c( \"1st_col\" = \"#30E893\", \"2nd_col\" = \"#9E9A99\")) +\n",
    "  annotate(\n",
    "    geom = \"text\",\n",
    "    x = 10.5,\n",
    "    y = 17000,\n",
    "    label = \"Median (total working years)\",\n",
    "    size = 3,\n",
    "    angle = 90,\n",
    "    color = \"#0E7BF1\"\n",
    "  ) +\n",
    "  annotate(\n",
    "    geom = \"text\",\n",
    "    x = 30,\n",
    "    y = 6260,\n",
    "    label = \"Mean (Monthly income)\",\n",
    "    size = 3,\n",
    "    color = \"#9F28A9\"\n",
    "  ) +\n",
    "theme(\n",
    "  plot.title.position = \"plot\",\n",
    "  plot.title = element_text(\n",
    "    hjust = 0,\n",
    "    face = \"bold\",\n",
    "    size = 13,\n",
    "    color = \"#000000\"\n",
    "  )\n",
    ") +\n",
    "  labs(\n",
    "    title = \"Monthly income by Total working years\",\n",
    "    subtitle = \"Scatter Plot with median Total working years and mean Monthly Income\",\n",
    "    caption = \"Data Source: Kaggle IBM HR Employee Attrition\",\n",
    "    x = \"Total working years\",\n",
    "    y = \"Monthly income\"\n",
    "  )"
   ]
  },
  {
   "cell_type": "markdown",
   "metadata": {},
   "source": [
    "- Two data points are clustered below the median total working years and above 15,000.\n",
    "- Another 2 data points on the median total working years and above 15,000\n",
    "- It is very practical figure that the Monthly Income increases when the Total working years increases.\n",
    "\n",
    "#### Attrition by Monthly Income and Age"
   ]
  },
  {
   "cell_type": "code",
   "execution_count": 20,
   "metadata": {
    "_cell_guid": "178d9956-6b02-49f7-80d9-e992693d2baf",
    "_uuid": "95a8d1c3ddd6e8c86ed8d29f3c7432043417a8b1",
    "collapsed": true,
    "vscode": {
     "languageId": "r"
    }
   },
   "outputs": [
    {
     "name": "stderr",
     "output_type": "stream",
     "text": [
      "\u001b[1m\u001b[22m`geom_smooth()` using formula = 'y ~ x'\n",
      "Warning message:\n",
      "\"\u001b[1m\u001b[22mThe following aesthetics were dropped during statistical transformation: \u001b[32mcolour\u001b[39m\n",
      "\u001b[36mℹ\u001b[39m This can happen when ggplot fails to infer the correct grouping structure in\n",
      "  the data.\n",
      "\u001b[36mℹ\u001b[39m Did you forget to specify a `group` aesthetic or to convert a numerical\n",
      "  variable into a factor?\"\n",
      "Warning message:\n",
      "\"\u001b[1m\u001b[22mThe following aesthetics were dropped during statistical transformation: \u001b[32mcolour\u001b[39m\n",
      "\u001b[36mℹ\u001b[39m This can happen when ggplot fails to infer the correct grouping structure in\n",
      "  the data.\n",
      "\u001b[36mℹ\u001b[39m Did you forget to specify a `group` aesthetic or to convert a numerical\n",
      "  variable into a factor?\"\n"
     ]
    }
   ],
   "source": [
    "myData %>% select(age, monthly_income, attrition) %>%\n",
    "  ggplot(aes(age, monthly_income, color = monthly_income)) +\n",
    "  geom_point() +\n",
    "  geom_smooth(method = \"lm\") +\n",
    "  facet_wrap(vars(attrition)) +\n",
    "  scale_y_continuous(labels = label_dollar()) +\n",
    "  scale_color_viridis_c(labels = label_dollar()) +\n",
    "  theme(strip.background = element_rect(fill = \"#B66611\"),\n",
    "        strip.text = element_text(color = \"white\", face = \"bold\", size = 8)) +\n",
    "  labs(title = \"Monthly Income by Age and Attrition\",\n",
    "       x = NULL,\n",
    "       y = NULL,\n",
    "       color = NULL)"
   ]
  },
  {
   "cell_type": "markdown",
   "metadata": {},
   "source": [
    "- Those how have low monthly income tend to leave the organization. \n",
    "- Five data points above 20,000 and above 40 years old , attrition YES\n",
    "\n",
    "#### Monthly income by Age, Departemnts"
   ]
  },
  {
   "cell_type": "code",
   "execution_count": null,
   "metadata": {
    "_cell_guid": "8f5f4f51-a10f-4f80-8bf8-e09120c74e57",
    "_uuid": "f9002f85f72cf61fae186958d3f0b2b4ab65d657",
    "collapsed": true,
    "vscode": {
     "languageId": "r"
    }
   },
   "outputs": [
    {
     "name": "stderr",
     "output_type": "stream",
     "text": [
      "Warning message:\n",
      "\"\u001b[1m\u001b[22m`aes_string()` was deprecated in ggplot2 3.0.0.\n",
      "\u001b[36mℹ\u001b[39m Please use tidy evaluation idioms with `aes()`.\n",
      "\u001b[36mℹ\u001b[39m See also `vignette(\"ggplot2-in-packages\")` for more information.\"\n"
     ]
    },
    {
     "name": "stderr",
     "output_type": "stream",
     "text": [
      "Warning message:\n",
      "\"\u001b[1m\u001b[22mThe `size` argument of `element_rect()` is deprecated as of ggplot2 3.4.0.\n",
      "\u001b[36mℹ\u001b[39m Please use the `linewidth` argument instead.\"\n",
      "\u001b[1m\u001b[22m`geom_smooth()` using method = 'loess' and formula = 'y ~ x'\n",
      "\u001b[1m\u001b[22m`geom_smooth()` using method = 'loess' and formula = 'y ~ x'\n",
      "\u001b[1m\u001b[22m`geom_smooth()` using method = 'loess' and formula = 'y ~ x'\n"
     ]
    },
    {
     "data": {
      "image/png": "[encoded data removed]",
      "text/plain": [
       "plot without title"
      ]
     },
     "metadata": {
      "image/png": {
       "height": 420,
       "width": 420
      }
     },
     "output_type": "display_data"
    }
   ],
   "source": [
    "age_sales_mi <- across_features_num_x_plot(x_var = \"age\",\n",
    "                                           section = \"department\",\n",
    "                                           subsection = \"Sales\",\n",
    "                                           y_var = \"monthly_income\") + \n",
    "                geom_smooth(color = \"#E4652E\", se = F) + \n",
    "                scale_y_continuous(label = dollar)\n",
    "\n",
    "\n",
    "age_RD_mi <- across_features_num_x_plot(x_var = \"age\", \n",
    "                                        section = \"department\",\n",
    "                                        subsection = \"R&D\",\n",
    "                                        y_var = \"monthly_income\") + \n",
    "             geom_smooth(color = \"#E4652E\", se = F) +\n",
    "             scale_y_continuous(label = dollar)\n",
    "\n",
    "\n",
    "age_HR_mi <- across_features_num_x_plot(x_var = \"age\", \n",
    "                                        section = \"department\",\n",
    "                                        subsection = \"HR\",\n",
    "                                        y_var = \"monthly_income\") + \n",
    "             geom_smooth(color = \"#E4652E\", se = F) + \n",
    "             scale_y_continuous(label = dollar) \n",
    "\n",
    "\n",
    "(age_sales_mi / age_RD_mi / age_HR_mi) + \n",
    "  plot_annotation(\n",
    "    caption = \"Data Source: Kaggle IBM HR Employee Attrition\"\n",
    "  ) +\n",
    "  plot_layout(height = c(1, 1.5, 1)) &\n",
    "  theme(plot.background = element_rect(\n",
    "    color  = \"#3F39B7\",\n",
    "    size = 0.8,\n",
    "    linetype = \"dotted\",\n",
    "    fill = \"ivory\"\n",
    "  ))"
   ]
  },
  {
   "cell_type": "markdown",
   "metadata": {
    "_cell_guid": "246d7318-7fa5-4406-9b4a-3cbe6aa8c9d4",
    "_uuid": "0db89db6b33bac34d833cd73c565526b3c333c5e"
   },
   "source": [
    "- R&D Department has the highest number of employees then Sales Department and HR is the lowest Number, that is reasonably Normal\n",
    "- Proportionally, R&D has the highest number of employees who have the highest Salary, then Sales and HR.\n",
    "\n",
    "#### Monthly income by business travel and Departments"
   ]
  },
  {
   "cell_type": "code",
   "execution_count": null,
   "metadata": {
    "_cell_guid": "058490fc-9b92-42b9-8eb3-0d71b1f1f60e",
    "_uuid": "de18c373ba6eb26c2c7c8c948c44e26fc00d768e",
    "collapsed": true,
    "vscode": {
     "languageId": "r"
    }
   },
   "outputs": [
    {
     "data": {
      "image/png": "[encoded data removed]",
      "text/plain": [
       "plot without title"
      ]
     },
     "metadata": {
      "image/png": {
       "height": 420,
       "width": 420
      }
     },
     "output_type": "display_data"
    }
   ],
   "source": [
    "bt_sales_mi <- across_features_fact_x_plot(x_var = \"business_travel\",\n",
    "                                           section = \"department\",\n",
    "                                           subsection = \"Sales\",\n",
    "                                           y_var = \"monthly_income\") + \n",
    "                scale_y_continuous(label = dollar)\n",
    "\n",
    "\n",
    "bt_RD_mi <- across_features_fact_x_plot(x_var = \"business_travel\", \n",
    "                                        section = \"department\",\n",
    "                                        subsection = \"R&D\",\n",
    "                                        y_var = \"monthly_income\") +\n",
    "             scale_y_continuous(label = dollar)\n",
    "\n",
    "\n",
    "bt_HR_mi <- across_features_fact_x_plot(x_var = \"business_travel\", \n",
    "                                        section = \"department\",\n",
    "                                        subsection = \"HR\",\n",
    "                                        y_var = \"monthly_income\") + \n",
    "             scale_y_continuous(label = dollar) \n",
    "\n",
    "\n",
    "(bt_sales_mi / bt_RD_mi / bt_HR_mi) + \n",
    "  plot_annotation(\n",
    "    caption = \"Data Source: Kaggle IBM HR Employee Attrition\"\n",
    "  ) +\n",
    "  plot_layout(height = c(1, 1.5, 1)) &\n",
    "  theme(plot.background = element_rect(\n",
    "    color  = \"#3F39B7\",\n",
    "    size = 0.8,\n",
    "    linetype = \"dotted\",\n",
    "    fill = \"#F7EEE7\"\n",
    "  ))"
   ]
  },
  {
   "cell_type": "markdown",
   "metadata": {
    "_cell_guid": "7a461894-aca2-47f2-8df6-fe1213ca747b",
    "_uuid": "37a8f272c1066efd99971a09e762c99624d27f20"
   },
   "source": [
    "- R&D and Sales: Employees below 5,000 in monthly income tend to travel frequently more than others, although R&D has the majority of employees\n",
    "\n",
    "#### Monthly income by Gender and Business travel"
   ]
  },
  {
   "cell_type": "code",
   "execution_count": null,
   "metadata": {
    "_cell_guid": "0c09d74f-b6bc-463d-8c10-c91b9948e6f4",
    "_uuid": "fd692ecab2abd94a3d6751e6bee4de7e7870eca9",
    "collapsed": true,
    "vscode": {
     "languageId": "r"
    }
   },
   "outputs": [
    {
     "data": {
      "image/png": "[encoded data removed]",
      "text/plain": [
       "plot without title"
      ]
     },
     "metadata": {
      "image/png": {
       "height": 420,
       "width": 420
      }
     },
     "output_type": "display_data"
    }
   ],
   "source": [
    "gen_Frequently_mi <- across_features_fact_x_plot(x_var = \"gender\",\n",
    "                                           section = \"business_travel\",\n",
    "                                           subsection = \"Frequently\",\n",
    "                                           y_var = \"monthly_income\") + \n",
    "                scale_y_continuous(label = dollar)\n",
    "\n",
    "\n",
    "gen_Rarely_mi <- across_features_fact_x_plot(x_var = \"gender\", \n",
    "                                        section = \"business_travel\",\n",
    "                                        subsection = \"Rarely\",\n",
    "                                        y_var = \"monthly_income\") +\n",
    "             scale_y_continuous(label = dollar)\n",
    "\n",
    "\n",
    "gen_Non_Travel_mi <- across_features_fact_x_plot(x_var = \"gender\", \n",
    "                                        section = \"business_travel\",\n",
    "                                        subsection = \"Non-Travel\",\n",
    "                                        y_var = \"monthly_income\") + \n",
    "             scale_y_continuous(label = dollar) \n",
    "\n",
    "\n",
    "\n",
    "(gen_Rarely_mi / gen_Non_Travel_mi / gen_Frequently_mi) + \n",
    "  plot_annotation(\n",
    "    caption = \"Data Source: Kaggle IBM HR Employee Attrition\"\n",
    "  ) +\n",
    "  plot_layout(height = c(1, 1.5, 1)) &\n",
    "  theme(plot.background = element_rect(\n",
    "    color  = \"#3F39B7\",\n",
    "    size = 0.8,\n",
    "    linetype = \"dotted\",\n",
    "    fill = \"#E5FDE3\"\n",
    "  ))"
   ]
  },
  {
   "cell_type": "markdown",
   "metadata": {},
   "source": [
    "- It is clear that there is no big difference between Women and Men in terms of Business travel categories\n",
    "\n",
    "#### Monthly income by Gender and Education field"
   ]
  },
  {
   "cell_type": "code",
   "execution_count": null,
   "metadata": {
    "_cell_guid": "ff568ef9-6e7d-482f-babf-b7594360544d",
    "_uuid": "a3e5968b3286fc6893b3e72fd9c6e15072f973aa",
    "collapsed": true,
    "vscode": {
     "languageId": "r"
    }
   },
   "outputs": [
    {
     "data": {
      "image/png": "[encoded data removed]",
      "text/plain": [
       "plot without title"
      ]
     },
     "metadata": {
      "image/png": {
       "height": 420,
       "width": 420
      }
     },
     "output_type": "display_data"
    }
   ],
   "source": [
    "edu_male_mi <- across_features_fact_x_plot(x_var = \"education_field\",\n",
    "                                           section = \"gender\",\n",
    "                                           subsection = \"Male\",\n",
    "                                           y_var = \"monthly_income\") + \n",
    "                scale_y_continuous(label = dollar)\n",
    "\n",
    "\n",
    "edu_female_mi <- across_features_fact_x_plot(x_var = \"education_field\", \n",
    "                                        section = \"gender\",\n",
    "                                        subsection = \"Female\",\n",
    "                                        y_var = \"monthly_income\") +\n",
    "             scale_y_continuous(label = dollar)\n",
    "\n",
    "\n",
    "\n",
    "(edu_male_mi / edu_female_mi) + \n",
    "  plot_annotation(\n",
    "    caption = \"Data Source: Kaggle IBM HR Employee Attrition\"\n",
    "  ) +\n",
    "  plot_layout(height = c(1,1)) &\n",
    "  theme(plot.background = element_rect(\n",
    "    color  = \"#3F39B7\",\n",
    "    size = 0.8,\n",
    "    linetype = \"dotted\",\n",
    "    fill = \"#FEFFF2\"\n",
    "  ))"
   ]
  },
  {
   "cell_type": "markdown",
   "metadata": {},
   "source": [
    "- According to many plots for Gender, and age and now Education field, the Gender and Age are non important variables to among many others like Education field, business travel.\n",
    "\n",
    "No we are going to check the Over-Time variable, \n",
    "\n",
    "\n",
    "\n",
    "### Over Time\n",
    "\n",
    "Reasons for Using Overtime\n",
    "\n",
    "There are many reasons for the organisation using overtime:\n",
    "\n",
    "- 24/7 coverage.\n",
    "- Workload fluctuations.\n",
    "- Staff variations.\n",
    "\n",
    "There are 4 common reasons employees work Over-Time.\n",
    "\n",
    "- I want to impress my boss syndrome\n",
    "\n",
    "- Overtime Pay\n",
    "\n",
    "- Mandatory overtime \n",
    "\n",
    "- Workload \n",
    "\n",
    "#### Monthly Income distribution by Over-Time"
   ]
  },
  {
   "cell_type": "code",
   "execution_count": null,
   "metadata": {
    "_cell_guid": "5f1e1002-ee3f-47eb-a521-d03f76192de9",
    "_uuid": "27bfd50d8d757f3c029cebd58ee2e9e96782cd0d",
    "collapsed": true,
    "vscode": {
     "languageId": "r"
    }
   },
   "outputs": [
    {
     "data": {
      "image/png": "[encoded data removed]",
      "text/plain": [
       "plot without title"
      ]
     },
     "metadata": {
      "image/png": {
       "height": 420,
       "width": 420
      }
     },
     "output_type": "display_data"
    }
   ],
   "source": [
    "monthly_income_dist <- myData %>% select(monthly_income, ) %>%\n",
    "  ggplot(aes(x = monthly_income)) +\n",
    "  geom_histogram(color = \"#16529A\", fill = \"#62B89E\", bins = 40) +\n",
    "  geom_vline(aes(xintercept = mean(monthly_income)), color = \"#FFBF4D\", size = 1.5) +\n",
    "  theme(axis.text.x = element_blank(),\n",
    "        axis.ticks.x = element_blank()\n",
    "        )+\n",
    "  labs(\n",
    "    title = \"Monthly Income Distributions and Attrition\",\n",
    "    subtitle = \"Histogram and Violin Plot\",\n",
    "    x = NULL,\n",
    "    y = NULL\n",
    "  )\n",
    "\n",
    "\n",
    "\n",
    "mi_over_time <-\n",
    "  myData %>% select(monthly_income, over_time) %>%\n",
    "  ggplot(aes(x = over_time, y = monthly_income)) +\n",
    "  geom_violin(color = \"#16529A\", fill = \"#62B89E\") +\n",
    "  geom_dotplot(\n",
    "    binaxis = \"y\",\n",
    "    binwidth = 100,\n",
    "    stackdir = \"center\",\n",
    "    color = \"#F3C80D\"\n",
    "  ) +\n",
    "  coord_flip() +\n",
    "  scale_y_continuous(labels = label_dollar()) +\n",
    "   labs(\n",
    "    title = NULL,\n",
    "    subtitle = NULL,\n",
    "    caption = \"Data Source: Kaggle IBM HR Employee Attrition\",\n",
    "    x = NULL,\n",
    "    y = NULL\n",
    "  )\n",
    "\n",
    "\n",
    "monthly_income_dist / mi_over_time"
   ]
  },
  {
   "cell_type": "markdown",
   "metadata": {
    "_cell_guid": "3a673f78-7c0a-4c2d-8f34-acd8f2993675",
    "_uuid": "e70f15407129906441f5a8a102aa20445d53fb3f"
   },
   "source": [
    "- The majority of Employees who take Over-time are those who are below the mean of Monthly Income\n",
    "\n",
    "Practically Normal\n",
    "\n",
    "#### Over-time distributions by Education feild and Attrition"
   ]
  },
  {
   "cell_type": "code",
   "execution_count": null,
   "metadata": {
    "_cell_guid": "82f7af28-8310-4e30-afcb-677ed9927b18",
    "_uuid": "35b61dce8751aeff1f83a423942124a9b84a6890",
    "collapsed": true,
    "vscode": {
     "languageId": "r"
    }
   },
   "outputs": [
    {
     "data": {
      "image/png": "[encoded data removed]",
      "text/plain": [
       "plot without title"
      ]
     },
     "metadata": {
      "image/png": {
       "height": 420,
       "width": 420
      }
     },
     "output_type": "display_data"
    }
   ],
   "source": [
    "over_att_marital_status <- myData %>% select(over_time, attrition, marital_status) %>%\n",
    "  group_by(over_time, attrition, marital_status) %>%\n",
    "  summarise(count = n(), .groups = \"drop\") %>%\n",
    "  mutate(prop = str_c(round(count / sum(count) * 100, 0), \"%\"),\n",
    "         label_vjust = case_when(\n",
    "                  count < quantile(count, probs = 0.3) ~ -0.5,\n",
    "                  TRUE ~ 1.5,\n",
    "                ), \n",
    "         label_color = case_when(\n",
    "                  count < quantile(count, probs = 0.3) ~ \"black\",\n",
    "                  TRUE ~ \"white\",\n",
    "                ))\n",
    "\n",
    "\n",
    "ggplot(over_att_marital_status, aes(x = marital_status, y = count, fill = over_time)) +\n",
    "  geom_col(width = 0.8,\n",
    "           color = \"#FAFACD\"\n",
    "           ) +\n",
    "  geom_text(show.legend = FALSE,\n",
    "    aes(label = prop, \n",
    "        vjust = label_vjust,\n",
    "        color = label_color),\n",
    "    size = 4,\n",
    "    fontface = \"bold\"\n",
    "  ) +\n",
    "  facet_wrap(vars(str_c(\"Attrition\", attrition, sep =  \" \") ,\n",
    "                  str_c(\"Over-Time\", over_time, sep = \" \")),\n",
    "             scales = \"free_x\") +\n",
    "  scale_fill_manual (values = c(\"#881593\", \"#0052CA\")) +\n",
    "  scale_color_manual (values = c(\"black\", \"white\"))+\n",
    "   theme(\n",
    "        legend.position = \"none\",\n",
    "        strip.background = element_rect(fill = \"#BB0E0A\"),\n",
    "        strip.text = element_text(color = \"#FFF6D8\", face = \"bold\", size = 11),\n",
    "        axis.text.x = element_text(angle = 75, hjust = 1),\n",
    "        plot.background = element_rect(fill = \"#FFF1B2\")) +\n",
    "  labs(\n",
    "    title = \"Over-time distributions by Marital Status and Attrition\",\n",
    "    subtitle = \"Column Plot, proportion of YES to NO in over-time Var\",\n",
    "    caption = \"Data Source: Kaggle IBM HR Employee Attrition\",\n",
    "    x= \"Education Feild\",\n",
    "    y = \"Count\",\n",
    "    \n",
    "  )"
   ]
  },
  {
   "cell_type": "markdown",
   "metadata": {
    "_cell_guid": "688761c5-25fe-46eb-9df9-d1cc180a224d",
    "_uuid": "92463b2799e86e72682e9ab9a52d8ce7681dbd40"
   },
   "source": [
    "- Really one of the main challenges in interpreting those plots is the imbalanced class variable (label), this will be a chalange during building a model. \n",
    "\n",
    "- Married people tend to take overtime more than others, however, Single people tend to leave the organization more than others.\n",
    "\n",
    "\n",
    "#### Over-time distributions by Gender and Attrition"
   ]
  },
  {
   "cell_type": "code",
   "execution_count": null,
   "metadata": {
    "_cell_guid": "b3c90cb7-c94f-4720-be68-09849145ae99",
    "_uuid": "479250c319618cba0307bdb7ff00e45e2bdce883",
    "collapsed": true,
    "scrolled": true,
    "vscode": {
     "languageId": "r"
    }
   },
   "outputs": [
    {
     "data": {
      "image/png": "[encoded data removed]",
      "text/plain": [
       "plot without title"
      ]
     },
     "metadata": {
      "image/png": {
       "height": 420,
       "width": 420
      }
     },
     "output_type": "display_data"
    }
   ],
   "source": [
    "over_att_gender <- myData %>% select(over_time, attrition, gender) %>%\n",
    "  group_by(over_time, attrition, gender) %>%\n",
    "  summarise(count = n(), .groups = \"drop\") %>%\n",
    "  mutate(prop = str_c(round(count / sum(count) * 100, 0), \"%\"),\n",
    "         label_vjust = case_when(\n",
    "                  count < quantile(count, probs = 0.4) ~ -0.5,\n",
    "                  TRUE ~ 1.5,\n",
    "                ), \n",
    "         label_color = case_when(\n",
    "                  count < quantile(count, probs = 0.4) ~ \"black\",\n",
    "                  TRUE ~ \"white\",\n",
    "                ))\n",
    "\n",
    "\n",
    "ggplot(over_att_gender, aes(x = gender, y = count, fill = over_time)) +\n",
    "  geom_col(width = 0.8,\n",
    "           color = \"#FAFACD\"\n",
    "           ) +\n",
    "  geom_text(show.legend = FALSE,\n",
    "    aes(label = prop, \n",
    "        vjust = label_vjust,\n",
    "        color = label_color),\n",
    "    size = 4,\n",
    "    fontface = \"bold\"\n",
    "  ) +\n",
    "  facet_wrap(vars(str_c(\"Attrition\", attrition, sep =  \" \") ,\n",
    "                  str_c(\"Over-Time\", over_time, sep = \" \")),\n",
    "             scales = \"free_x\") +\n",
    "  scale_fill_manual (values = c(\"#5F3F44\", \"#C83A30\")) +\n",
    "  scale_color_manual (values = c(\"black\", \"white\"))+\n",
    "   theme(\n",
    "        legend.position = \"none\",\n",
    "        strip.background = element_rect(fill = \"#26541D\"),\n",
    "        strip.text = element_text(color = \"#FFF6D8\", face = \"bold\", size = 11),\n",
    "        axis.text.x = element_text(),\n",
    "        plot.background = element_rect(fill = \"#E5E8F0\")) +\n",
    "  labs(\n",
    "    title = \"Over-time distributions by Gender and Attrition\",\n",
    "    subtitle = \"Column Plot, proportion of YES to NO in over-time Var\",\n",
    "    caption = \"Data Source: Kaggle IBM HR Employee Attrition\",\n",
    "    x= NULL,\n",
    "    y = NULL,\n",
    "    \n",
    "  )"
   ]
  },
  {
   "cell_type": "markdown",
   "metadata": {
    "_cell_guid": "4193f517-cc5a-4038-ba77-c1e04d579b31",
    "_uuid": "8d188445940e7b5d9cdfc6186a3dca69d1ff6fbb"
   },
   "source": [
    "- Men tend to take overtime more than Women, and Men who take over_time tend to leave the organization more than Women\n",
    "\n",
    "\n",
    "### Job Satisfaction\n",
    "\n",
    "\n",
    "#### Attrition by Job Satisfaction"
   ]
  },
  {
   "cell_type": "code",
   "execution_count": null,
   "metadata": {
    "_cell_guid": "c2d23d39-6fc6-4dac-a3f4-f483d838382d",
    "_uuid": "a81d1d3563c2a6dc06a5b227fa3f205148284463",
    "collapsed": true,
    "vscode": {
     "languageId": "r"
    }
   },
   "outputs": [
    {
     "data": {
      "image/png": "[encoded data removed]",
      "text/plain": [
       "plot without title"
      ]
     },
     "metadata": {
      "image/png": {
       "height": 420,
       "width": 420
      }
     },
     "output_type": "display_data"
    }
   ],
   "source": [
    "plt_job_satisfaction <- bar_plot_proportions(job_satisfaction)\n",
    "plt_job_satisfaction_att <- bar_plot_proportions(job_satisfaction, attrition)\n",
    "\n",
    "(plt_job_satisfaction +\n",
    "   plt_job_satisfaction_att)+ \n",
    "  plot_annotation(\n",
    "  title = \"Attrition by Job Satisfaction\",\n",
    "  caption = \"Data Source: Kaggle IBM HR Employee Attrition\"\n",
    ") & \n",
    "  theme(plot.caption = element_text(color = \"#969696\", size = 7))"
   ]
  },
  {
   "cell_type": "markdown",
   "metadata": {},
   "source": [
    "#### Job Satisfaction by Gender"
   ]
  },
  {
   "cell_type": "code",
   "execution_count": null,
   "metadata": {
    "_cell_guid": "72aec024-50fa-43ef-bfe1-d7a2d9569f71",
    "_uuid": "55b59dab0fc2220ded1760b1e15372d29c492694",
    "collapsed": true,
    "vscode": {
     "languageId": "r"
    }
   },
   "outputs": [
    {
     "data": {
      "image/png": "[encoded data removed]",
      "text/plain": [
       "plot without title"
      ]
     },
     "metadata": {
      "image/png": {
       "height": 420,
       "width": 420
      }
     },
     "output_type": "display_data"
    }
   ],
   "source": [
    "job_satisfaction_gender <- myData %>% select(job_satisfaction, attrition, gender) %>%\n",
    "  group_by(job_satisfaction, attrition, gender) %>%\n",
    "  summarise(count = n(), .groups = \"drop\") %>%\n",
    "  mutate(prop = str_c(round(count / sum(count) * 100, 0), \"%\"),\n",
    "         )\n",
    "\n",
    "\n",
    "ggplot(job_satisfaction_gender, aes(x = as.factor(job_satisfaction), y = count, color = gender)) +\n",
    "  geom_boxplot(aes(color = gender),width = 0.8\n",
    "           ) +\n",
    "  geom_text(show.legend = FALSE,\n",
    "    aes(label = prop\n",
    "        ),\n",
    "    vjust = -0.3,\n",
    "    size = 4,\n",
    "    fontface = \"bold\"\n",
    "  ) +\n",
    "  facet_wrap(vars(str_c(\"Attrition\", attrition, sep =  \" \") ,\n",
    "                  str_c(\"Gender\", gender, sep = \" \")),\n",
    "             scales = \"free_x\") +\n",
    "  scale_color_manual (values = c(\"#B04766\", \"#4C3748\"))+\n",
    "   theme(\n",
    "        legend.position = \"none\",\n",
    "        strip.background = element_rect(fill = \"#55395A\"),\n",
    "        strip.text = element_text(color = \"#FFF6D8\", face = \"bold\", size = 11),\n",
    "        axis.text.x = element_text(),\n",
    "        plot.background = element_rect(fill = \"#E5E8F0\")) +\n",
    "  labs(\n",
    "    title = \"Job satisfactiondistributions by Gender and Attrition\",\n",
    "    subtitle = \"Column Plot, proportion of YES to NO in over-time Var\",\n",
    "    caption = \"Data Source: Kaggle IBM HR Employee Attrition\",\n",
    "    x= NULL,\n",
    "    y = NULL,\n",
    "    \n",
    "  )"
   ]
  },
  {
   "cell_type": "markdown",
   "metadata": {
    "_cell_guid": "692ba486-2b88-46f8-b609-afd9ddc3a510",
    "_uuid": "75464d3bed460d196bab91a920037dfc9d04b7bb"
   },
   "source": [
    "For people who didn't leave the company: job satisfaction levels are somehow the same but for people who left the company, females had a lower satisfaction level.\n",
    "\n",
    "We have to put into consideration the proportion of female 40% to male 60%.\n",
    "\n",
    "\n",
    "## B. Predictive modeling\n",
    "\n",
    "### Create data for modeling"
   ]
  },
  {
   "cell_type": "code",
   "execution_count": null,
   "metadata": {
    "_cell_guid": "43f1cc8c-ba7e-4466-bae5-3975016d0872",
    "_uuid": "148dd2648637ed1ea93db925cf6501559cd82a7d",
    "collapsed": true,
    "vscode": {
     "languageId": "r"
    }
   },
   "outputs": [
    {
     "data": {
      "text/html": [
       "<style>\n",
       ".list-inline {list-style: none; margin:0; padding: 0}\n",
       ".list-inline>li {display: inline-block}\n",
       ".list-inline>li:not(:last-child)::after {content: \"\\00b7\"; padding: 0 .5ex}\n",
       "</style>\n",
       "<ol class=list-inline><li>'No'</li><li>'Yes'</li></ol>\n"
      ],
      "text/latex": [
       "\\begin{enumerate*}\n",
       "\\item 'No'\n",
       "\\item 'Yes'\n",
       "\\end{enumerate*}\n"
      ],
      "text/markdown": [
       "1. 'No'\n",
       "2. 'Yes'\n",
       "\n",
       "\n"
      ],
      "text/plain": [
       "[1] \"No\"  \"Yes\""
      ]
     },
     "metadata": {},
     "output_type": "display_data"
    },
    {
     "data": {
      "text/html": [
       "<style>\n",
       ".list-inline {list-style: none; margin:0; padding: 0}\n",
       ".list-inline>li {display: inline-block}\n",
       ".list-inline>li:not(:last-child)::after {content: \"\\00b7\"; padding: 0 .5ex}\n",
       "</style>\n",
       "<ol class=list-inline><li>'Yes'</li><li>'No'</li></ol>\n"
      ],
      "text/latex": [
       "\\begin{enumerate*}\n",
       "\\item 'Yes'\n",
       "\\item 'No'\n",
       "\\end{enumerate*}\n"
      ],
      "text/markdown": [
       "1. 'Yes'\n",
       "2. 'No'\n",
       "\n",
       "\n"
      ],
      "text/plain": [
       "[1] \"Yes\" \"No\" "
      ]
     },
     "metadata": {},
     "output_type": "display_data"
    },
    {
     "name": "stdout",
     "output_type": "stream",
     "text": [
      "Rows: 1,470\n",
      "Columns: 32\n",
      "$ age                        \u001b[3m\u001b[90m<dbl>\u001b[39m\u001b[23m 41, 49, 37, 33, 27, 32, 59, 30, 38, 36, 35,…\n",
      "$ attrition                  \u001b[3m\u001b[90m<fct>\u001b[39m\u001b[23m Yes, No, Yes, No, No, No, No, No, No, No, N…\n",
      "$ business_travel            \u001b[3m\u001b[90m<fct>\u001b[39m\u001b[23m Rarely, Frequently, Rarely, Frequently, Rar…\n",
      "$ daily_rate                 \u001b[3m\u001b[90m<dbl>\u001b[39m\u001b[23m 1102, 279, 1373, 1392, 591, 1005, 1324, 135…\n",
      "$ department                 \u001b[3m\u001b[90m<fct>\u001b[39m\u001b[23m Sales, R&D, R&D, R&D, R&D, R&D, R&D, R&D, R…\n",
      "$ distance_from_home         \u001b[3m\u001b[90m<dbl>\u001b[39m\u001b[23m 1, 8, 2, 3, 2, 2, 3, 24, 23, 27, 16, 15, 26…\n",
      "$ education                  \u001b[3m\u001b[90m<fct>\u001b[39m\u001b[23m 2, 1, 2, 4, 1, 2, 3, 1, 3, 3, 3, 2, 1, 2, 3…\n",
      "$ education_field            \u001b[3m\u001b[90m<fct>\u001b[39m\u001b[23m Life Sciences, Life Sciences, Other, Life S…\n",
      "$ environment_satisfaction   \u001b[3m\u001b[90m<fct>\u001b[39m\u001b[23m 2, 3, 4, 4, 1, 4, 3, 4, 4, 3, 1, 4, 1, 2, 3…\n",
      "$ gender                     \u001b[3m\u001b[90m<fct>\u001b[39m\u001b[23m Female, Male, Male, Female, Male, Male, Fem…\n",
      "$ hourly_rate                \u001b[3m\u001b[90m<dbl>\u001b[39m\u001b[23m 94, 61, 92, 56, 40, 79, 81, 67, 44, 94, 84,…\n",
      "$ job_involvement            \u001b[3m\u001b[90m<fct>\u001b[39m\u001b[23m 3, 2, 2, 3, 3, 3, 4, 3, 2, 3, 4, 2, 3, 3, 2…\n",
      "$ job_level                  \u001b[3m\u001b[90m<fct>\u001b[39m\u001b[23m 2, 2, 1, 1, 1, 1, 1, 1, 3, 2, 1, 2, 1, 1, 1…\n",
      "$ job_role                   \u001b[3m\u001b[90m<fct>\u001b[39m\u001b[23m Sales Executive, Research Scientist, Labora…\n",
      "$ job_satisfaction           \u001b[3m\u001b[90m<fct>\u001b[39m\u001b[23m 4, 2, 3, 3, 2, 4, 1, 3, 3, 3, 2, 3, 3, 4, 3…\n",
      "$ marital_status             \u001b[3m\u001b[90m<fct>\u001b[39m\u001b[23m Single, Married, Single, Married, Married, …\n",
      "$ monthly_income             \u001b[3m\u001b[90m<dbl>\u001b[39m\u001b[23m 5993, 5130, 2090, 2909, 3468, 3068, 2670, 2…\n",
      "$ monthly_rate               \u001b[3m\u001b[90m<dbl>\u001b[39m\u001b[23m 19479, 24907, 2396, 23159, 16632, 11864, 99…\n",
      "$ num_companies_worked       \u001b[3m\u001b[90m<dbl>\u001b[39m\u001b[23m 8, 1, 6, 1, 9, 0, 4, 1, 0, 6, 0, 0, 1, 0, 5…\n",
      "$ over_time                  \u001b[3m\u001b[90m<fct>\u001b[39m\u001b[23m Yes, No, Yes, Yes, No, No, Yes, No, No, No,…\n",
      "$ percent_salary_hike        \u001b[3m\u001b[90m<dbl>\u001b[39m\u001b[23m 11, 23, 15, 11, 12, 13, 20, 22, 21, 13, 13,…\n",
      "$ performance_rating         \u001b[3m\u001b[90m<fct>\u001b[39m\u001b[23m 3, 4, 3, 3, 3, 3, 4, 4, 4, 3, 3, 3, 3, 3, 3…\n",
      "$ relationship_satisfaction  \u001b[3m\u001b[90m<fct>\u001b[39m\u001b[23m 1, 4, 2, 3, 4, 3, 1, 2, 2, 2, 3, 4, 4, 3, 2…\n",
      "$ stock_option_level         \u001b[3m\u001b[90m<fct>\u001b[39m\u001b[23m 0, 1, 0, 0, 1, 0, 3, 1, 0, 2, 1, 0, 1, 1, 0…\n",
      "$ total_working_years        \u001b[3m\u001b[90m<dbl>\u001b[39m\u001b[23m 8, 10, 7, 8, 6, 8, 12, 1, 10, 17, 6, 10, 5,…\n",
      "$ training_times_last_year   \u001b[3m\u001b[90m<dbl>\u001b[39m\u001b[23m 0, 3, 3, 3, 3, 2, 3, 2, 2, 3, 5, 3, 1, 2, 4…\n",
      "$ work_life_balance          \u001b[3m\u001b[90m<fct>\u001b[39m\u001b[23m 1, 3, 3, 3, 3, 2, 2, 3, 3, 2, 3, 3, 2, 3, 3…\n",
      "$ years_at_company           \u001b[3m\u001b[90m<dbl>\u001b[39m\u001b[23m 6, 10, 0, 8, 2, 7, 1, 1, 9, 7, 5, 9, 5, 2, …\n",
      "$ years_in_current_role      \u001b[3m\u001b[90m<dbl>\u001b[39m\u001b[23m 4, 7, 0, 7, 2, 7, 0, 0, 7, 7, 4, 5, 2, 2, 2…\n",
      "$ years_since_last_promotion \u001b[3m\u001b[90m<dbl>\u001b[39m\u001b[23m 0, 1, 0, 3, 2, 3, 0, 0, 1, 7, 0, 0, 4, 1, 0…\n",
      "$ years_with_curr_manager    \u001b[3m\u001b[90m<dbl>\u001b[39m\u001b[23m 5, 7, 0, 0, 2, 6, 0, 0, 8, 7, 3, 8, 3, 2, 3…\n",
      "$ age_group                  \u001b[3m\u001b[90m<fct>\u001b[39m\u001b[23m 36-45, 46-50, 36-45, 26-35, 26-35, 26-35, 5…\n"
     ]
    }
   ],
   "source": [
    "# check the levels for Attrition var\n",
    "\n",
    "levels(myData$attrition)\n",
    "\n",
    "# reverse the levels\n",
    "\n",
    "myData <- myData %>% \n",
    "  mutate(attrition = factor(attrition, levels = c(\"Yes\", \"No\")))\n",
    "\n",
    "levels(myData$attrition)\n",
    "\n",
    "myData_for_model <-\n",
    "  myData %>% \n",
    "  select(-c(over18, standard_hours, employee_count, employee_number)) %>% \n",
    "  mutate(across(\n",
    "    c(\n",
    "      education,\n",
    "      environment_satisfaction,\n",
    "      job_involvement,\n",
    "      job_level,\n",
    "      job_satisfaction,\n",
    "      performance_rating,\n",
    "      relationship_satisfaction,\n",
    "      work_life_balance,\n",
    "      stock_option_level,\n",
    "    ),\n",
    "    factor\n",
    "  ))\n",
    "\n",
    "glimpse(myData_for_model)"
   ]
  },
  {
   "cell_type": "markdown",
   "metadata": {
    "_cell_guid": "dd99421f-ac3d-4899-910b-2e53be87741f",
    "_uuid": "213aed9fd1a2927d2e7595e9d35a205867be1f59"
   },
   "source": [
    "For a data splitting strategy, let's reserve 25% of the stays to the test set. I know our outcome variable Attrition is pretty imbalanced so I’ll use a stratified random sample.\n",
    "\n",
    "### Data Split"
   ]
  },
  {
   "cell_type": "code",
   "execution_count": null,
   "metadata": {
    "_cell_guid": "0ba5c475-a921-433e-894c-54c420d337e5",
    "_uuid": "836d3d0d452dfcb7dc29a7832629289ba0801d4f",
    "collapsed": true,
    "vscode": {
     "languageId": "r"
    }
   },
   "outputs": [],
   "source": [
    "set.seed(31967)\n",
    "\n",
    "myData__data_split <- initial_split(myData_for_model, prop = 3/4, strata = attrition)\n",
    "\n",
    "train_data <- training(myData__data_split)\n",
    "test_data  <- testing(myData__data_split)"
   ]
  },
  {
   "cell_type": "markdown",
   "metadata": {
    "_cell_guid": "7ff0eb7d-d4ff-4709-bd97-a7c6f1c79dce",
    "_uuid": "57cde6fa43d3b05e2a81ff88287ce11f675412d3"
   },
   "source": [
    "#### Training and testing set proportions by attrition"
   ]
  },
  {
   "cell_type": "code",
   "execution_count": null,
   "metadata": {
    "_cell_guid": "9bb8fa6b-92a0-4c13-9025-083d49114fc8",
    "_uuid": "8ed773dfe0c95406d40bfcf990253c19ee7348ee",
    "collapsed": true,
    "vscode": {
     "languageId": "r"
    }
   },
   "outputs": [
    {
     "data": {
      "text/html": [
       "<table class=\"dataframe\">\n",
       "<caption>A tibble: 2 × 3</caption>\n",
       "<thead>\n",
       "\t<tr><th scope=col>attrition</th><th scope=col>n</th><th scope=col>prop</th></tr>\n",
       "\t<tr><th scope=col>&lt;fct&gt;</th><th scope=col>&lt;int&gt;</th><th scope=col>&lt;dbl&gt;</th></tr>\n",
       "</thead>\n",
       "<tbody>\n",
       "\t<tr><td>Yes</td><td>177</td><td>0.1607629</td></tr>\n",
       "\t<tr><td>No </td><td>924</td><td>0.8392371</td></tr>\n",
       "</tbody>\n",
       "</table>\n"
      ],
      "text/latex": [
       "A tibble: 2 × 3\n",
       "\\begin{tabular}{lll}\n",
       " attrition & n & prop\\\\\n",
       " <fct> & <int> & <dbl>\\\\\n",
       "\\hline\n",
       "\t Yes & 177 & 0.1607629\\\\\n",
       "\t No  & 924 & 0.8392371\\\\\n",
       "\\end{tabular}\n"
      ],
      "text/markdown": [
       "\n",
       "A tibble: 2 × 3\n",
       "\n",
       "| attrition &lt;fct&gt; | n &lt;int&gt; | prop &lt;dbl&gt; |\n",
       "|---|---|---|\n",
       "| Yes | 177 | 0.1607629 |\n",
       "| No  | 924 | 0.8392371 |\n",
       "\n"
      ],
      "text/plain": [
       "  attrition n   prop     \n",
       "1 Yes       177 0.1607629\n",
       "2 No        924 0.8392371"
      ]
     },
     "metadata": {},
     "output_type": "display_data"
    },
    {
     "data": {
      "text/html": [
       "<table class=\"dataframe\">\n",
       "<caption>A tibble: 2 × 3</caption>\n",
       "<thead>\n",
       "\t<tr><th scope=col>attrition</th><th scope=col>n</th><th scope=col>prop</th></tr>\n",
       "\t<tr><th scope=col>&lt;fct&gt;</th><th scope=col>&lt;int&gt;</th><th scope=col>&lt;dbl&gt;</th></tr>\n",
       "</thead>\n",
       "<tbody>\n",
       "\t<tr><td>Yes</td><td> 60</td><td>0.1626016</td></tr>\n",
       "\t<tr><td>No </td><td>309</td><td>0.8373984</td></tr>\n",
       "</tbody>\n",
       "</table>\n"
      ],
      "text/latex": [
       "A tibble: 2 × 3\n",
       "\\begin{tabular}{lll}\n",
       " attrition & n & prop\\\\\n",
       " <fct> & <int> & <dbl>\\\\\n",
       "\\hline\n",
       "\t Yes &  60 & 0.1626016\\\\\n",
       "\t No  & 309 & 0.8373984\\\\\n",
       "\\end{tabular}\n"
      ],
      "text/markdown": [
       "\n",
       "A tibble: 2 × 3\n",
       "\n",
       "| attrition &lt;fct&gt; | n &lt;int&gt; | prop &lt;dbl&gt; |\n",
       "|---|---|---|\n",
       "| Yes |  60 | 0.1626016 |\n",
       "| No  | 309 | 0.8373984 |\n",
       "\n"
      ],
      "text/plain": [
       "  attrition n   prop     \n",
       "1 Yes        60 0.1626016\n",
       "2 No        309 0.8373984"
      ]
     },
     "metadata": {},
     "output_type": "display_data"
    }
   ],
   "source": [
    "train_data %>% \n",
    "  count(attrition) %>% \n",
    "  mutate(prop = n/sum(n))\n",
    "\n",
    "\n",
    "test_data  %>% \n",
    "  count(attrition) %>% \n",
    "  mutate(prop = n/sum(n))"
   ]
  },
  {
   "cell_type": "markdown",
   "metadata": {
    "_cell_guid": "72837748-6d98-4877-a11d-9962653e4c55",
    "_uuid": "0e975211357799f12f6c9c5e146469e657a291ce"
   },
   "source": [
    "#### Generate bootstrap samples"
   ]
  },
  {
   "cell_type": "code",
   "execution_count": null,
   "metadata": {
    "_cell_guid": "11dac5e5-fd93-4a87-bcc5-8a39e05ce628",
    "_uuid": "b86bd8d2b7107d9b62ae6259c2b056a05a8ab3b0",
    "collapsed": true,
    "vscode": {
     "languageId": "r"
    }
   },
   "outputs": [],
   "source": [
    "set.seed(31967)\n",
    "boot_strap <- bootstraps(train_data, times = 10, apparent = TRUE)"
   ]
  },
  {
   "cell_type": "markdown",
   "metadata": {
    "_cell_guid": "d66eb94c-e750-417e-bba3-2c9183ca4610",
    "_uuid": "f648d081c58f91b94185b0829e7e6598097f2631"
   },
   "source": [
    "### First Model: Penalized Logistic Regression\n",
    "\n",
    "Note: All Functions were explained based on the official website of Tidymodels framework.\n",
    "\n",
    "Link: https://www.tidymodels.org/\n",
    "\n",
    "\n",
    "#### Build the model (glmnet)"
   ]
  },
  {
   "cell_type": "code",
   "execution_count": null,
   "metadata": {
    "_cell_guid": "a0b85910-2edb-4bd2-8326-26f9a76b4965",
    "_uuid": "558459f3848dff34977b82be6e24fba98db9796b",
    "collapsed": true,
    "vscode": {
     "languageId": "r"
    }
   },
   "outputs": [],
   "source": [
    "logis_mod <- \n",
    "  logistic_reg(penalty = tune(), mixture = 1) %>% \n",
    "  set_engine(\"glmnet\")"
   ]
  },
  {
   "cell_type": "markdown",
   "metadata": {},
   "source": [
    "#### Create the recipe (glmnet)"
   ]
  },
  {
   "cell_type": "code",
   "execution_count": null,
   "metadata": {
    "vscode": {
     "languageId": "r"
    }
   },
   "outputs": [
    {
     "data": {
      "text/html": [
       "<table class=\"dataframe\">\n",
       "<caption>A tibble: 32 × 4</caption>\n",
       "<thead>\n",
       "\t<tr><th scope=col>variable</th><th scope=col>type</th><th scope=col>role</th><th scope=col>source</th></tr>\n",
       "\t<tr><th scope=col>&lt;chr&gt;</th><th scope=col>&lt;list&gt;</th><th scope=col>&lt;chr&gt;</th><th scope=col>&lt;chr&gt;</th></tr>\n",
       "</thead>\n",
       "<tbody>\n",
       "\t<tr><td>age                       </td><td>double , numeric</td><td>predictor</td><td>original</td></tr>\n",
       "\t<tr><td>business_travel           </td><td>factor   , unordered, nominal  </td><td>predictor</td><td>original</td></tr>\n",
       "\t<tr><td>daily_rate                </td><td>double , numeric</td><td>predictor</td><td>original</td></tr>\n",
       "\t<tr><td>department                </td><td>factor   , unordered, nominal  </td><td>predictor</td><td>original</td></tr>\n",
       "\t<tr><td>distance_from_home        </td><td>double , numeric</td><td>predictor</td><td>original</td></tr>\n",
       "\t<tr><td>education                 </td><td>factor   , unordered, nominal  </td><td>predictor</td><td>original</td></tr>\n",
       "\t<tr><td>education_field           </td><td>factor   , unordered, nominal  </td><td>predictor</td><td>original</td></tr>\n",
       "\t<tr><td>environment_satisfaction  </td><td>factor   , unordered, nominal  </td><td>predictor</td><td>original</td></tr>\n",
       "\t<tr><td>gender                    </td><td>factor   , unordered, nominal  </td><td>predictor</td><td>original</td></tr>\n",
       "\t<tr><td>hourly_rate               </td><td>double , numeric</td><td>predictor</td><td>original</td></tr>\n",
       "\t<tr><td>job_involvement           </td><td>factor   , unordered, nominal  </td><td>predictor</td><td>original</td></tr>\n",
       "\t<tr><td>job_level                 </td><td>factor   , unordered, nominal  </td><td>predictor</td><td>original</td></tr>\n",
       "\t<tr><td>job_role                  </td><td>factor   , unordered, nominal  </td><td>predictor</td><td>original</td></tr>\n",
       "\t<tr><td>job_satisfaction          </td><td>factor   , unordered, nominal  </td><td>predictor</td><td>original</td></tr>\n",
       "\t<tr><td>marital_status            </td><td>factor   , unordered, nominal  </td><td>predictor</td><td>original</td></tr>\n",
       "\t<tr><td>monthly_income            </td><td>double , numeric</td><td>predictor</td><td>original</td></tr>\n",
       "\t<tr><td>monthly_rate              </td><td>double , numeric</td><td>predictor</td><td>original</td></tr>\n",
       "\t<tr><td>num_companies_worked      </td><td>double , numeric</td><td>predictor</td><td>original</td></tr>\n",
       "\t<tr><td>over_time                 </td><td>factor   , unordered, nominal  </td><td>predictor</td><td>original</td></tr>\n",
       "\t<tr><td>percent_salary_hike       </td><td>double , numeric</td><td>predictor</td><td>original</td></tr>\n",
       "\t<tr><td>performance_rating        </td><td>factor   , unordered, nominal  </td><td>predictor</td><td>original</td></tr>\n",
       "\t<tr><td>relationship_satisfaction </td><td>factor   , unordered, nominal  </td><td>predictor</td><td>original</td></tr>\n",
       "\t<tr><td>stock_option_level        </td><td>factor   , unordered, nominal  </td><td>predictor</td><td>original</td></tr>\n",
       "\t<tr><td>total_working_years       </td><td>double , numeric</td><td>predictor</td><td>original</td></tr>\n",
       "\t<tr><td>training_times_last_year  </td><td>double , numeric</td><td>predictor</td><td>original</td></tr>\n",
       "\t<tr><td>work_life_balance         </td><td>factor   , unordered, nominal  </td><td>predictor</td><td>original</td></tr>\n",
       "\t<tr><td>years_at_company          </td><td>double , numeric</td><td>predictor</td><td>original</td></tr>\n",
       "\t<tr><td>years_in_current_role     </td><td>double , numeric</td><td>predictor</td><td>original</td></tr>\n",
       "\t<tr><td>years_since_last_promotion</td><td>double , numeric</td><td>predictor</td><td>original</td></tr>\n",
       "\t<tr><td>years_with_curr_manager   </td><td>double , numeric</td><td>predictor</td><td>original</td></tr>\n",
       "\t<tr><td>age_group                 </td><td>factor   , unordered, nominal  </td><td>predictor</td><td>original</td></tr>\n",
       "\t<tr><td>attrition                 </td><td>factor   , unordered, nominal  </td><td>outcome  </td><td>original</td></tr>\n",
       "</tbody>\n",
       "</table>\n"
      ],
      "text/latex": [
       "A tibble: 32 × 4\n",
       "\\begin{tabular}{llll}\n",
       " variable & type & role & source\\\\\n",
       " <chr> & <list> & <chr> & <chr>\\\\\n",
       "\\hline\n",
       "\t age                        & double , numeric & predictor & original\\\\\n",
       "\t business\\_travel            & factor   , unordered, nominal   & predictor & original\\\\\n",
       "\t daily\\_rate                 & double , numeric & predictor & original\\\\\n",
       "\t department                 & factor   , unordered, nominal   & predictor & original\\\\\n",
       "\t distance\\_from\\_home         & double , numeric & predictor & original\\\\\n",
       "\t education                  & factor   , unordered, nominal   & predictor & original\\\\\n",
       "\t education\\_field            & factor   , unordered, nominal   & predictor & original\\\\\n",
       "\t environment\\_satisfaction   & factor   , unordered, nominal   & predictor & original\\\\\n",
       "\t gender                     & factor   , unordered, nominal   & predictor & original\\\\\n",
       "\t hourly\\_rate                & double , numeric & predictor & original\\\\\n",
       "\t job\\_involvement            & factor   , unordered, nominal   & predictor & original\\\\\n",
       "\t job\\_level                  & factor   , unordered, nominal   & predictor & original\\\\\n",
       "\t job\\_role                   & factor   , unordered, nominal   & predictor & original\\\\\n",
       "\t job\\_satisfaction           & factor   , unordered, nominal   & predictor & original\\\\\n",
       "\t marital\\_status             & factor   , unordered, nominal   & predictor & original\\\\\n",
       "\t monthly\\_income             & double , numeric & predictor & original\\\\\n",
       "\t monthly\\_rate               & double , numeric & predictor & original\\\\\n",
       "\t num\\_companies\\_worked       & double , numeric & predictor & original\\\\\n",
       "\t over\\_time                  & factor   , unordered, nominal   & predictor & original\\\\\n",
       "\t percent\\_salary\\_hike        & double , numeric & predictor & original\\\\\n",
       "\t performance\\_rating         & factor   , unordered, nominal   & predictor & original\\\\\n",
       "\t relationship\\_satisfaction  & factor   , unordered, nominal   & predictor & original\\\\\n",
       "\t stock\\_option\\_level         & factor   , unordered, nominal   & predictor & original\\\\\n",
       "\t total\\_working\\_years        & double , numeric & predictor & original\\\\\n",
       "\t training\\_times\\_last\\_year   & double , numeric & predictor & original\\\\\n",
       "\t work\\_life\\_balance          & factor   , unordered, nominal   & predictor & original\\\\\n",
       "\t years\\_at\\_company           & double , numeric & predictor & original\\\\\n",
       "\t years\\_in\\_current\\_role      & double , numeric & predictor & original\\\\\n",
       "\t years\\_since\\_last\\_promotion & double , numeric & predictor & original\\\\\n",
       "\t years\\_with\\_curr\\_manager    & double , numeric & predictor & original\\\\\n",
       "\t age\\_group                  & factor   , unordered, nominal   & predictor & original\\\\\n",
       "\t attrition                  & factor   , unordered, nominal   & outcome   & original\\\\\n",
       "\\end{tabular}\n"
      ],
      "text/markdown": [
       "\n",
       "A tibble: 32 × 4\n",
       "\n",
       "| variable &lt;chr&gt; | type &lt;list&gt; | role &lt;chr&gt; | source &lt;chr&gt; |\n",
       "|---|---|---|---|\n",
       "| age                        | double , numeric | predictor | original |\n",
       "| business_travel            | factor   , unordered, nominal   | predictor | original |\n",
       "| daily_rate                 | double , numeric | predictor | original |\n",
       "| department                 | factor   , unordered, nominal   | predictor | original |\n",
       "| distance_from_home         | double , numeric | predictor | original |\n",
       "| education                  | factor   , unordered, nominal   | predictor | original |\n",
       "| education_field            | factor   , unordered, nominal   | predictor | original |\n",
       "| environment_satisfaction   | factor   , unordered, nominal   | predictor | original |\n",
       "| gender                     | factor   , unordered, nominal   | predictor | original |\n",
       "| hourly_rate                | double , numeric | predictor | original |\n",
       "| job_involvement            | factor   , unordered, nominal   | predictor | original |\n",
       "| job_level                  | factor   , unordered, nominal   | predictor | original |\n",
       "| job_role                   | factor   , unordered, nominal   | predictor | original |\n",
       "| job_satisfaction           | factor   , unordered, nominal   | predictor | original |\n",
       "| marital_status             | factor   , unordered, nominal   | predictor | original |\n",
       "| monthly_income             | double , numeric | predictor | original |\n",
       "| monthly_rate               | double , numeric | predictor | original |\n",
       "| num_companies_worked       | double , numeric | predictor | original |\n",
       "| over_time                  | factor   , unordered, nominal   | predictor | original |\n",
       "| percent_salary_hike        | double , numeric | predictor | original |\n",
       "| performance_rating         | factor   , unordered, nominal   | predictor | original |\n",
       "| relationship_satisfaction  | factor   , unordered, nominal   | predictor | original |\n",
       "| stock_option_level         | factor   , unordered, nominal   | predictor | original |\n",
       "| total_working_years        | double , numeric | predictor | original |\n",
       "| training_times_last_year   | double , numeric | predictor | original |\n",
       "| work_life_balance          | factor   , unordered, nominal   | predictor | original |\n",
       "| years_at_company           | double , numeric | predictor | original |\n",
       "| years_in_current_role      | double , numeric | predictor | original |\n",
       "| years_since_last_promotion | double , numeric | predictor | original |\n",
       "| years_with_curr_manager    | double , numeric | predictor | original |\n",
       "| age_group                  | factor   , unordered, nominal   | predictor | original |\n",
       "| attrition                  | factor   , unordered, nominal   | outcome   | original |\n",
       "\n"
      ],
      "text/plain": [
       "   variable                   type                            role     \n",
       "1  age                        double , numeric                predictor\n",
       "2  business_travel            factor   , unordered, nominal   predictor\n",
       "3  daily_rate                 double , numeric                predictor\n",
       "4  department                 factor   , unordered, nominal   predictor\n",
       "5  distance_from_home         double , numeric                predictor\n",
       "6  education                  factor   , unordered, nominal   predictor\n",
       "7  education_field            factor   , unordered, nominal   predictor\n",
       "8  environment_satisfaction   factor   , unordered, nominal   predictor\n",
       "9  gender                     factor   , unordered, nominal   predictor\n",
       "10 hourly_rate                double , numeric                predictor\n",
       "11 job_involvement            factor   , unordered, nominal   predictor\n",
       "12 job_level                  factor   , unordered, nominal   predictor\n",
       "13 job_role                   factor   , unordered, nominal   predictor\n",
       "14 job_satisfaction           factor   , unordered, nominal   predictor\n",
       "15 marital_status             factor   , unordered, nominal   predictor\n",
       "16 monthly_income             double , numeric                predictor\n",
       "17 monthly_rate               double , numeric                predictor\n",
       "18 num_companies_worked       double , numeric                predictor\n",
       "19 over_time                  factor   , unordered, nominal   predictor\n",
       "20 percent_salary_hike        double , numeric                predictor\n",
       "21 performance_rating         factor   , unordered, nominal   predictor\n",
       "22 relationship_satisfaction  factor   , unordered, nominal   predictor\n",
       "23 stock_option_level         factor   , unordered, nominal   predictor\n",
       "24 total_working_years        double , numeric                predictor\n",
       "25 training_times_last_year   double , numeric                predictor\n",
       "26 work_life_balance          factor   , unordered, nominal   predictor\n",
       "27 years_at_company           double , numeric                predictor\n",
       "28 years_in_current_role      double , numeric                predictor\n",
       "29 years_since_last_promotion double , numeric                predictor\n",
       "30 years_with_curr_manager    double , numeric                predictor\n",
       "31 age_group                  factor   , unordered, nominal   predictor\n",
       "32 attrition                  factor   , unordered, nominal   outcome  \n",
       "   source  \n",
       "1  original\n",
       "2  original\n",
       "3  original\n",
       "4  original\n",
       "5  original\n",
       "6  original\n",
       "7  original\n",
       "8  original\n",
       "9  original\n",
       "10 original\n",
       "11 original\n",
       "12 original\n",
       "13 original\n",
       "14 original\n",
       "15 original\n",
       "16 original\n",
       "17 original\n",
       "18 original\n",
       "19 original\n",
       "20 original\n",
       "21 original\n",
       "22 original\n",
       "23 original\n",
       "24 original\n",
       "25 original\n",
       "26 original\n",
       "27 original\n",
       "28 original\n",
       "29 original\n",
       "30 original\n",
       "31 original\n",
       "32 original"
      ]
     },
     "metadata": {},
     "output_type": "display_data"
    }
   ],
   "source": [
    "logis_recipe <-\n",
    "  recipe(attrition ~ ., data = train_data) %>%\n",
    "  step_dummy(all_nominal_predictors(), -all_outcomes()) %>%\n",
    "  step_zv(all_numeric()) %>%\n",
    "  step_smote(attrition, over_ratio = 0.9, seed = 31967) %>%\n",
    "  step_normalize(all_numeric())\n",
    "\n",
    "summary(logis_recipe)"
   ]
  },
  {
   "cell_type": "markdown",
   "metadata": {},
   "source": [
    "- step_dummy(): Convert nominal into one or more numeric binary model terms for the levels of the original data.\n",
    "\n",
    "- step_zv(): Remove variables that contain only a single value.\n",
    "\n",
    "- step_smote(): Generate new examples of the minority class using nearest neighbors of these cases.\n",
    "\n",
    "- step_normalize(): Normalize numeric data to have a standard deviation of one and a mean of zero\n",
    "\n",
    "- step_corr(): Remove variables that have large absolute correlations with other variables.\n",
    "\n",
    "\n",
    "#### Create the workflow (glmnet)"
   ]
  },
  {
   "cell_type": "code",
   "execution_count": null,
   "metadata": {
    "vscode": {
     "languageId": "r"
    }
   },
   "outputs": [],
   "source": [
    "logis_workflow <- \n",
    "  workflow() %>% \n",
    "  add_model(logis_mod) %>% \n",
    "  add_recipe(logis_recipe)"
   ]
  },
  {
   "cell_type": "markdown",
   "metadata": {},
   "source": [
    "- A workflow is an object that can bundle together your pre-processing, modeling, and post-processing requests.\n",
    "\n",
    "#### Create the Grid (glmnet)"
   ]
  },
  {
   "cell_type": "code",
   "execution_count": null,
   "metadata": {
    "vscode": {
     "languageId": "r"
    }
   },
   "outputs": [
    {
     "name": "stderr",
     "output_type": "stream",
     "text": [
      "\u001b[1m\u001b[22mSelecting by penalty\n"
     ]
    },
    {
     "data": {
      "text/html": [
       "<table class=\"dataframe\">\n",
       "<caption>A tibble: 5 × 1</caption>\n",
       "<thead>\n",
       "\t<tr><th scope=col>penalty</th></tr>\n",
       "\t<tr><th scope=col>&lt;dbl&gt;</th></tr>\n",
       "</thead>\n",
       "<tbody>\n",
       "\t<tr><td>0.001000000</td></tr>\n",
       "\t<tr><td>0.001081181</td></tr>\n",
       "\t<tr><td>0.001168952</td></tr>\n",
       "\t<tr><td>0.001263848</td></tr>\n",
       "\t<tr><td>0.001366448</td></tr>\n",
       "</tbody>\n",
       "</table>\n"
      ],
      "text/latex": [
       "A tibble: 5 × 1\n",
       "\\begin{tabular}{l}\n",
       " penalty\\\\\n",
       " <dbl>\\\\\n",
       "\\hline\n",
       "\t 0.001000000\\\\\n",
       "\t 0.001081181\\\\\n",
       "\t 0.001168952\\\\\n",
       "\t 0.001263848\\\\\n",
       "\t 0.001366448\\\\\n",
       "\\end{tabular}\n"
      ],
      "text/markdown": [
       "\n",
       "A tibble: 5 × 1\n",
       "\n",
       "| penalty &lt;dbl&gt; |\n",
       "|---|\n",
       "| 0.001000000 |\n",
       "| 0.001081181 |\n",
       "| 0.001168952 |\n",
       "| 0.001263848 |\n",
       "| 0.001366448 |\n",
       "\n"
      ],
      "text/plain": [
       "  penalty    \n",
       "1 0.001000000\n",
       "2 0.001081181\n",
       "3 0.001168952\n",
       "4 0.001263848\n",
       "5 0.001366448"
      ]
     },
     "metadata": {},
     "output_type": "display_data"
    },
    {
     "name": "stderr",
     "output_type": "stream",
     "text": [
      "\u001b[1m\u001b[22mSelecting by penalty\n"
     ]
    },
    {
     "data": {
      "text/html": [
       "<table class=\"dataframe\">\n",
       "<caption>A tibble: 5 × 1</caption>\n",
       "<thead>\n",
       "\t<tr><th scope=col>penalty</th></tr>\n",
       "\t<tr><th scope=col>&lt;dbl&gt;</th></tr>\n",
       "</thead>\n",
       "<tbody>\n",
       "\t<tr><td>0.07318242</td></tr>\n",
       "\t<tr><td>0.07912343</td></tr>\n",
       "\t<tr><td>0.08554673</td></tr>\n",
       "\t<tr><td>0.09249147</td></tr>\n",
       "\t<tr><td>0.10000000</td></tr>\n",
       "</tbody>\n",
       "</table>\n"
      ],
      "text/latex": [
       "A tibble: 5 × 1\n",
       "\\begin{tabular}{l}\n",
       " penalty\\\\\n",
       " <dbl>\\\\\n",
       "\\hline\n",
       "\t 0.07318242\\\\\n",
       "\t 0.07912343\\\\\n",
       "\t 0.08554673\\\\\n",
       "\t 0.09249147\\\\\n",
       "\t 0.10000000\\\\\n",
       "\\end{tabular}\n"
      ],
      "text/markdown": [
       "\n",
       "A tibble: 5 × 1\n",
       "\n",
       "| penalty &lt;dbl&gt; |\n",
       "|---|\n",
       "| 0.07318242 |\n",
       "| 0.07912343 |\n",
       "| 0.08554673 |\n",
       "| 0.09249147 |\n",
       "| 0.10000000 |\n",
       "\n"
      ],
      "text/plain": [
       "  penalty   \n",
       "1 0.07318242\n",
       "2 0.07912343\n",
       "3 0.08554673\n",
       "4 0.09249147\n",
       "5 0.10000000"
      ]
     },
     "metadata": {},
     "output_type": "display_data"
    }
   ],
   "source": [
    "logis_reg_grid <- tibble(penalty = 10^seq(-3, -1, length.out = 60))\n",
    "logis_reg_grid %>% top_n(-5) \n",
    "\n",
    "logis_reg_grid %>% top_n(5)"
   ]
  },
  {
   "cell_type": "markdown",
   "metadata": {},
   "source": [
    "#### Train and tune the model (glmnet)"
   ]
  },
  {
   "cell_type": "code",
   "execution_count": null,
   "metadata": {
    "vscode": {
     "languageId": "r"
    }
   },
   "outputs": [
    {
     "name": "stderr",
     "output_type": "stream",
     "text": [
      "Warning message:\n",
      "\"package 'glmnet' was built under R version 4.3.1\"\n"
     ]
    }
   ],
   "source": [
    "set.seed(31967)\n",
    "logis_res <- \n",
    "  logis_workflow %>% \n",
    "  tune_grid(boot_strap,\n",
    "            grid = logis_reg_grid,\n",
    "            control = control_grid(save_pred = TRUE),\n",
    "            metrics = metric_set(roc_auc))"
   ]
  },
  {
   "cell_type": "markdown",
   "metadata": {},
   "source": [
    "- tune_grid(): Computes a set of performance metrics (e.g. accuracy or RMSE) for a pre-defined set of tuning parameters that correspond to a model or recipe across one or more resamples of the data.\n",
    "\n",
    "\n",
    "#### Plot the area under the ROC VS penalty value (glmnet)\n",
    "\n",
    "By plotting the area under the ROC curve against the range of penalty values, will be easier to visualize the validation set metrics."
   ]
  },
  {
   "cell_type": "code",
   "execution_count": null,
   "metadata": {
    "vscode": {
     "languageId": "r"
    }
   },
   "outputs": [
    {
     "data": {
      "image/png": "[encoded data removed]",
      "text/plain": [
       "plot without title"
      ]
     },
     "metadata": {
      "image/png": {
       "height": 420,
       "width": 420
      }
     },
     "output_type": "display_data"
    }
   ],
   "source": [
    "logis_plot <- \n",
    "  logis_res %>% \n",
    "  collect_metrics() %>% \n",
    "  ggplot(aes(x = penalty, y = mean)) + \n",
    "  geom_point() + \n",
    "  geom_line() + \n",
    "  scale_x_log10(labels = scales::label_number()) +\n",
    "   theme(\n",
    "        plot.background = element_rect(fill = \"#FFF1B2\")) +\n",
    "  labs(\n",
    "    title = \"Area under the ROC Curve\",\n",
    "    x= \"Penalty\",\n",
    "    y = \"Area under the ROC Curve\"\n",
    "    \n",
    "  )\n",
    "\n",
    "logis_plot"
   ]
  },
  {
   "cell_type": "markdown",
   "metadata": {},
   "source": [
    "We can see that model performance is generally better at the smaller penalty values. This tell us that the majority of the predictors are important to the model.\n",
    "\n",
    "#### Find the Top Models (glmnet)"
   ]
  },
  {
   "cell_type": "code",
   "execution_count": null,
   "metadata": {
    "vscode": {
     "languageId": "r"
    }
   },
   "outputs": [
    {
     "data": {
      "text/html": [
       "<table class=\"dataframe\">\n",
       "<caption>A tibble: 40 × 7</caption>\n",
       "<thead>\n",
       "\t<tr><th scope=col>penalty</th><th scope=col>.metric</th><th scope=col>.estimator</th><th scope=col>mean</th><th scope=col>n</th><th scope=col>std_err</th><th scope=col>.config</th></tr>\n",
       "\t<tr><th scope=col>&lt;dbl&gt;</th><th scope=col>&lt;chr&gt;</th><th scope=col>&lt;chr&gt;</th><th scope=col>&lt;dbl&gt;</th><th scope=col>&lt;int&gt;</th><th scope=col>&lt;dbl&gt;</th><th scope=col>&lt;chr&gt;</th></tr>\n",
       "</thead>\n",
       "<tbody>\n",
       "\t<tr><td>0.001366448</td><td>roc_auc</td><td>binary</td><td>0.8258196</td><td>11</td><td>0.009535705</td><td>Preprocessor1_Model05</td></tr>\n",
       "\t<tr><td>0.001477378</td><td>roc_auc</td><td>binary</td><td>0.8257845</td><td>11</td><td>0.009515364</td><td>Preprocessor1_Model06</td></tr>\n",
       "\t<tr><td>0.001263848</td><td>roc_auc</td><td>binary</td><td>0.8257275</td><td>11</td><td>0.009592984</td><td>Preprocessor1_Model04</td></tr>\n",
       "\t<tr><td>0.001597312</td><td>roc_auc</td><td>binary</td><td>0.8257272</td><td>11</td><td>0.009458523</td><td>Preprocessor1_Model07</td></tr>\n",
       "\t<tr><td>0.002018760</td><td>roc_auc</td><td>binary</td><td>0.8256708</td><td>11</td><td>0.009339033</td><td>Preprocessor1_Model10</td></tr>\n",
       "\t<tr><td>0.001726983</td><td>roc_auc</td><td>binary</td><td>0.8256594</td><td>11</td><td>0.009412263</td><td>Preprocessor1_Model08</td></tr>\n",
       "\t<tr><td>0.002182645</td><td>roc_auc</td><td>binary</td><td>0.8255969</td><td>11</td><td>0.009288474</td><td>Preprocessor1_Model11</td></tr>\n",
       "\t<tr><td>0.001081181</td><td>roc_auc</td><td>binary</td><td>0.8255728</td><td>11</td><td>0.009662519</td><td>Preprocessor1_Model02</td></tr>\n",
       "\t<tr><td>0.001867181</td><td>roc_auc</td><td>binary</td><td>0.8255571</td><td>11</td><td>0.009392231</td><td>Preprocessor1_Model09</td></tr>\n",
       "\t<tr><td>0.001168952</td><td>roc_auc</td><td>binary</td><td>0.8255350</td><td>11</td><td>0.009660430</td><td>Preprocessor1_Model03</td></tr>\n",
       "\t<tr><td>0.002359833</td><td>roc_auc</td><td>binary</td><td>0.8253687</td><td>11</td><td>0.009268146</td><td>Preprocessor1_Model12</td></tr>\n",
       "\t<tr><td>0.001000000</td><td>roc_auc</td><td>binary</td><td>0.8253214</td><td>11</td><td>0.009738142</td><td>Preprocessor1_Model01</td></tr>\n",
       "\t<tr><td>0.002551407</td><td>roc_auc</td><td>binary</td><td>0.8251034</td><td>11</td><td>0.009265850</td><td>Preprocessor1_Model13</td></tr>\n",
       "\t<tr><td>0.002758532</td><td>roc_auc</td><td>binary</td><td>0.8248621</td><td>11</td><td>0.009251697</td><td>Preprocessor1_Model14</td></tr>\n",
       "\t<tr><td>0.002982471</td><td>roc_auc</td><td>binary</td><td>0.8245478</td><td>11</td><td>0.009248146</td><td>Preprocessor1_Model15</td></tr>\n",
       "\t<tr><td>0.003224591</td><td>roc_auc</td><td>binary</td><td>0.8240364</td><td>11</td><td>0.009231498</td><td>Preprocessor1_Model16</td></tr>\n",
       "\t<tr><td>0.003486365</td><td>roc_auc</td><td>binary</td><td>0.8234969</td><td>11</td><td>0.009246568</td><td>Preprocessor1_Model17</td></tr>\n",
       "\t<tr><td>0.003769391</td><td>roc_auc</td><td>binary</td><td>0.8228832</td><td>11</td><td>0.009341728</td><td>Preprocessor1_Model18</td></tr>\n",
       "\t<tr><td>0.004075393</td><td>roc_auc</td><td>binary</td><td>0.8221162</td><td>11</td><td>0.009416956</td><td>Preprocessor1_Model19</td></tr>\n",
       "\t<tr><td>0.004406236</td><td>roc_auc</td><td>binary</td><td>0.8213755</td><td>11</td><td>0.009409102</td><td>Preprocessor1_Model20</td></tr>\n",
       "\t<tr><td>0.004763938</td><td>roc_auc</td><td>binary</td><td>0.8204067</td><td>11</td><td>0.009482220</td><td>Preprocessor1_Model21</td></tr>\n",
       "\t<tr><td>0.005150678</td><td>roc_auc</td><td>binary</td><td>0.8193919</td><td>11</td><td>0.009520789</td><td>Preprocessor1_Model22</td></tr>\n",
       "\t<tr><td>0.005568814</td><td>roc_auc</td><td>binary</td><td>0.8184362</td><td>11</td><td>0.009631605</td><td>Preprocessor1_Model23</td></tr>\n",
       "\t<tr><td>0.006020894</td><td>roc_auc</td><td>binary</td><td>0.8173294</td><td>11</td><td>0.009740647</td><td>Preprocessor1_Model24</td></tr>\n",
       "\t<tr><td>0.006509675</td><td>roc_auc</td><td>binary</td><td>0.8160548</td><td>11</td><td>0.009855714</td><td>Preprocessor1_Model25</td></tr>\n",
       "\t<tr><td>0.007038136</td><td>roc_auc</td><td>binary</td><td>0.8147110</td><td>11</td><td>0.009949755</td><td>Preprocessor1_Model26</td></tr>\n",
       "\t<tr><td>0.007609497</td><td>roc_auc</td><td>binary</td><td>0.8134674</td><td>11</td><td>0.010024687</td><td>Preprocessor1_Model27</td></tr>\n",
       "\t<tr><td>0.008227241</td><td>roc_auc</td><td>binary</td><td>0.8123788</td><td>11</td><td>0.010012333</td><td>Preprocessor1_Model28</td></tr>\n",
       "\t<tr><td>0.008895135</td><td>roc_auc</td><td>binary</td><td>0.8113879</td><td>11</td><td>0.010005421</td><td>Preprocessor1_Model29</td></tr>\n",
       "\t<tr><td>0.009617249</td><td>roc_auc</td><td>binary</td><td>0.8101138</td><td>11</td><td>0.009996919</td><td>Preprocessor1_Model30</td></tr>\n",
       "\t<tr><td>0.010397984</td><td>roc_auc</td><td>binary</td><td>0.8087558</td><td>11</td><td>0.010028617</td><td>Preprocessor1_Model31</td></tr>\n",
       "\t<tr><td>0.011242100</td><td>roc_auc</td><td>binary</td><td>0.8074880</td><td>11</td><td>0.010019394</td><td>Preprocessor1_Model32</td></tr>\n",
       "\t<tr><td>0.012154743</td><td>roc_auc</td><td>binary</td><td>0.8061849</td><td>11</td><td>0.010059390</td><td>Preprocessor1_Model33</td></tr>\n",
       "\t<tr><td>0.013141474</td><td>roc_auc</td><td>binary</td><td>0.8047959</td><td>11</td><td>0.010160822</td><td>Preprocessor1_Model34</td></tr>\n",
       "\t<tr><td>0.014208308</td><td>roc_auc</td><td>binary</td><td>0.8032147</td><td>11</td><td>0.010266162</td><td>Preprocessor1_Model35</td></tr>\n",
       "\t<tr><td>0.015361749</td><td>roc_auc</td><td>binary</td><td>0.8015229</td><td>11</td><td>0.010391046</td><td>Preprocessor1_Model36</td></tr>\n",
       "\t<tr><td>0.016608828</td><td>roc_auc</td><td>binary</td><td>0.7997100</td><td>11</td><td>0.010502117</td><td>Preprocessor1_Model37</td></tr>\n",
       "\t<tr><td>0.017957145</td><td>roc_auc</td><td>binary</td><td>0.7980010</td><td>11</td><td>0.010688475</td><td>Preprocessor1_Model38</td></tr>\n",
       "\t<tr><td>0.019414919</td><td>roc_auc</td><td>binary</td><td>0.7959741</td><td>11</td><td>0.010945555</td><td>Preprocessor1_Model39</td></tr>\n",
       "\t<tr><td>0.020991037</td><td>roc_auc</td><td>binary</td><td>0.7934861</td><td>11</td><td>0.011102913</td><td>Preprocessor1_Model40</td></tr>\n",
       "</tbody>\n",
       "</table>\n"
      ],
      "text/latex": [
       "A tibble: 40 × 7\n",
       "\\begin{tabular}{lllllll}\n",
       " penalty & .metric & .estimator & mean & n & std\\_err & .config\\\\\n",
       " <dbl> & <chr> & <chr> & <dbl> & <int> & <dbl> & <chr>\\\\\n",
       "\\hline\n",
       "\t 0.001366448 & roc\\_auc & binary & 0.8258196 & 11 & 0.009535705 & Preprocessor1\\_Model05\\\\\n",
       "\t 0.001477378 & roc\\_auc & binary & 0.8257845 & 11 & 0.009515364 & Preprocessor1\\_Model06\\\\\n",
       "\t 0.001263848 & roc\\_auc & binary & 0.8257275 & 11 & 0.009592984 & Preprocessor1\\_Model04\\\\\n",
       "\t 0.001597312 & roc\\_auc & binary & 0.8257272 & 11 & 0.009458523 & Preprocessor1\\_Model07\\\\\n",
       "\t 0.002018760 & roc\\_auc & binary & 0.8256708 & 11 & 0.009339033 & Preprocessor1\\_Model10\\\\\n",
       "\t 0.001726983 & roc\\_auc & binary & 0.8256594 & 11 & 0.009412263 & Preprocessor1\\_Model08\\\\\n",
       "\t 0.002182645 & roc\\_auc & binary & 0.8255969 & 11 & 0.009288474 & Preprocessor1\\_Model11\\\\\n",
       "\t 0.001081181 & roc\\_auc & binary & 0.8255728 & 11 & 0.009662519 & Preprocessor1\\_Model02\\\\\n",
       "\t 0.001867181 & roc\\_auc & binary & 0.8255571 & 11 & 0.009392231 & Preprocessor1\\_Model09\\\\\n",
       "\t 0.001168952 & roc\\_auc & binary & 0.8255350 & 11 & 0.009660430 & Preprocessor1\\_Model03\\\\\n",
       "\t 0.002359833 & roc\\_auc & binary & 0.8253687 & 11 & 0.009268146 & Preprocessor1\\_Model12\\\\\n",
       "\t 0.001000000 & roc\\_auc & binary & 0.8253214 & 11 & 0.009738142 & Preprocessor1\\_Model01\\\\\n",
       "\t 0.002551407 & roc\\_auc & binary & 0.8251034 & 11 & 0.009265850 & Preprocessor1\\_Model13\\\\\n",
       "\t 0.002758532 & roc\\_auc & binary & 0.8248621 & 11 & 0.009251697 & Preprocessor1\\_Model14\\\\\n",
       "\t 0.002982471 & roc\\_auc & binary & 0.8245478 & 11 & 0.009248146 & Preprocessor1\\_Model15\\\\\n",
       "\t 0.003224591 & roc\\_auc & binary & 0.8240364 & 11 & 0.009231498 & Preprocessor1\\_Model16\\\\\n",
       "\t 0.003486365 & roc\\_auc & binary & 0.8234969 & 11 & 0.009246568 & Preprocessor1\\_Model17\\\\\n",
       "\t 0.003769391 & roc\\_auc & binary & 0.8228832 & 11 & 0.009341728 & Preprocessor1\\_Model18\\\\\n",
       "\t 0.004075393 & roc\\_auc & binary & 0.8221162 & 11 & 0.009416956 & Preprocessor1\\_Model19\\\\\n",
       "\t 0.004406236 & roc\\_auc & binary & 0.8213755 & 11 & 0.009409102 & Preprocessor1\\_Model20\\\\\n",
       "\t 0.004763938 & roc\\_auc & binary & 0.8204067 & 11 & 0.009482220 & Preprocessor1\\_Model21\\\\\n",
       "\t 0.005150678 & roc\\_auc & binary & 0.8193919 & 11 & 0.009520789 & Preprocessor1\\_Model22\\\\\n",
       "\t 0.005568814 & roc\\_auc & binary & 0.8184362 & 11 & 0.009631605 & Preprocessor1\\_Model23\\\\\n",
       "\t 0.006020894 & roc\\_auc & binary & 0.8173294 & 11 & 0.009740647 & Preprocessor1\\_Model24\\\\\n",
       "\t 0.006509675 & roc\\_auc & binary & 0.8160548 & 11 & 0.009855714 & Preprocessor1\\_Model25\\\\\n",
       "\t 0.007038136 & roc\\_auc & binary & 0.8147110 & 11 & 0.009949755 & Preprocessor1\\_Model26\\\\\n",
       "\t 0.007609497 & roc\\_auc & binary & 0.8134674 & 11 & 0.010024687 & Preprocessor1\\_Model27\\\\\n",
       "\t 0.008227241 & roc\\_auc & binary & 0.8123788 & 11 & 0.010012333 & Preprocessor1\\_Model28\\\\\n",
       "\t 0.008895135 & roc\\_auc & binary & 0.8113879 & 11 & 0.010005421 & Preprocessor1\\_Model29\\\\\n",
       "\t 0.009617249 & roc\\_auc & binary & 0.8101138 & 11 & 0.009996919 & Preprocessor1\\_Model30\\\\\n",
       "\t 0.010397984 & roc\\_auc & binary & 0.8087558 & 11 & 0.010028617 & Preprocessor1\\_Model31\\\\\n",
       "\t 0.011242100 & roc\\_auc & binary & 0.8074880 & 11 & 0.010019394 & Preprocessor1\\_Model32\\\\\n",
       "\t 0.012154743 & roc\\_auc & binary & 0.8061849 & 11 & 0.010059390 & Preprocessor1\\_Model33\\\\\n",
       "\t 0.013141474 & roc\\_auc & binary & 0.8047959 & 11 & 0.010160822 & Preprocessor1\\_Model34\\\\\n",
       "\t 0.014208308 & roc\\_auc & binary & 0.8032147 & 11 & 0.010266162 & Preprocessor1\\_Model35\\\\\n",
       "\t 0.015361749 & roc\\_auc & binary & 0.8015229 & 11 & 0.010391046 & Preprocessor1\\_Model36\\\\\n",
       "\t 0.016608828 & roc\\_auc & binary & 0.7997100 & 11 & 0.010502117 & Preprocessor1\\_Model37\\\\\n",
       "\t 0.017957145 & roc\\_auc & binary & 0.7980010 & 11 & 0.010688475 & Preprocessor1\\_Model38\\\\\n",
       "\t 0.019414919 & roc\\_auc & binary & 0.7959741 & 11 & 0.010945555 & Preprocessor1\\_Model39\\\\\n",
       "\t 0.020991037 & roc\\_auc & binary & 0.7934861 & 11 & 0.011102913 & Preprocessor1\\_Model40\\\\\n",
       "\\end{tabular}\n"
      ],
      "text/markdown": [
       "\n",
       "A tibble: 40 × 7\n",
       "\n",
       "| penalty &lt;dbl&gt; | .metric &lt;chr&gt; | .estimator &lt;chr&gt; | mean &lt;dbl&gt; | n &lt;int&gt; | std_err &lt;dbl&gt; | .config &lt;chr&gt; |\n",
       "|---|---|---|---|---|---|---|\n",
       "| 0.001366448 | roc_auc | binary | 0.8258196 | 11 | 0.009535705 | Preprocessor1_Model05 |\n",
       "| 0.001477378 | roc_auc | binary | 0.8257845 | 11 | 0.009515364 | Preprocessor1_Model06 |\n",
       "| 0.001263848 | roc_auc | binary | 0.8257275 | 11 | 0.009592984 | Preprocessor1_Model04 |\n",
       "| 0.001597312 | roc_auc | binary | 0.8257272 | 11 | 0.009458523 | Preprocessor1_Model07 |\n",
       "| 0.002018760 | roc_auc | binary | 0.8256708 | 11 | 0.009339033 | Preprocessor1_Model10 |\n",
       "| 0.001726983 | roc_auc | binary | 0.8256594 | 11 | 0.009412263 | Preprocessor1_Model08 |\n",
       "| 0.002182645 | roc_auc | binary | 0.8255969 | 11 | 0.009288474 | Preprocessor1_Model11 |\n",
       "| 0.001081181 | roc_auc | binary | 0.8255728 | 11 | 0.009662519 | Preprocessor1_Model02 |\n",
       "| 0.001867181 | roc_auc | binary | 0.8255571 | 11 | 0.009392231 | Preprocessor1_Model09 |\n",
       "| 0.001168952 | roc_auc | binary | 0.8255350 | 11 | 0.009660430 | Preprocessor1_Model03 |\n",
       "| 0.002359833 | roc_auc | binary | 0.8253687 | 11 | 0.009268146 | Preprocessor1_Model12 |\n",
       "| 0.001000000 | roc_auc | binary | 0.8253214 | 11 | 0.009738142 | Preprocessor1_Model01 |\n",
       "| 0.002551407 | roc_auc | binary | 0.8251034 | 11 | 0.009265850 | Preprocessor1_Model13 |\n",
       "| 0.002758532 | roc_auc | binary | 0.8248621 | 11 | 0.009251697 | Preprocessor1_Model14 |\n",
       "| 0.002982471 | roc_auc | binary | 0.8245478 | 11 | 0.009248146 | Preprocessor1_Model15 |\n",
       "| 0.003224591 | roc_auc | binary | 0.8240364 | 11 | 0.009231498 | Preprocessor1_Model16 |\n",
       "| 0.003486365 | roc_auc | binary | 0.8234969 | 11 | 0.009246568 | Preprocessor1_Model17 |\n",
       "| 0.003769391 | roc_auc | binary | 0.8228832 | 11 | 0.009341728 | Preprocessor1_Model18 |\n",
       "| 0.004075393 | roc_auc | binary | 0.8221162 | 11 | 0.009416956 | Preprocessor1_Model19 |\n",
       "| 0.004406236 | roc_auc | binary | 0.8213755 | 11 | 0.009409102 | Preprocessor1_Model20 |\n",
       "| 0.004763938 | roc_auc | binary | 0.8204067 | 11 | 0.009482220 | Preprocessor1_Model21 |\n",
       "| 0.005150678 | roc_auc | binary | 0.8193919 | 11 | 0.009520789 | Preprocessor1_Model22 |\n",
       "| 0.005568814 | roc_auc | binary | 0.8184362 | 11 | 0.009631605 | Preprocessor1_Model23 |\n",
       "| 0.006020894 | roc_auc | binary | 0.8173294 | 11 | 0.009740647 | Preprocessor1_Model24 |\n",
       "| 0.006509675 | roc_auc | binary | 0.8160548 | 11 | 0.009855714 | Preprocessor1_Model25 |\n",
       "| 0.007038136 | roc_auc | binary | 0.8147110 | 11 | 0.009949755 | Preprocessor1_Model26 |\n",
       "| 0.007609497 | roc_auc | binary | 0.8134674 | 11 | 0.010024687 | Preprocessor1_Model27 |\n",
       "| 0.008227241 | roc_auc | binary | 0.8123788 | 11 | 0.010012333 | Preprocessor1_Model28 |\n",
       "| 0.008895135 | roc_auc | binary | 0.8113879 | 11 | 0.010005421 | Preprocessor1_Model29 |\n",
       "| 0.009617249 | roc_auc | binary | 0.8101138 | 11 | 0.009996919 | Preprocessor1_Model30 |\n",
       "| 0.010397984 | roc_auc | binary | 0.8087558 | 11 | 0.010028617 | Preprocessor1_Model31 |\n",
       "| 0.011242100 | roc_auc | binary | 0.8074880 | 11 | 0.010019394 | Preprocessor1_Model32 |\n",
       "| 0.012154743 | roc_auc | binary | 0.8061849 | 11 | 0.010059390 | Preprocessor1_Model33 |\n",
       "| 0.013141474 | roc_auc | binary | 0.8047959 | 11 | 0.010160822 | Preprocessor1_Model34 |\n",
       "| 0.014208308 | roc_auc | binary | 0.8032147 | 11 | 0.010266162 | Preprocessor1_Model35 |\n",
       "| 0.015361749 | roc_auc | binary | 0.8015229 | 11 | 0.010391046 | Preprocessor1_Model36 |\n",
       "| 0.016608828 | roc_auc | binary | 0.7997100 | 11 | 0.010502117 | Preprocessor1_Model37 |\n",
       "| 0.017957145 | roc_auc | binary | 0.7980010 | 11 | 0.010688475 | Preprocessor1_Model38 |\n",
       "| 0.019414919 | roc_auc | binary | 0.7959741 | 11 | 0.010945555 | Preprocessor1_Model39 |\n",
       "| 0.020991037 | roc_auc | binary | 0.7934861 | 11 | 0.011102913 | Preprocessor1_Model40 |\n",
       "\n"
      ],
      "text/plain": [
       "   penalty     .metric .estimator mean      n  std_err    \n",
       "1  0.001366448 roc_auc binary     0.8258196 11 0.009535705\n",
       "2  0.001477378 roc_auc binary     0.8257845 11 0.009515364\n",
       "3  0.001263848 roc_auc binary     0.8257275 11 0.009592984\n",
       "4  0.001597312 roc_auc binary     0.8257272 11 0.009458523\n",
       "5  0.002018760 roc_auc binary     0.8256708 11 0.009339033\n",
       "6  0.001726983 roc_auc binary     0.8256594 11 0.009412263\n",
       "7  0.002182645 roc_auc binary     0.8255969 11 0.009288474\n",
       "8  0.001081181 roc_auc binary     0.8255728 11 0.009662519\n",
       "9  0.001867181 roc_auc binary     0.8255571 11 0.009392231\n",
       "10 0.001168952 roc_auc binary     0.8255350 11 0.009660430\n",
       "11 0.002359833 roc_auc binary     0.8253687 11 0.009268146\n",
       "12 0.001000000 roc_auc binary     0.8253214 11 0.009738142\n",
       "13 0.002551407 roc_auc binary     0.8251034 11 0.009265850\n",
       "14 0.002758532 roc_auc binary     0.8248621 11 0.009251697\n",
       "15 0.002982471 roc_auc binary     0.8245478 11 0.009248146\n",
       "16 0.003224591 roc_auc binary     0.8240364 11 0.009231498\n",
       "17 0.003486365 roc_auc binary     0.8234969 11 0.009246568\n",
       "18 0.003769391 roc_auc binary     0.8228832 11 0.009341728\n",
       "19 0.004075393 roc_auc binary     0.8221162 11 0.009416956\n",
       "20 0.004406236 roc_auc binary     0.8213755 11 0.009409102\n",
       "21 0.004763938 roc_auc binary     0.8204067 11 0.009482220\n",
       "22 0.005150678 roc_auc binary     0.8193919 11 0.009520789\n",
       "23 0.005568814 roc_auc binary     0.8184362 11 0.009631605\n",
       "24 0.006020894 roc_auc binary     0.8173294 11 0.009740647\n",
       "25 0.006509675 roc_auc binary     0.8160548 11 0.009855714\n",
       "26 0.007038136 roc_auc binary     0.8147110 11 0.009949755\n",
       "27 0.007609497 roc_auc binary     0.8134674 11 0.010024687\n",
       "28 0.008227241 roc_auc binary     0.8123788 11 0.010012333\n",
       "29 0.008895135 roc_auc binary     0.8113879 11 0.010005421\n",
       "30 0.009617249 roc_auc binary     0.8101138 11 0.009996919\n",
       "31 0.010397984 roc_auc binary     0.8087558 11 0.010028617\n",
       "32 0.011242100 roc_auc binary     0.8074880 11 0.010019394\n",
       "33 0.012154743 roc_auc binary     0.8061849 11 0.010059390\n",
       "34 0.013141474 roc_auc binary     0.8047959 11 0.010160822\n",
       "35 0.014208308 roc_auc binary     0.8032147 11 0.010266162\n",
       "36 0.015361749 roc_auc binary     0.8015229 11 0.010391046\n",
       "37 0.016608828 roc_auc binary     0.7997100 11 0.010502117\n",
       "38 0.017957145 roc_auc binary     0.7980010 11 0.010688475\n",
       "39 0.019414919 roc_auc binary     0.7959741 11 0.010945555\n",
       "40 0.020991037 roc_auc binary     0.7934861 11 0.011102913\n",
       "   .config              \n",
       "1  Preprocessor1_Model05\n",
       "2  Preprocessor1_Model06\n",
       "3  Preprocessor1_Model04\n",
       "4  Preprocessor1_Model07\n",
       "5  Preprocessor1_Model10\n",
       "6  Preprocessor1_Model08\n",
       "7  Preprocessor1_Model11\n",
       "8  Preprocessor1_Model02\n",
       "9  Preprocessor1_Model09\n",
       "10 Preprocessor1_Model03\n",
       "11 Preprocessor1_Model12\n",
       "12 Preprocessor1_Model01\n",
       "13 Preprocessor1_Model13\n",
       "14 Preprocessor1_Model14\n",
       "15 Preprocessor1_Model15\n",
       "16 Preprocessor1_Model16\n",
       "17 Preprocessor1_Model17\n",
       "18 Preprocessor1_Model18\n",
       "19 Preprocessor1_Model19\n",
       "20 Preprocessor1_Model20\n",
       "21 Preprocessor1_Model21\n",
       "22 Preprocessor1_Model22\n",
       "23 Preprocessor1_Model23\n",
       "24 Preprocessor1_Model24\n",
       "25 Preprocessor1_Model25\n",
       "26 Preprocessor1_Model26\n",
       "27 Preprocessor1_Model27\n",
       "28 Preprocessor1_Model28\n",
       "29 Preprocessor1_Model29\n",
       "30 Preprocessor1_Model30\n",
       "31 Preprocessor1_Model31\n",
       "32 Preprocessor1_Model32\n",
       "33 Preprocessor1_Model33\n",
       "34 Preprocessor1_Model34\n",
       "35 Preprocessor1_Model35\n",
       "36 Preprocessor1_Model36\n",
       "37 Preprocessor1_Model37\n",
       "38 Preprocessor1_Model38\n",
       "39 Preprocessor1_Model39\n",
       "40 Preprocessor1_Model40"
      ]
     },
     "metadata": {},
     "output_type": "display_data"
    }
   ],
   "source": [
    "top20_models <-\n",
    "  logis_res %>% \n",
    "  show_best(\"roc_auc\", n = 40) %>% \n",
    "  arrange(desc(mean))\n",
    "  \n",
    "\n",
    "top20_models"
   ]
  },
  {
   "cell_type": "markdown",
   "metadata": {},
   "source": [
    "- show_best() displays the top sub-models and their performance estimates.\n",
    "\n",
    "#### Set the best model (glmnet)"
   ]
  },
  {
   "cell_type": "code",
   "execution_count": null,
   "metadata": {
    "vscode": {
     "languageId": "r"
    }
   },
   "outputs": [
    {
     "data": {
      "text/html": [
       "<table class=\"dataframe\">\n",
       "<caption>A tibble: 1 × 7</caption>\n",
       "<thead>\n",
       "\t<tr><th scope=col>penalty</th><th scope=col>.metric</th><th scope=col>.estimator</th><th scope=col>mean</th><th scope=col>n</th><th scope=col>std_err</th><th scope=col>.config</th></tr>\n",
       "\t<tr><th scope=col>&lt;dbl&gt;</th><th scope=col>&lt;chr&gt;</th><th scope=col>&lt;chr&gt;</th><th scope=col>&lt;dbl&gt;</th><th scope=col>&lt;int&gt;</th><th scope=col>&lt;dbl&gt;</th><th scope=col>&lt;chr&gt;</th></tr>\n",
       "</thead>\n",
       "<tbody>\n",
       "\t<tr><td>0.00201876</td><td>roc_auc</td><td>binary</td><td>0.8256708</td><td>11</td><td>0.009339033</td><td>Preprocessor1_Model10</td></tr>\n",
       "</tbody>\n",
       "</table>\n"
      ],
      "text/latex": [
       "A tibble: 1 × 7\n",
       "\\begin{tabular}{lllllll}\n",
       " penalty & .metric & .estimator & mean & n & std\\_err & .config\\\\\n",
       " <dbl> & <chr> & <chr> & <dbl> & <int> & <dbl> & <chr>\\\\\n",
       "\\hline\n",
       "\t 0.00201876 & roc\\_auc & binary & 0.8256708 & 11 & 0.009339033 & Preprocessor1\\_Model10\\\\\n",
       "\\end{tabular}\n"
      ],
      "text/markdown": [
       "\n",
       "A tibble: 1 × 7\n",
       "\n",
       "| penalty &lt;dbl&gt; | .metric &lt;chr&gt; | .estimator &lt;chr&gt; | mean &lt;dbl&gt; | n &lt;int&gt; | std_err &lt;dbl&gt; | .config &lt;chr&gt; |\n",
       "|---|---|---|---|---|---|---|\n",
       "| 0.00201876 | roc_auc | binary | 0.8256708 | 11 | 0.009339033 | Preprocessor1_Model10 |\n",
       "\n"
      ],
      "text/plain": [
       "  penalty    .metric .estimator mean      n  std_err     .config              \n",
       "1 0.00201876 roc_auc binary     0.8256708 11 0.009339033 Preprocessor1_Model10"
      ]
     },
     "metadata": {},
     "output_type": "display_data"
    }
   ],
   "source": [
    "logis_best <- \n",
    "  logis_res %>% \n",
    "  show_best() %>% \n",
    "  arrange(desc(mean)) %>%\n",
    "  dplyr::slice(5)\n",
    "\n",
    "logis_best"
   ]
  },
  {
   "cell_type": "markdown",
   "metadata": {},
   "source": [
    "#### ROC Curve (glmnet)"
   ]
  },
  {
   "cell_type": "code",
   "execution_count": null,
   "metadata": {
    "vscode": {
     "languageId": "r"
    }
   },
   "outputs": [
    {
     "data": {
      "image/png": "[encoded data removed]",
      "text/plain": [
       "plot without title"
      ]
     },
     "metadata": {
      "image/png": {
       "height": 420,
       "width": 420
      }
     },
     "output_type": "display_data"
    }
   ],
   "source": [
    "logis_auc <- \n",
    "  logis_res %>% \n",
    "  collect_predictions(parameters = logis_best) %>% \n",
    "  roc_curve(attrition, .pred_Yes) %>% \n",
    "  mutate(model = \"Logistic Regression\")\n",
    "\n",
    "autoplot(logis_auc)"
   ]
  },
  {
   "cell_type": "markdown",
   "metadata": {},
   "source": [
    "### Second Model: Tree-Based Random Forest\n",
    "\n",
    "\n",
    "#### Create the RF Recipe"
   ]
  },
  {
   "cell_type": "code",
   "execution_count": null,
   "metadata": {
    "vscode": {
     "languageId": "r"
    }
   },
   "outputs": [],
   "source": [
    "rf_rec <- \n",
    "  recipe(attrition ~ ., data = train_data) %>%\n",
    "  step_dummy(all_nominal_predictors()) %>%\n",
    "  step_zv(all_numeric()) %>%\n",
    "  step_smote(attrition, over_ratio = 0.9, seed = 31967) %>%\n",
    "  step_normalize(all_numeric()) \n",
    "\n",
    "rf_rec_prep <- rf_rec %>% prep() %>% juice()"
   ]
  },
  {
   "cell_type": "markdown",
   "metadata": {},
   "source": [
    "#### Build the RF Model"
   ]
  },
  {
   "cell_type": "code",
   "execution_count": null,
   "metadata": {
    "vscode": {
     "languageId": "r"
    }
   },
   "outputs": [],
   "source": [
    "rf_mod <- \n",
    "  rand_forest(mtry = tune(), \n",
    "              min_n = tune(),\n",
    "              trees = tune()\n",
    "              ) %>% \n",
    "  set_engine(\"ranger\",  importance = \"impurity\") %>% \n",
    "  set_mode(\"classification\")"
   ]
  },
  {
   "cell_type": "markdown",
   "metadata": {},
   "source": [
    "#### Create the RF worklow"
   ]
  },
  {
   "cell_type": "code",
   "execution_count": null,
   "metadata": {
    "vscode": {
     "languageId": "r"
    }
   },
   "outputs": [],
   "source": [
    "rf_workflow <- \n",
    "  workflow() %>% \n",
    "  add_model(rf_mod) %>% \n",
    "  add_recipe(rf_rec) "
   ]
  },
  {
   "cell_type": "markdown",
   "metadata": {},
   "source": [
    "#### Train and tune the RF model\n",
    "\n",
    "Let's use grid = 20 without thinking of the best values of mtry, min_n and trees."
   ]
  },
  {
   "cell_type": "code",
   "execution_count": null,
   "metadata": {
    "vscode": {
     "languageId": "r"
    }
   },
   "outputs": [
    {
     "name": "stderr",
     "output_type": "stream",
     "text": [
      "Warning message:\n",
      "\"package 'ranger' was built under R version 4.3.1\"\n"
     ]
    },
    {
     "ename": "",
     "evalue": "",
     "output_type": "error",
     "traceback": [
      "\u001b[1;31mCannot execute code, session has been disposed. Please try restarting the Kernel."
     ]
    },
    {
     "ename": "",
     "evalue": "",
     "output_type": "error",
     "traceback": [
      "\u001b[1;31mThe Kernel crashed while executing code in the the current cell or a previous cell. Please review the code in the cell(s) to identify a possible cause of the failure. Click <a href='https://aka.ms/vscodeJupyterKernelCrash'>here</a> for more info. View Jupyter <a href='command:jupyter.viewOutput'>log</a> for further details."
     ]
    }
   ],
   "source": [
    "set.seed(31967)\n",
    "\n",
    "rf_res <- \n",
    "  rf_workflow %>% \n",
    "  tune_grid(boot_strap,\n",
    "            grid = 1,\n",
    "            control = control_grid(save_pred = TRUE),\n",
    "            metrics = metric_set(roc_auc))\n",
    "\n",
    "rf_res %>% \n",
    "  unnest(.metrics) %>% \n",
    "  arrange(desc(.estimate))"
   ]
  },
  {
   "cell_type": "markdown",
   "metadata": {},
   "source": [
    "#### Find the best RF Model"
   ]
  },
  {
   "cell_type": "code",
   "execution_count": null,
   "metadata": {
    "vscode": {
     "languageId": "r"
    }
   },
   "outputs": [],
   "source": [
    "rf_res %>% \n",
    "  show_best(metric = \"roc_auc\")"
   ]
  },
  {
   "cell_type": "markdown",
   "metadata": {},
   "source": [
    "#### ROC AUC Plot VS mtry, min_n and trees"
   ]
  },
  {
   "cell_type": "code",
   "execution_count": null,
   "metadata": {
    "vscode": {
     "languageId": "r"
    }
   },
   "outputs": [],
   "source": [
    "rf_res %>%\n",
    "  collect_metrics() %>%\n",
    "  filter(.metric == \"roc_auc\") %>%\n",
    "  select(mean, min_n, mtry, trees) %>%\n",
    "  pivot_longer(cols = c(mtry, min_n,trees),\n",
    "    values_to = \"value\",\n",
    "    names_to = \"parameter\"\n",
    "  ) %>%\n",
    "  ggplot(aes(value, mean, color = parameter)) +\n",
    "  geom_point(show.legend = FALSE, size = 2) +\n",
    "  facet_wrap(~parameter, scales = \"free_x\") +\n",
    "  theme(\n",
    "        legend.position = \"right\",\n",
    "        strip.background = element_rect(fill = \"#483248\"),\n",
    "        strip.text = element_text(color = \"white\", face = \"bold\", size = 10),\n",
    "        plot.background = element_rect(colour = \"gray\"),\n",
    "        plot.title.position = \"panel\",\n",
    "        plot.title = element_text(size = 10, hjust = 0.5),\n",
    "        plot.subtitle = element_text(size = 8),\n",
    "        plot.caption.position = \"plot\",\n",
    "        plot.caption = element_text(size = 6, color = \"grey\"),\n",
    "        axis.text.y = element_text(size = 6)\n",
    "      ) +\n",
    "  labs(title = \"The metrics for all models\",\n",
    "       x = NULL,\n",
    "       y = \"AUC\")"
   ]
  },
  {
   "cell_type": "markdown",
   "metadata": {},
   "source": [
    "By this grid we can get an idea of what is going on with the value of mtry, min_n and trees. It looks like lower values of mtry are good (below about 10) and higher values of min_n are good (above about 25).\n",
    "\n",
    "#### Select the best RF Model"
   ]
  },
  {
   "cell_type": "code",
   "execution_count": null,
   "metadata": {
    "vscode": {
     "languageId": "r"
    }
   },
   "outputs": [],
   "source": [
    "rf_best <- \n",
    "  rf_res %>% \n",
    "  select_best(metric = \"roc_auc\")\n",
    "rf_best"
   ]
  },
  {
   "cell_type": "markdown",
   "metadata": {},
   "source": [
    "#### Finalize RF workflow"
   ]
  },
  {
   "cell_type": "code",
   "execution_count": null,
   "metadata": {
    "vscode": {
     "languageId": "r"
    }
   },
   "outputs": [],
   "source": [
    " finalize_workflow(\n",
    "  rf_workflow,\n",
    "  rf_best\n",
    ")"
   ]
  },
  {
   "cell_type": "markdown",
   "metadata": {},
   "source": [
    "#### Collect Predictions"
   ]
  },
  {
   "cell_type": "code",
   "execution_count": null,
   "metadata": {
    "vscode": {
     "languageId": "r"
    }
   },
   "outputs": [],
   "source": [
    "rf_res %>% \n",
    "  collect_predictions()"
   ]
  },
  {
   "cell_type": "markdown",
   "metadata": {},
   "source": [
    "#### Create the ROC Curve Data"
   ]
  },
  {
   "cell_type": "code",
   "execution_count": null,
   "metadata": {
    "vscode": {
     "languageId": "r"
    }
   },
   "outputs": [],
   "source": [
    "rf_auc <- \n",
    "  rf_res %>% \n",
    "  collect_predictions(parameters = rf_best) %>% \n",
    "  roc_curve(attrition, .pred_Yes) %>% \n",
    "  mutate(model = \"Random Forest\")"
   ]
  },
  {
   "cell_type": "markdown",
   "metadata": {},
   "source": [
    "#### Plot ROC Curve logistic regression VS RF\n",
    "\n",
    "- The ROC curve shows the trade-off between sensitivity and specificity.\n",
    "- Classifiers that give curves closer to the top-left corner indicate a better performance. \n",
    "- The closer the curve comes to the 45-degree diagonal of the ROC space, the less accurate the test."
   ]
  },
  {
   "cell_type": "code",
   "execution_count": null,
   "metadata": {
    "vscode": {
     "languageId": "r"
    }
   },
   "outputs": [],
   "source": [
    "bind_rows(rf_auc, logis_auc) %>% \n",
    "  ggplot(aes(x = 1 - specificity, y = sensitivity, col = model)) + \n",
    "  geom_path(lwd = 1.5, alpha = 0.8) +\n",
    "  geom_abline(lty = 3) + \n",
    "  coord_equal() + \n",
    "  scale_color_viridis_d(option = \"plasma\", end = .6)"
   ]
  },
  {
   "cell_type": "markdown",
   "metadata": {},
   "source": [
    "It looks like Logistic regression model is doing better than Rondom forest model, we have to be cautious about this statement.\n",
    "\n",
    "The final fit will tell us what is going on.\n",
    "\n",
    "### Final Logistic Regression Fit"
   ]
  },
  {
   "cell_type": "code",
   "execution_count": null,
   "metadata": {
    "vscode": {
     "languageId": "r"
    }
   },
   "outputs": [],
   "source": [
    "set.seed(31967)\n",
    "final_logis_res <-\n",
    "  logis_workflow %>%\n",
    "  finalize_workflow(logis_best) %>%\n",
    "  last_fit(HrAtt_data_split)\n",
    "\n",
    "final_logis_res "
   ]
  },
  {
   "cell_type": "markdown",
   "metadata": {},
   "source": [
    "#### Collect Metrics Logistic Regression"
   ]
  },
  {
   "cell_type": "code",
   "execution_count": null,
   "metadata": {
    "vscode": {
     "languageId": "r"
    }
   },
   "outputs": [],
   "source": [
    "collect_metrics(final_logis_res)\n",
    "\n",
    "confusion_matrix_logis <- collect_predictions(final_logis_res) %>%\n",
    "  conf_mat(attrition, .pred_class)"
   ]
  },
  {
   "cell_type": "markdown",
   "metadata": {},
   "source": [
    "#### Confusion Matrix Logistic Regression "
   ]
  },
  {
   "cell_type": "code",
   "execution_count": null,
   "metadata": {
    "vscode": {
     "languageId": "r"
    }
   },
   "outputs": [],
   "source": [
    "collect_predictions(final_logis_res) %>%\n",
    "  conf_mat(attrition, .pred_class) %>%\n",
    "pluck(1) %>%\n",
    "  as_tibble() %>%\n",
    "  ggplot(aes(Truth, Prediction, alpha = n)) +\n",
    "  geom_tile(show.legend = FALSE, fill = \"orange\") +\n",
    "  geom_text(aes(label = n), colour = \"#2F423D\", alpha = 1, size = 7) +\n",
    "  scale_x_discrete(position = \"top\", limits = c(\"Yes\",\"No\"))"
   ]
  },
  {
   "cell_type": "markdown",
   "metadata": {},
   "source": [
    "#### Accuracy Logistic Regression "
   ]
  },
  {
   "cell_type": "code",
   "execution_count": null,
   "metadata": {
    "vscode": {
     "languageId": "r"
    }
   },
   "outputs": [],
   "source": [
    "collect_predictions(final_logis_res) %>%\n",
    "  metrics(attrition, .pred_class) %>%\n",
    "  select(-.estimator) %>%\n",
    "  filter(.metric == \"accuracy\") "
   ]
  },
  {
   "cell_type": "markdown",
   "metadata": {},
   "source": [
    "#### Confusion Matrix Logis Summary "
   ]
  },
  {
   "cell_type": "markdown",
   "metadata": {},
   "source": [
    "summary(confusion_matrix_logis)"
   ]
  },
  {
   "cell_type": "markdown",
   "metadata": {},
   "source": [
    "Actually, I liked this result especially Kappa in pretty nice. sensitivity and specificity are somehow balanced, although the npv is higher than ppv.\n",
    "\n",
    "Now let's move to Random Forest Final fit\n",
    "\n",
    "### Final RF Fit"
   ]
  },
  {
   "cell_type": "code",
   "execution_count": null,
   "metadata": {
    "vscode": {
     "languageId": "r"
    }
   },
   "outputs": [],
   "source": [
    "set.seed(31967)\n",
    "\n",
    "final_rf_fit <-\n",
    "  rf_workflow %>%\n",
    "  finalize_workflow(rf_best) %>%\n",
    "  last_fit(HrAtt_data_split)\n",
    "\n",
    "final_rf_fit"
   ]
  },
  {
   "cell_type": "markdown",
   "metadata": {},
   "source": [
    "#### Collect Metrics RF"
   ]
  },
  {
   "cell_type": "code",
   "execution_count": null,
   "metadata": {
    "vscode": {
     "languageId": "r"
    }
   },
   "outputs": [],
   "source": [
    "collect_metrics(final_rf_fit)\n",
    "\n",
    "cunfusion_matrix_rf <- collect_predictions(final_rf_fit) %>%\n",
    "  conf_mat(attrition, .pred_class)"
   ]
  },
  {
   "cell_type": "markdown",
   "metadata": {},
   "source": [
    "#### Confusion Matrix RF"
   ]
  },
  {
   "cell_type": "code",
   "execution_count": null,
   "metadata": {
    "vscode": {
     "languageId": "r"
    }
   },
   "outputs": [],
   "source": [
    "collect_predictions(final_rf_fit) %>%\n",
    "  conf_mat(attrition, .pred_class) %>%\n",
    "pluck(1) %>%\n",
    "  as_tibble() %>%\n",
    "  ggplot(aes(Truth, Prediction, alpha = n)) +\n",
    "  geom_tile(show.legend = FALSE, fill = \"orange\") +\n",
    "  geom_text(aes(label = n), colour = \"#2F423D\", alpha = 1, size = 7) +\n",
    "  scale_x_discrete(position = \"top\", limits = c(\"Yes\",\"No\"))"
   ]
  },
  {
   "cell_type": "markdown",
   "metadata": {},
   "source": [
    "#### Accuracy RF"
   ]
  },
  {
   "cell_type": "code",
   "execution_count": null,
   "metadata": {
    "vscode": {
     "languageId": "r"
    }
   },
   "outputs": [],
   "source": [
    "collect_predictions(final_rf_fit) %>%\n",
    "  metrics(attrition, .pred_class) %>%\n",
    "  select(-.estimator) %>%\n",
    "  filter(.metric == \"accuracy\") "
   ]
  },
  {
   "cell_type": "markdown",
   "metadata": {},
   "source": [
    "#### Final RF ROC Curve"
   ]
  },
  {
   "cell_type": "code",
   "execution_count": null,
   "metadata": {
    "vscode": {
     "languageId": "r"
    }
   },
   "outputs": [],
   "source": [
    "final_rf_auc <- \n",
    "  rf_res %>% \n",
    "  collect_predictions(parameters = rf_best) %>% \n",
    "  roc_curve(attrition, .pred_Yes)\n",
    "\n",
    "\n",
    "\n",
    "final_rf_auc %>%\n",
    "  ggplot(aes(x = 1 - specificity, y = sensitivity)) +\n",
    "  geom_path(lwd = 1, alpha = 0.8) +\n",
    "  geom_abline(lty = 3) +\n",
    "  coord_equal() +\n",
    "  theme(\n",
    "    legend.position = \"top\",\n",
    "    plot.background = element_rect(colour = \"steelblue\", fill = \"#825654\"),\n",
    "    panel.background = element_rect(colour = \"steelblue\", fill = \"#825654\"),\n",
    "    plot.title.position = \"panel\",\n",
    "    plot.title = element_text(\n",
    "      size = 18,\n",
    "      hjust = 0.5,\n",
    "      color = \"white\"\n",
    "    ),\n",
    "    plot.subtitle = element_text(size = 8),\n",
    "    plot.caption.position = \"plot\",\n",
    "    plot.caption = element_text(size = 10, color = \"grey\"),\n",
    "    axis.ticks.x = element_blank(),\n",
    "    axis.text = element_text(size = 10, color = \"White\"),\n",
    "    axis.title = element_text(size = 10, color = \"White\")\n",
    "  ) +\n",
    "  labs(\n",
    "    title = \"Final ROC Curve (Random Forest)\",\n",
    "    x = \"False Positive Rate (1-Specificity)\",\n",
    "    y = \"True Positive Rate (Sensitivity)\",\n",
    "    color = NULL\n",
    "  )"
   ]
  },
  {
   "cell_type": "markdown",
   "metadata": {},
   "source": [
    "#### Confusion Matrix RF Summary "
   ]
  },
  {
   "cell_type": "code",
   "execution_count": null,
   "metadata": {
    "vscode": {
     "languageId": "r"
    }
   },
   "outputs": [],
   "source": [
    "summary(cunfusion_matrix_rf)\n",
    "\n",
    "kappa <- summary(cunfusion_matrix_rf) %>%\n",
    "  filter(.metric == \"kap\") %>% \n",
    "  select(.estimate) %>%\n",
    "  pull() %>%\n",
    "  round(3)"
   ]
  },
  {
   "cell_type": "markdown",
   "metadata": {},
   "source": [
    "RF model is better in predicting the attrition NO and weak in predicting attrition YES, this is the effect of imbalanced target variable. I'm sure we can improve it more by training the model more.\n",
    "or use another engine, but for now it is OK!\n",
    "\n",
    "- Kappa `r kappa` need to work on it to be improved.\n",
    "\n",
    "#### Plot Variable Importance"
   ]
  },
  {
   "cell_type": "code",
   "execution_count": null,
   "metadata": {
    "vscode": {
     "languageId": "r"
    }
   },
   "outputs": [],
   "source": [
    "final_rf_fit %>% \n",
    "  pluck(\".workflow\", 1) %>%   \n",
    "  pull_workflow_fit() %>%\n",
    "  vip(num_features = 20, geom = \"col\", horizontal = TRUE, \n",
    "    aesthetics = list(color = \"black\", fill = \"#900B4D\", size = 0.5)) +\n",
    "      theme(\n",
    "        plot.background = element_rect(fill = \"#ECDF7C\"),\n",
    "        plot.title.position = \"panel\",\n",
    "        plot.title = element_text(size = 18, hjust = 0.5),\n",
    "        plot.caption.position = \"plot\",\n",
    "        plot.caption = element_text(size = 8, color = \"grey\"),\n",
    "        panel.background = element_rect(fill = \"#FEFFF7\"),\n",
    "        panel.grid = element_blank(),\n",
    "        axis.ticks.x = element_blank(),\n",
    "        axis.text = element_text(size = 12),\n",
    "        axis.title = element_text(size = 14)\n",
    "      ) +\n",
    "  labs(\n",
    "    title = \"Variable Importance\",\n",
    "    caption = \"Data Source: Kaggle IBM HR Employee Attrition\",\n",
    "    x = \"Variables\",\n",
    "    y = \"Importance\"\n",
    "  )\n",
    "\n",
    "final_rf_fit %>% \n",
    "  pluck(\".workflow\", 1) %>%   \n",
    "  pull_workflow_fit() %>% vi(num_features = 20)"
   ]
  },
  {
   "cell_type": "markdown",
   "metadata": {},
   "source": [
    "Mainly the Over-time and stock options level are connected somehow to the Income. \n",
    "\n",
    "The variables \n",
    "- job_satisfaction_X4,\n",
    "- job_involvement_X3 and\n",
    "- environment_satisfaction_X3 are mainly talking about satisfaction which is, in my opinion, the most important factor in determining employee attrition.\n",
    "\n",
    "\n",
    "### Conclusion\n",
    "\n",
    "This Notebook concludes that to reduce attrition organizations should create some opportunities for the growth of their employees within the organizations by adopting new Innovative Technologies and Effective training programs.\n",
    "\n",
    "-   Employee satisfaction is essential to any effective employee retention strategy - any good HR manager knows that. \n",
    "\n",
    "- HR professionals are needed to be flexible in their approach to developing, motivating, and retaining their human resource pool.\n",
    "\n",
    "-   The management should skillfully communicate organization policies to their employee.\n",
    "\n",
    "- To reduce the employee attrition rate, the company has to concentrate more on working conditions and safety measures. \n",
    "\n",
    "- From this Notebook, it is identified that lack of salary is the main factor that forces employees to take more Overtime and then leave their jobs. \n",
    "\n",
    "- To reduce the attrition rate, Organizations should create some opportunities for the growth of their employees and should also think of recruiting people who are in the vicinity of the organization area."
   ]
  }
 ],
 "metadata": {
  "kernelspec": {
   "display_name": "R",
   "language": "R",
   "name": "ir"
  },
  "language_info": {
   "codemirror_mode": "r",
   "file_extension": ".r",
   "mimetype": "text/x-r-source",
   "name": "R",
   "pygments_lexer": "r",
   "version": "4.3.0"
  }
 },
 "nbformat": 4,
 "nbformat_minor": 1
}
